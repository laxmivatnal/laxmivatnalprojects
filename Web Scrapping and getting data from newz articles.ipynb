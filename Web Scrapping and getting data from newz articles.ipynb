{
 "cells": [
  {
   "cell_type": "code",
   "execution_count": 1,
   "id": "9236ecf5",
   "metadata": {},
   "outputs": [],
   "source": [
    "import requests\n",
    "from bs4 import BeautifulSoup"
   ]
  },
  {
   "cell_type": "code",
   "execution_count": 2,
   "id": "c13bd827",
   "metadata": {},
   "outputs": [
    {
     "data": {
      "text/plain": [
       "<Response [200]>"
      ]
     },
     "execution_count": 2,
     "metadata": {},
     "output_type": "execute_result"
    }
   ],
   "source": [
    "url = \"https://www.flipkart.com/haldiram-s-bhujia-sev/p/itmcf7427b395677?pid=SNSETFPYMGJKSHYC&lid=LSTSNSETFPYMGJKSHYCS0WTBS&marketplace=GROCERY&iid=30167079-2563-4fec-8827-cc6a36c4f322.SNSETFPYMGJKSHYC.SEARCH\"\n",
    "requests.get(url)"
   ]
  },
  {
   "cell_type": "code",
   "execution_count": 3,
   "id": "6d8b77a7",
   "metadata": {},
   "outputs": [],
   "source": [
    "data = requests.get(url)"
   ]
  },
  {
   "cell_type": "code",
   "execution_count": 4,
   "id": "0e036d16",
   "metadata": {},
   "outputs": [],
   "source": [
    "bs = BeautifulSoup(data.content)"
   ]
  },
  {
   "cell_type": "code",
   "execution_count": 5,
   "id": "47a524c1",
   "metadata": {},
   "outputs": [
    {
     "data": {
      "text/plain": [
       "<!DOCTYPE html>\n",
       "<html lang=\"en\"><head><link href=\"https://rukminim1.flixcart.com\" rel=\"preconnect\"/><link href=\"//static-assets-web.flixcart.com/fk-p-linchpin-web/fk-cp-zion/css/app_modules.chunk.905c37.css\" rel=\"stylesheet\"/><link href=\"//static-assets-web.flixcart.com/fk-p-linchpin-web/fk-cp-zion/css/app.chunk.e84a00.css\" rel=\"stylesheet\"/><meta content=\"text/html; charset=utf-8\" http-equiv=\"Content-type\"/><meta content=\"IE=Edge\" http-equiv=\"X-UA-Compatible\"/><meta content=\"102988293558\" property=\"fb:page_id\"/><meta content=\"658873552,624500995,100000233612389\" property=\"fb:admins\"/><meta content=\"noodp\" name=\"robots\"/><link href=\"https:///www/promos/new/20150528-140547-favicon-retina.ico\" rel=\"shortcut icon\"/><link href=\"/osdd.xml?v=2\" rel=\"search\" type=\"application/opensearchdescription+xml\"/><meta content=\"website\" property=\"og:type\"/><meta content=\"Flipkart.com\" name=\"og_site_name\" property=\"og:site_name\"/><link href=\"/apple-touch-icon-57x57.png\" rel=\"apple-touch-icon\" sizes=\"57x57\"/><link href=\"/apple-touch-icon-72x72.png\" rel=\"apple-touch-icon\" sizes=\"72x72\"/><link href=\"/apple-touch-icon-114x114.png\" rel=\"apple-touch-icon\" sizes=\"114x114\"/><link href=\"/apple-touch-icon-144x144.png\" rel=\"apple-touch-icon\" sizes=\"144x144\"/><link href=\"/apple-touch-icon-57x57.png\" rel=\"apple-touch-icon\"/><meta content=\"app\" name=\"twitter:card\"/><meta content=\"@flipkart\" name=\"twitter:site\"/><meta content=\"@flipkart\" name=\"twitter:creator\"/><meta content=\"Haldiram's Bhujia Sev Price in India - Buy Haldiram's Bhujia Sev online at Flipkart.com\" name=\"twitter:title\"/><meta content=\"Shop for electronics, apparels &amp; more using our Flipkart app Free shipping &amp; COD.\" name=\"twitter:description\"/><meta content=\"http://rukmini1.flixcart.com/image/300/300/kgv5x8w0/snack-savourie/h/y/c/1-bhujia-sev-pouch-haldiram-s-original-imafwzuzsqa2dqfr.jpeg\" property=\"twitter:image\"/><meta content=\"in\" name=\"twitter:app:country\"/><meta content=\"Flipkart\" name=\"al:ios:app_name\"/><meta content=\"742044692\" name=\"al:ios:app_store_id\"/><meta content=\"Flipkart\" name=\"twitter:app:name:iphone\"/><meta content=\"742044692\" name=\"twitter:app:id:iphone\"/><meta content=\"http://dl.flipkart.com/dl/home?\" name=\"twitter:app:url:iphone\"/><meta content=\"Flipkart\" name=\"twitter:app:name:ipad\"/><meta content=\"742044692\" name=\"twitter:app:id:ipad\"/><meta content=\"http://dl.flipkart.com/dl/home?\" name=\"twitter:app:url:ipad\"/><meta content=\"Flipkart\" name=\"twitter:app:name:googleplay\"/><meta content=\"com.flipkart.android\" name=\"twitter:app:id:googleplay\"/><meta content=\"http://dl.flipkart.com/dl/home?\" name=\"twitter:app:url:googleplay\"/><style>#container {\n",
       "\t\t\theight: 100%;\n",
       "\t\t}</style> <link href=\"///fk-cp-zion/css/Product.chunk.38a4bd.css\" rel=\"stylesheet\"/><title>Haldiram's Bhujia Sev Price in India - Buy Haldiram's Bhujia Sev online at Flipkart.com</title><meta content=\"Haldiram's Bhujia Sev Price in India - Buy Haldiram's Bhujia Sev online at Flipkart.com\" name=\"og_title\" property=\"og:title\"/><meta content=\"Haldiram's Bhujia Sev Price, Haldiram's Bhujia Sev, Buy Haldiram's Bhujia Sev online\" name=\"Keywords\"/> <meta content=\"Buy Haldiram's Bhujia Sev for Rs.260 online. Haldiram's Bhujia Sev at best prices with FREE shipping &amp; cash on delivery. Only Genuine Products. 30 Day Replacement Guarantee.\" name=\"Description\"/><meta content=\"Buy Haldiram's Bhujia Sev for Rs.260 online. Haldiram's Bhujia Sev at best prices with FREE shipping &amp; cash on delivery. Only Genuine Products. 30 Day Replacement Guarantee.\" property=\"og:description\"/> <link href=\"https://www.flipkart.com/haldiram-s-bhujia-sev/p/itmcf7427b395677\" rel=\"canonical\"/> <link href=\"android-app://com.flipkart.android/flipkart/de_pp_seg_--_ITMCF7427B395677\" rel=\"alternate\"/> <meta content=\"http://rukmini1.flixcart.com/image/300/300/kgv5x8w0/snack-savourie/h/y/c/1-bhujia-sev-pouch-haldiram-s-original-imafwzuzsqa2dqfr.jpeg\" name=\"og_image\" property=\"og:image\"/> <meta content=\"https://www.flipkart.com/haldiram-s-bhujia-sev/p/itmcf7427b395677\" name=\"og_url\" property=\"og:url\"/><meta content=\"F4EEB3A0AFFDD385992A06E6920C0AC3\" name=\"msvalidate.01\"/> <!--[if IE 9 ]>\n",
       "\t<script nonce=\"912515025510806376\">\n",
       "\t\twindow.browserVersion = 'IE9';\n",
       "\t\tdocument.documentElement.className += ' ie9';\n",
       "\t</script>\n",
       "\t<![endif]--><!--[if !IE]><!--><script nonce=\"912515025510806376\">if (/*@cc_on!@*/false) {\n",
       "\t\t\twindow.browserVersion = 'IE10';\n",
       "\t\t\tdocument.documentElement.className += ' ie10';\n",
       "\t\t}</script><!--<![endif]--> <script nonce=\"912515025510806376\">!function(){if(\"PerformancePaintTiming\" in window){var e=window.__perf={e:[]};e.o=new PerformanceObserver(function(n){e.e=e.e.concat(n.getEntries())});try{e.o.observe({entryTypes:[\"paint\"]})}catch(e){}}}();\n",
       "\n",
       "\t\tif (requestAnimationFrame && performance && performance.mark) {\n",
       "\t\t\trequestAnimationFrame(function () {\n",
       "\t\t\t\twindow.first_paint = performance.now();\n",
       "\t\t\t\tperformance.mark(\"first_paint\");\n",
       "\t\t\t});\n",
       "\t\t}\n",
       "\n",
       "        // web-vitals polyfill for FID\n",
       "        !function(n,e){var t,o,i,c=[],f={passive:!0,capture:!0},r=new Date,a=\"pointerup\",u=\"pointercancel\";function p(n,c){t||(t=c,o=n,i=new Date,w(e),s())}function s(){o>=0&&o<i-r&&(c.forEach(function(n){n(o,t)}),c=[])}function l(t){if(t.cancelable){var o=(t.timeStamp>1e12?new Date:performance.now())-t.timeStamp;\"pointerdown\"==t.type?function(t,o){function i(){p(t,o),r()}function c(){r()}function r(){e(a,i,f),e(u,c,f)}n(a,i,f),n(u,c,f)}(o,t):p(o,t)}}function w(n){[\"click\",\"mousedown\",\"keydown\",\"touchstart\",\"pointerdown\"].forEach(function(e){n(e,l,f)})}w(n),self.perfMetrics=self.perfMetrics||{},self.perfMetrics.onFirstInputDelay=function(n){c.push(n),s()}}(addEventListener,removeEventListener);</script><script async=\"\" src=\"https://www.googletagmanager.com/gtag/js?id=AW-594691041\"></script><script nonce=\"912515025510806376\">window.dataLayer = window.dataLayer || [];\n",
       "\t\tfunction gtag(){dataLayer.push(arguments)};\n",
       "\t\tgtag('js', new Date());</script></head><body><div id=\"container\"><div><div class=\"_1kfTjk\"><div class=\"_2nQkPF _1rH5Jn\"><div class=\"_1TmfNK\"></div><div class=\"_2Xfa2_\"><div class=\"_3_C9Hx\"><div class=\"_3qX0zy\"><a href=\"/grocery-supermart-store?marketplace=GROCERY\"><img alt=\"Flipkart\" class=\"_2xm1JU\" src=\"//static-assets-web.flixcart.com/fk-p-linchpin-web/fk-cp-zion/img/grocery-logo_fb537a.svg\" title=\"Flipkart\" width=\"76\"/></a></div></div><div class=\"_1cmsER\"><form action=\"/search\" class=\"_2M8cLY header-form-search\" method=\"GET\"><div class=\"col-12-12 _2oO9oE\"><div class=\"_3OO5Xc\"><input autocomplete=\"off\" class=\"_3704LK\" name=\"q\" placeholder=\"Search grocery products\" title=\"Search grocery products\" type=\"text\" value=\"\"/></div><button class=\"L0Z3Pu\" type=\"submit\"><svg class=\"\" height=\"20\" viewbox=\"0 0 17 18\" width=\"20\" xmlns=\"http://www.w3.org/2000/svg\"><g fill=\"#2874F1\" fill-rule=\"evenodd\"><path class=\"_3tn8iT _34RNph\" d=\"m11.618 9.897l4.225 4.212c.092.092.101.232.02.313l-1.465 1.46c-.081.081-.221.072-.314-.02l-4.216-4.203\"></path><path class=\"_3tn8iT _34RNph\" d=\"m6.486 10.901c-2.42 0-4.381-1.956-4.381-4.368 0-2.413 1.961-4.369 4.381-4.369 2.42 0 4.381 1.956 4.381 4.369 0 2.413-1.961 4.368-4.381 4.368m0-10.835c-3.582 0-6.486 2.895-6.486 6.467 0 3.572 2.904 6.467 6.486 6.467 3.582 0 6.486-2.895 6.486-6.467 0-3.572-2.904-6.467-6.486-6.467\"></path></g></svg></button><input name=\"otracker\" type=\"hidden\" value=\"search\"/><input name=\"otracker1\" type=\"hidden\" value=\"search\"/><input name=\"marketplace\" type=\"hidden\" value=\"GROCERY\"/><input name=\"as-show\" type=\"hidden\" value=\"off\"/><input name=\"as\" type=\"hidden\" value=\"off\"/></div><ul class=\"col-12-12 _1MRYA1\"></ul></form></div><div class=\"go_DOp _2errNR\"><div class=\"_28p97w\"><div class=\"_1psGvi _3BvnxG\"><div><a class=\"_1_3w1N _3ZeGqx\" href=\"/account/login?ret=/haldiram-s-bhujia-sev/p/itmcf7427b395677%3Fpid%3DSNSETFPYMGJKSHYC%26lid%3DLSTSNSETFPYMGJKSHYCS0WTBS%26marketplace%3DGROCERY%26iid%3D30167079-2563-4fec-8827-cc6a36c4f322.SNSETFPYMGJKSHYC.SEARCH\">Login</a></div></div></div></div><div class=\"go_DOp\"><div class=\"_28p97w\"><div class=\"_1psGvi _3BvnxG\"><div><div class=\"exehdJ\"> <!-- -->More<!-- --> </div></div></div><svg class=\"zZ3yfL\" height=\"8\" viewbox=\"0 0 16 27\" width=\"4.7\" xmlns=\"http://www.w3.org/2000/svg\"><path class=\"_2gTTdy\" d=\"M16 23.207L6.11 13.161 16 3.093 12.955 0 0 13.161l12.955 13.161z\" fill=\"#fff\"></path></svg></div></div><div class=\"go_DOp\"><div class=\"_1psGvi\"><div class=\"YUhWwv\"><a class=\"_3SkBxJ\" href=\"/viewcart?exploreMode=true&amp;preference=GROCERY\"><svg class=\"V3C5bO\" height=\"14\" viewbox=\"0 0 16 16\" width=\"14\" xmlns=\"http://www.w3.org/2000/svg\"><path class=\"_1bS9ic\" d=\"M15.32 2.405H4.887C3 2.405 2.46.805 2.46.805L2.257.21C2.208.085 2.083 0 1.946 0H.336C.1 0-.064.24.024.46l.644 1.945L3.11 9.767c.047.137.175.23.32.23h8.418l-.493 1.958H3.768l.002.003c-.017 0-.033-.003-.05-.003-1.06 0-1.92.86-1.92 1.92s.86 1.92 1.92 1.92c.99 0 1.805-.75 1.91-1.712l5.55.076c.12.922.91 1.636 1.867 1.636 1.04 0 1.885-.844 1.885-1.885 0-.866-.584-1.593-1.38-1.814l2.423-8.832c.12-.433-.206-.86-.655-.86\" fill=\"#fff\"></path></svg><span>Cart</span></a></div></div></div></div><div class=\"_1TmfNK\"><a class=\"_3-BEeA\" href=\"/\"><img alt=\"Flipkart\" class=\"_1fqNI-\" src=\"//static-assets-web.flixcart.com/fk-p-linchpin-web/fk-cp-zion/img/fk_goto_home_logo_small_5b9cdd.svg\" title=\"Flipkart\"/></a></div></div><div class=\"_2LjAPh _1mUdNz _2tvxW\"></div></div><div class=\"_2c7YLP UtUXW0 _6t1WkM _3HqJxg\"><div class=\"_1AtVbE col-12-12\"><div><a class=\"_3WcRHs _2VGJMH\" href=\"/grocery-supermart-store?marketplace=GROCERY\"><div class=\"_3ywSr_\" style=\"padding-top:7.06%\"><div class=\"_1bEAQy _312yBx\" style=\"padding-top:7.06%\"><img alt=\"pn\" class=\"_2OHU_q\"/><img alt=\"pn\" class=\"kJjFO0 _3DIhEh\" src=\"https://rukminim1.flixcart.com/flap/100/100/image/c0f9a85a8b23308f.jpg?q=50\"/></div></div></a></div></div><div class=\"_1AtVbE col-12-12\"><div class=\"_2FhtkY _14fmmm\"><div class=\"_1URzkn\"><div class=\"_1Nm057\"></div><div class=\"_3nHuRA\"><img class=\"_11fvIm\" src=\"data:image/svg+xml;base64,PHN2ZyB4bWxucz0iaHR0cDovL3d3dy53My5vcmcvMjAwMC9zdmciIHdpZHRoPSIxOCIgaGVpZ2h0PSIxMiI+PGcgZmlsbD0iI0ZGRiIgZmlsbC1ydWxlPSJldmVub2RkIj48cGF0aCBkPSJNOC44OTkgMGExLjcxIDEuNzEgMCAwIDAtMS42MTIgMS4xNEwuNTUyIDEuMTM1QS41NS41NSAwIDAgMCAwIDEuNjg0YS41NS41NSAwIDAgMCAuNTUuNTQ3bDYuNzI1LjAwMmExLjcxMSAxLjcxMSAwIDAgMCAzLjM0LS41MjdBMS43MSAxLjcxIDAgMCAwIDguODk4IDAiLz48cGF0aCBkPSJNMTYuODg3IDEwLjExQTEuOTQ0IDEuOTQ0IDAgMCAxIDE0Ljk0IDEySDMuMzEzYTEuOTQzIDEuOTQzIDAgMCAxLTEuOTQ2LTEuODlMLjI5OCAzLjYxYy4wODMuMDE2LjE2Ni4wMjUuMjUyLjAyNWg1LjY5Yy40NC43MiAxLjE5MSAxLjU0OCAyLjc4IDEuNTUgMS44NzQtLjAwMiAyLjcxMi0xLjk0NyAyLjg4Mi0zLjE0aDUuNTQxYS41Ni41NiAwIDAgMSAuNDIxLjE5My41NTIuNTUyIDAgMCAxIC4xMy40NDJsLTEuMTA4IDcuNDI4eiIvPjwvZz48L3N2Zz4=\"/><span> ₹<span>0</span></span></div></div></div></div><div class=\"_1YokD2 _2GoDe3\" style=\"background-color:#FFFFFF;padding:16px 16px 16px 16px\"><div class=\"_1YokD2 _3Mn1Gg col-5-12 _78xt5Y\"><div class=\"_1AtVbE col-12-12\"><div class=\"_1iyjIJ\"><div class=\"_3li7GG\"><div class=\"_35DpL-\"><div class=\"_2FHWw4\"><div class=\"_2mLllQ\" style=\"height:384px\"><ul class=\"_3GnUWp\" style=\"-webkit-transform:translateY(-0px);-moz-transform:translateY(-0px);-o-transform:translateY(-0px);-ms-transform:translateY(-0px);transform:translateY(-0px)\"><li class=\"_20Gt85 _1Y_A6W\" style=\"height:64px\"><div class=\"_1AuMiq P9aMAP\"><div class=\"_2E1FGS\"><img class=\"q6DClP\" src=\"https://rukminim1.flixcart.com/image/128/128/kgv5x8w0/snack-savourie/h/y/c/1-bhujia-sev-pouch-haldiram-s-original-imafwzuzsqa2dqfr.jpeg?q=70\"/></div></div></li><li class=\"_20Gt85 _1Y_A6W\" style=\"height:64px\"><div class=\"_1AuMiq\"><div class=\"_2E1FGS\"><img class=\"q6DClP\" src=\"https://rukminim1.flixcart.com/image/128/128/kulk9zk0/snack-savourie/1/h/a/1-bhujia-sev-pouch-1-haldiram-s-original-imag7ztdj3xuzwhf.jpeg?q=70\"/></div></div></li><li class=\"_20Gt85 _1Y_A6W\" style=\"height:64px\"><div class=\"_1AuMiq\"><div class=\"_2E1FGS\"><img class=\"q6DClP\" src=\"https://rukminim1.flixcart.com/image/128/128/kgv5x8w0/snack-savourie/h/y/c/1-bhujia-sev-pouch-haldiram-s-original-imafwzuzgafzeyrh.jpeg?q=70\"/></div></div></li><li class=\"_20Gt85 _1Y_A6W\" style=\"height:64px\"><div class=\"_1AuMiq\"><div class=\"_2E1FGS\"><img class=\"q6DClP\" src=\"https://rukminim1.flixcart.com/image/128/128/kgv5x8w0/snack-savourie/h/y/c/1-bhujia-sev-pouch-haldiram-s-original-imafwzuzaygc6aw9.jpeg?q=70\"/></div></div></li><li class=\"_20Gt85 _1Y_A6W\" style=\"height:64px\"><div class=\"_1AuMiq\"><div class=\"_2E1FGS\"><img class=\"q6DClP\" src=\"https://rukminim1.flixcart.com/image/128/128/kgv5x8w0/snack-savourie/h/y/c/1-bhujia-sev-pouch-haldiram-s-original-imafwzuzkqsdhwbp.jpeg?q=70\"/></div></div></li><li class=\"_20Gt85 _1Y_A6W\" style=\"height:64px\"><div class=\"_1AuMiq\"><div class=\"_2E1FGS\"><img class=\"q6DClP\" src=\"https://rukminim1.flixcart.com/image/128/128/kgv5x8w0/snack-savourie/h/y/c/1-bhujia-sev-pouch-haldiram-s-original-imafwzuzhq4sey3b.jpeg?q=70\"/></div></div></li></ul></div><div class=\"_1VfWRb _3jywji YTKFIp\"><svg class=\"_1YdSSj\" height=\"15\" viewbox=\"0 0 16 27\" width=\"8\" xmlns=\"http://www.w3.org/2000/svg\"><path class=\"\" d=\"M16 23.207L6.11 13.161 16 3.093 12.955 0 0 13.161l12.955 13.161z\" fill=\"#000\"></path></svg></div><div class=\"_1VfWRb VnysFO YTKFIp\"><svg class=\"_1YdSSj\" height=\"15\" viewbox=\"0 0 16 27\" width=\"8\" xmlns=\"http://www.w3.org/2000/svg\"><path class=\"\" d=\"M16 23.207L6.11 13.161 16 3.093 12.955 0 0 13.161l12.955 13.161z\" fill=\"#000\"></path></svg></div></div></div><div class=\"_1BweB8\"><div class=\"_3kidJX\"><div class=\"_3A1TYz\" style=\"height:0;width:0\"></div><div class=\"CXW8mj _3nMexc\" style=\"height:inherit;width:inherit\"><img alt=\"Haldiram's Bhujia Sev\" class=\"_396cs4 _2amPTt _3qGmMb\" loading=\"eager\" src=\"https://rukminim1.flixcart.com/image/416/416/kgv5x8w0/snack-savourie/h/y/c/1-bhujia-sev-pouch-haldiram-s-original-imafwzuzsqa2dqfr.jpeg?q=70\" srcset=\"https://rukminim1.flixcart.com/image/832/832/kgv5x8w0/snack-savourie/h/y/c/1-bhujia-sev-pouch-haldiram-s-original-imafwzuzsqa2dqfr.jpeg?q=70 2x, https://rukminim1.flixcart.com/image/416/416/kgv5x8w0/snack-savourie/h/y/c/1-bhujia-sev-pouch-haldiram-s-original-imafwzuzsqa2dqfr.jpeg?q=70 1x\"/></div></div><div class=\"bXrC_t\" style=\"left:0;width:0;height:0\"><img class=\"_3_UeBw\"/></div></div></div></div></div><div class=\"_1AtVbE col-12-12\"><div class=\"_1p3MFP dTTu2M\"><ul class=\"row\"><li class=\"col col-12-12\"><div class=\"row\"><button class=\"_2KpZ6l _2U9uOA _3v1-ww _27Cjkl\"><svg class=\"_1KOMV2\" height=\"16\" viewbox=\"0 0 16 15\" width=\"16\" xmlns=\"http://www.w3.org/2000/svg\"><path class=\"\" d=\"M15.32 2.405H4.887C3 2.405 2.46.805 2.46.805L2.257.21C2.208.085 2.083 0 1.946 0H.336C.1 0-.064.24.024.46l.644 1.945L3.11 9.767c.047.137.175.23.32.23h8.418l-.493 1.958H3.768l.002.003c-.017 0-.033-.003-.05-.003-1.06 0-1.92.86-1.92 1.92s.86 1.92 1.92 1.92c.99 0 1.805-.75 1.91-1.712l5.55.076c.12.922.91 1.636 1.867 1.636 1.04 0 1.885-.844 1.885-1.885 0-.866-.584-1.593-1.38-1.814l2.423-8.832c.12-.433-.206-.86-.655-.86\" fill=\"#fff\"></path></svg>ADD</button></div></li></ul></div></div><div class=\"_1AtVbE col-12-12\"></div></div><div class=\"_1YokD2 _3Mn1Gg col-8-12\" style=\"padding:0px 0px 0px 24px\"><div class=\"_1YokD2 _2GoDe3\"><div class=\"_1AtVbE\" style=\"flex-grow:1;overflow:auto\"><div class=\"_1MR4o5\"><div class=\"_3GIHBu\"><a class=\"_2whKao\" href=\"/?otracker=product_breadCrumbs_Home\">Home</a><svg class=\"_39X-Og\" height=\"27\" viewbox=\"0 0 16 27\" width=\"16\" xmlns=\"http://www.w3.org/2000/svg\"><path class=\"DpXnhQ\" d=\"M16 23.207L6.11 13.161 16 3.093 12.955 0 0 13.161l12.955 13.161z\" fill=\"#fff\"></path></svg></div><div class=\"_3GIHBu\"><a class=\"_2whKao\" href=\"/grocery/pr?sid=73z&amp;marketplace=GROCERY&amp;otracker=product_breadCrumbs_Grocery\">Grocery</a><svg class=\"_39X-Og\" height=\"27\" viewbox=\"0 0 16 27\" width=\"16\" xmlns=\"http://www.w3.org/2000/svg\"><path class=\"DpXnhQ\" d=\"M16 23.207L6.11 13.161 16 3.093 12.955 0 0 13.161l12.955 13.161z\" fill=\"#fff\"></path></svg></div><div class=\"_3GIHBu\"><a class=\"_2whKao\" href=\"/grocery/snacks-beverages/pr?sid=73z,ujs&amp;marketplace=GROCERY&amp;otracker=product_breadCrumbs_Snacks+%26+Beverages\">Snacks &amp; Beverages</a><svg class=\"_39X-Og\" height=\"27\" viewbox=\"0 0 16 27\" width=\"16\" xmlns=\"http://www.w3.org/2000/svg\"><path class=\"DpXnhQ\" d=\"M16 23.207L6.11 13.161 16 3.093 12.955 0 0 13.161l12.955 13.161z\" fill=\"#fff\"></path></svg></div><div class=\"_3GIHBu\"><a class=\"_2whKao\" href=\"/grocery/snacks-beverages/chips-namkeen-snacks/pr?sid=73z,ujs,dd9&amp;marketplace=GROCERY&amp;otracker=product_breadCrumbs_Chips%2C+Namkeen+%26+Snacks\">Chips, Namkeen &amp; Snacks</a><svg class=\"_39X-Og\" height=\"27\" viewbox=\"0 0 16 27\" width=\"16\" xmlns=\"http://www.w3.org/2000/svg\"><path class=\"DpXnhQ\" d=\"M16 23.207L6.11 13.161 16 3.093 12.955 0 0 13.161l12.955 13.161z\" fill=\"#fff\"></path></svg></div><div class=\"_3GIHBu\"><a class=\"_2whKao\" href=\"/grocery/snacks-beverages/chips-namkeen-snacks/namkeen/pr?sid=73z,ujs,dd9,w66&amp;marketplace=GROCERY&amp;otracker=product_breadCrumbs_Namkeen\">Namkeen</a><svg class=\"_39X-Og\" height=\"27\" viewbox=\"0 0 16 27\" width=\"16\" xmlns=\"http://www.w3.org/2000/svg\"><path class=\"DpXnhQ\" d=\"M16 23.207L6.11 13.161 16 3.093 12.955 0 0 13.161l12.955 13.161z\" fill=\"#fff\"></path></svg></div><div class=\"_3GIHBu\"><a class=\"_2whKao\" href=\"/grocery/snacks-beverages/chips-namkeen-snacks/namkeen/haldiram-s~brand/pr?sid=73z,ujs,dd9,w66&amp;marketplace=GROCERY&amp;otracker=product_breadCrumbs_Haldiram%27s+Namkeen\">Haldiram's Namkeen</a><svg class=\"_39X-Og\" height=\"27\" viewbox=\"0 0 16 27\" width=\"16\" xmlns=\"http://www.w3.org/2000/svg\"><path class=\"DpXnhQ\" d=\"M16 23.207L6.11 13.161 16 3.093 12.955 0 0 13.161l12.955 13.161z\" fill=\"#fff\"></path></svg></div><div class=\"_3GIHBu\"><div class=\"_1LJS6T _2whKao _1QoaG0\"><div class=\"_2NKhZn\"><p>Haldiram's Bhujia Sev (1 kg)</p>\n",
       "</div></div><svg class=\"_39X-Og\" height=\"27\" viewbox=\"0 0 16 27\" width=\"16\" xmlns=\"http://www.w3.org/2000/svg\"><path class=\"DpXnhQ\" d=\"M16 23.207L6.11 13.161 16 3.093 12.955 0 0 13.161l12.955 13.161z\" fill=\"#fff\"></path></svg></div></div></div><div class=\"_1AtVbE col-12-12\" style=\"flex:0 0 90px;max-width:90px\"><div class=\"_1GpbsQ\"><div class=\"Bv11UC\"><span class=\"\"><span class=\"_2kXMeX\"><svg class=\"Kj-yxs\" height=\"18\" width=\"18\" xmlns=\"http://www.w3.org/2000/svg\"><path class=\"_2bvlkb\" d=\"M14.78 5.883L9.032 0v3.362C3.284 4.202.822 8.404 0 12.606 2.053 9.666 4.927 8.32 9.032 8.32v3.446l5.748-5.883z\" fill=\"#c2c2c2\" fill-rule=\"evenodd\"></path></svg><span style=\"margin-left:5px\">Share</span></span></span></div></div></div></div><div class=\"_1AtVbE col-12-12\"><div class=\"aMaAEs\"><div><h1 class=\"yhB1nd\"><span class=\"B_NuCI\">Haldiram's Bhujia Sev<!-- -->  (1 kg)</span></h1></div><div class=\"\"><div class=\"_3_L3jD\"><div class=\"gUuXy- _16VRIQ\"><span class=\"_1lRcqv\" id=\"productRating_LSTSNSETFPYMGJKSHYCS0WTBS_SNSETFPYMGJKSHYC_\"><div class=\"_3LWZlK\">4.4<img class=\"_1wB99o\" src=\"data:image/svg+xml;base64,PHN2ZyB4bWxucz0iaHR0cDovL3d3dy53My5vcmcvMjAwMC9zdmciIHdpZHRoPSIxMyIgaGVpZ2h0PSIxMiI+PHBhdGggZmlsbD0iI0ZGRiIgZD0iTTYuNSA5LjQzOWwtMy42NzQgMi4yMy45NC00LjI2LTMuMjEtMi44ODMgNC4yNTQtLjQwNEw2LjUuMTEybDEuNjkgNC4wMSA0LjI1NC40MDQtMy4yMSAyLjg4Mi45NCA0LjI2eiIvPjwvc3ZnPg==\"/></div></span><span class=\"_2_R_DZ\"><span><span>3,345 Ratings </span><span class=\"_13vcmD\">&amp;</span><span> 229 Reviews</span></span></span></div></div></div><div class=\"_1V_ZGU\"><span>Special price</span></div><div class=\"dyC4hf\"><div class=\"CEmiEU\"><div class=\"_25b18c\"><div class=\"_30jeq3 _16Jk6d\">₹221</div><div class=\"_3I9_wc _2p6lqe\">₹<!-- -->260</div><div class=\"_3Ay6Sb _31Dcoz\"><span>15% off</span></div></div></div><div class=\"_1V9q7_\"><div class=\"_25icda\" id=\"price-info-icon\"><svg class=\"_3ECE0V\" height=\"20\" viewbox=\"0 0 20 20\" width=\"20\" xmlns=\"http://www.w3.org/2000/svg\"><defs><circle cx=\"8\" cy=\"8\" id=\"b\" r=\"8\"></circle><filter filterunits=\"objectBoundingBox\" height=\"130%\" id=\"a\" width=\"130%\" x=\"-15%\" y=\"-8.8%\"><femorphology in=\"SourceAlpha\" operator=\"dilate\" radius=\".4\" result=\"shadowSpreadOuter1\"></femorphology><feoffset dy=\"1\" in=\"shadowSpreadOuter1\" result=\"shadowOffsetOuter1\"></feoffset><fegaussianblur in=\"shadowOffsetOuter1\" result=\"shadowBlurOuter1\" stddeviation=\".5\"></fegaussianblur><fecomposite in=\"shadowBlurOuter1\" in2=\"SourceAlpha\" operator=\"out\" result=\"shadowBlurOuter1\"></fecomposite><fecolormatrix in=\"shadowBlurOuter1\" values=\"0 0 0 0 0 0 0 0 0 0 0 0 0 0 0 0 0 0 0.2 0\"></fecolormatrix></filter></defs><g fill=\"none\" fill-rule=\"evenodd\"><g transform=\"translate(2 1)\"><use fill=\"#000\" filter=\"url(#a)\" xlink:href=\"#b\"></use><use fill=\"#FCFCFC\" stroke=\"#000\" stroke-opacity=\".3\" stroke-width=\".8\" xlink:href=\"#b\"></use></g><text fill=\"#1D1D1D\" font-family=\"Roboto-Medium, Roboto\" font-size=\"11\" font-weight=\"400\" opacity=\".59\" transform=\"translate(2 1)\"><tspan x=\"6.6\" y=\"12.2\">i</tspan></text></g></svg></div></div><div class=\"V_omJD\">@55.25/250g</div></div></div></div><div class=\"_1AtVbE col-12-12\"><div class=\"_3Z0lU8\"><div class=\"rd9nIL\">Coupons for you</div><div class=\"_20ECGO\">Will be applied in the next step</div></div><div class=\"_3TT44I\"><div class=\"WT_FyS\"><div class=\"XUp0WS\"><span class=\"_3j4Zjq row\"><img class=\"_3HLfAg\" height=\"18\" src=\"https://rukminim1.flixcart.com/www/36/36/promos/30/07/2019/79f48e86-8a93-46ab-b45a-5a12df491941.png?q=90\" width=\"18\"/><li class=\"_16eBzU col\"><span class=\"u8dYXW\">Buy More, Save More</span><span>Buy worth ₹1000 save ₹75</span><a href=\"https://www.flipkart.com/grocery-supermart-store?marketplace=GROCERY\" rel=\"noopener noreferrer\" target=\"_blank\"><span class=\"_2CXDeQ\">See all products</span></a><div class=\"Bv11UC _1qNw3R\"><span class=\"fGhUR2\">T&amp;C</span></div></li></span></div></div></div><div class=\"_3Z0lU8\"><div class=\"rd9nIL\">Available offers</div></div><div class=\"_3TT44I\"><div class=\"WT_FyS\"><div class=\"XUp0WS\"><span class=\"_3j4Zjq row\"><img class=\"_3HLfAg\" height=\"18\" src=\"https://rukminim1.flixcart.com/www/36/36/promos/06/09/2016/c22c9fc4-0555-4460-8401-bf5c28d7ba29.png?q=90\" width=\"18\"/><li class=\"_16eBzU col\"><span class=\"u8dYXW\">Special Price</span><span>Get extra 5% off (price inclusive of cashback/coupon)</span><div class=\"Bv11UC _1qNw3R\"><span class=\"fGhUR2\">T&amp;C</span></div></li></span><span class=\"_3j4Zjq row\"><img class=\"_3HLfAg\" height=\"18\" src=\"https://rukminim1.flixcart.com/www/36/36/promos/06/09/2016/c22c9fc4-0555-4460-8401-bf5c28d7ba29.png?q=90\" width=\"18\"/><li class=\"_16eBzU col\"><span class=\"u8dYXW\">Bank Offer</span><span>5% Cashback on Flipkart Axis Bank Card</span><div class=\"Bv11UC _1qNw3R\"><span class=\"fGhUR2\">T&amp;C</span></div></li></span><span class=\"_3j4Zjq row\"><img class=\"_3HLfAg\" height=\"18\" src=\"https://rukminim1.flixcart.com/www/36/36/promos/06/09/2016/c22c9fc4-0555-4460-8401-bf5c28d7ba29.png?q=90\" width=\"18\"/><li class=\"_16eBzU col\"><span class=\"u8dYXW\">Bank Offer</span><span>₹50 off on 1500 for UPI</span><div class=\"Bv11UC _1qNw3R\"><span class=\"fGhUR2\">T&amp;C</span></div></li></span><span class=\"_3j4Zjq row\"><img class=\"_3HLfAg\" height=\"18\" src=\"https://rukminim1.flixcart.com/www/36/36/promos/06/09/2016/c22c9fc4-0555-4460-8401-bf5c28d7ba29.png?q=90\" width=\"18\"/><li class=\"_16eBzU col\"><span>Unlock additional steal deals on orders above ₹1000</span><div class=\"Bv11UC _1qNw3R\"><span class=\"fGhUR2\">T&amp;C</span></div></li></span></div><button class=\"_1JIkBw\"><div class=\"row\"><div class=\"IMZJg1\"><span>View 1 more offer</span></div></div></button></div></div></div><div class=\"_1AtVbE col-12-12\"><div class=\"_2HZ5Ma\"><img class=\"_1-Qbpr\" src=\"https://rukminim1.flixcart.com/www/32/32/promos/25/06/2018/5f5e0f11-380c-4f0e-be13-b7763474b66b.png?q=90\"/><div><div class=\"_1F59lZ\">Expiry Date 03 Aug 2023</div><div class=\"cdfcxs\">Manufactured date 06 Jan 2023</div></div></div></div><div class=\"_1AtVbE col-12-12\"><div class=\"row _2WVRLm\"><div class=\"col col-12-12\"><div class=\"_1PQN-K\"><div class=\"_2taUHM\">Delivery</div><div class=\"_24N3im\"><div class=\"_1tgazt _1LO0H9\"><div class=\"bTgKY7 _16ocF5\"></div><div class=\"_2u50Np\"><div class=\"hivXmn _1_74WS\"><svg class=\"_1kbGNj\" height=\"12\" viewbox=\"0 0 9 12\" width=\"12\" xmlns=\"http://www.w3.org/2000/svg\"><path class=\"_6xm1dD\" d=\"M4.2 5.7c-.828 0-1.5-.672-1.5-1.5 0-.398.158-.78.44-1.06.28-.282.662-.44 1.06-.44.828 0 1.5.672 1.5 1.5 0 .398-.158.78-.44 1.06-.28.282-.662.44-1.06.44zm0-5.7C1.88 0 0 1.88 0 4.2 0 7.35 4.2 12 4.2 12s4.2-4.65 4.2-7.8C8.4 1.88 6.52 0 4.2 0z\" fill=\"#2874f0\" fill-rule=\"evenodd\"></path></svg><form autocomplete=\"off\" class=\"N79-rD\"><input class=\"_36yFo0\" id=\"pincodeInputId\" maxlength=\"6\" placeholder=\"Enter Delivery Pincode\" type=\"text\" value=\"\"/></form><div class=\"_2YsvKq _2ggyDI _16ocF5\"><svg class=\"_2LJFE8\" viewbox=\"25 25 50 50\"><circle class=\"_2XJHnB\" cx=\"50\" cy=\"50\" fill=\"none\" r=\"10\" stroke=\"#0057e7\" stroke-miterlimit=\"10\" stroke-width=\"3\"></circle></svg></div><span class=\"_2P_LDn\">Check<div class=\"_2OTVHf _1Hhkx7 _1mQK5h _3BB7xg _3yvRQZ\"><div class=\"_3Oikkn _3_ezix _3Hbb-8\">Enter pincode</div></div></span></div></div></div></div></div><div class=\"_1SLzzw\"><div class=\"_1OUluu\"><ul class=\"eWlq4L\"><div class=\"_20XEBf\"><div class=\"_3XINqE\">Usually delivered in<span class=\"_1TPvTK\">7 days</span><div class=\"Bv11UC\"><span class=\"question\">?</span></div></div><div class=\"_1dXn7l\">Enter pincode for exact delivery dates/charges</div></div></ul></div></div></div></div></div><div class=\"_1AtVbE col-12-12\"><div class=\"_3wmLAA\"><div class=\"ffYZ17 col col-6-12\"><div class=\"_22QfJJ\"><span class=\"_1rcQuH\" id=\"Quantity\">Quantity</span><div><ul class=\"_1q8vHb\"><li class=\"_3V2wfe\" id=\"swatch-0-quantity\"><a class=\"_1fGeJ5\" href=\"/haldiram-s-bhujia-sev/p/itmcf7427b395677?pid=SNSETFPNXG5SHCQ9&amp;lid=LSTSNSETFPNXG5SHCQ9VY9GDN&amp;marketplace=GROCERY&amp;sattr[]=quantity&amp;st=quantity\">400 g<span class=\"_31CznT\"> <!-- -->@55.625/250g<!-- --> </span></a><div class=\"_2OTVHf _3NVE7n _1mQK5h _2J-DXM\"><div class=\"_3Oikkn _3_ezix _2KarXJ\">400 g</div></div></li><li class=\"_3V2wfe\" id=\"swatch-1-quantity\"><a class=\"_1fGeJ5\" href=\"/haldiram-s-bhujia-sev/p/itmcf7427b395677?pid=SNSETFPYNEYXCJKH&amp;lid=LSTSNSETFPYNEYXCJKHWQDX55&amp;marketplace=GROCERY&amp;sattr[]=quantity&amp;st=quantity\">600 g<span class=\"_31CznT\"> <!-- -->@57.917/250g<!-- --> </span></a><div class=\"_2OTVHf _3NVE7n _1mQK5h _2J-DXM\"><div class=\"_3Oikkn _3_ezix _2KarXJ\">600 g</div></div></li><li class=\"_3V2wfe\" id=\"swatch-2-quantity\"><a class=\"_1fGeJ5 PP89tw\" href=\"/haldiram-s-bhujia-sev/p/itmcf7427b395677?pid=SNSETFPYMGJKSHYC&amp;lid=LSTSNSETFPYMGJKSHYCS0WTBS&amp;marketplace=GROCERY&amp;sattr[]=quantity&amp;st=quantity\">1 kg<span class=\"_31CznT\"> <!-- -->@55.25/250g<!-- --> </span></a><div class=\"_2OTVHf _3NVE7n _1mQK5h _2J-DXM\"><div class=\"_3Oikkn _3_ezix _2KarXJ\">1 kg</div></div></li></ul></div></div><div class=\"_2OTVHf _3duxeq z0fG_Y _1mQK5h _3MaULO _2wPDps\"><div class=\"_3Oikkn _3_ezix\"><span>Please select a Quantity to proceed</span><button class=\"_2KpZ6l FYrnUt\">✕</button></div></div></div></div></div><div class=\"_1YokD2 _2GoDe3\" style=\"padding:24px 0px 0px 0px\"><div class=\"_1AtVbE col-6-12\"><div class=\"xDHSrl flex\"><div class=\"_1YGsgZ\">Services</div><ul class=\"ZlRKeH\"><li class=\"_2crLYm\"><div class=\"me3OWC _1vBu0N\"></div><div class=\"_2MJMLX\">Easy Doorstep Return<div class=\"Bv11UC\"><span class=\"question\">?</span></div></div></li><li class=\"_2crLYm\"><div class=\"me3OWC eUF4ak\"></div><div class=\"_2MJMLX\">Cash on Delivery available<div class=\"Bv11UC\"><span class=\"question\">?</span></div></div></li></ul></div></div></div><div class=\"_1YokD2 _3Mn1Gg\"><div class=\"_1YokD2 _2GoDe3\" style=\"padding:24px 0px 0px 0px\"><div class=\"_1AtVbE col-6-12\" style=\"padding:0px 12px 0px 0px\"><div><div class=\"_2xlWlq\"><div class=\"_3ywSr_\" style=\"padding-top:23.89%\"><div class=\"_1bEAQy _312yBx\" style=\"padding-top:23.89%\"><img alt=\"\" class=\"_2OHU_q\"/><img alt=\"\" class=\"kJjFO0 _3DIhEh\" src=\"https://rukminim1.flixcart.com/lockin/100/100/images/CCO__PP_2019-07-14.png?q=50\"/></div></div></div></div></div></div><div class=\"_1AtVbE col-12-12\"><div class=\"_1iWRKW\"><div class=\"_1jneHk\"><span>Seller</span></div><div><div class=\"_1RLviY\" id=\"sellerName\"><span><span>SuperComNet</span><div class=\"_3LWZlK _1D-8OL\">4.7<img class=\"_1wB99o\" src=\"data:image/svg+xml;base64,PHN2ZyB4bWxucz0iaHR0cDovL3d3dy53My5vcmcvMjAwMC9zdmciIHdpZHRoPSIxMyIgaGVpZ2h0PSIxMiI+PHBhdGggZmlsbD0iI0ZGRiIgZD0iTTYuNSA5LjQzOWwtMy42NzQgMi4yMy45NC00LjI2LTMuMjEtMi44ODMgNC4yNTQtLjQwNEw2LjUuMTEybDEuNjkgNC4wMSA0LjI1NC40MDQtMy4yMSAyLjg4Mi45NCA0LjI2eiIvPjwvc3ZnPg==\"/></div></span></div></div></div></div><div class=\"_1AtVbE col-12-12\"><div class=\"_3dtsli\"><div class=\"_5pFuey\">Specifications</div><div><div class=\"_1UhVsV _3AsE0T\"><div class=\"_3k-BhJ\"><div class=\"flxcaE\">In The Box</div><table class=\"_14cfVK\"><tbody><tr class=\"_1s_Smc row\"><td class=\"_1hKmbr col col-3-12\">Pack of</td><td class=\"URwL2w col col-9-12\"><ul><li class=\"_21lJbe\">1</li></ul></td></tr></tbody></table></div><div class=\"_3k-BhJ\"><div class=\"flxcaE\">General</div><table class=\"_14cfVK\"><tbody><tr class=\"_1s_Smc row\"><td class=\"_1hKmbr col col-3-12\">Brand</td><td class=\"URwL2w col col-9-12\"><ul><li class=\"_21lJbe\">Haldiram's</li></ul></td></tr><tr class=\"_1s_Smc row\"><td class=\"_1hKmbr col col-3-12\">Model Name</td><td class=\"URwL2w col col-9-12\"><ul><li class=\"_21lJbe\">Bhujia Sev</li></ul></td></tr><tr class=\"_1s_Smc row\"><td class=\"_1hKmbr col col-3-12\">Quantity</td><td class=\"URwL2w col col-9-12\"><ul><li class=\"_21lJbe\">1 kg</li></ul></td></tr><tr class=\"_1s_Smc row\"><td class=\"_1hKmbr col col-3-12\">Type</td><td class=\"URwL2w col col-9-12\"><ul><li class=\"_21lJbe\">Namkeen</li></ul></td></tr><tr class=\"_1s_Smc row\"><td class=\"_1hKmbr col col-3-12\">Flavor</td><td class=\"URwL2w col col-9-12\"><ul><li class=\"_21lJbe\">Salted, Spicy</li></ul></td></tr><tr class=\"_1s_Smc row\"><td class=\"_1hKmbr col col-3-12\">Taste</td><td class=\"URwL2w col col-9-12\"><ul><li class=\"_21lJbe\">Hot, Spicy</li></ul></td></tr><tr class=\"_1s_Smc row\"><td class=\"_1hKmbr col col-3-12\">Organic</td><td class=\"URwL2w col col-9-12\"><ul><li class=\"_21lJbe\">No</li></ul></td></tr><tr class=\"_1s_Smc row\"><td class=\"_1hKmbr col col-3-12\">Added Preservatives</td><td class=\"URwL2w col col-9-12\"><ul><li class=\"_21lJbe\">No</li></ul></td></tr><tr class=\"_1s_Smc row\"><td class=\"_1hKmbr col col-3-12\">Food Preference</td><td class=\"URwL2w col col-9-12\"><ul><li class=\"_21lJbe\">Vegetarian</li></ul></td></tr><tr class=\"_1s_Smc row\"><td class=\"_1hKmbr col col-3-12\">Maximum Shelf Life</td><td class=\"URwL2w col col-9-12\"><ul><li class=\"_21lJbe\">7 Months</li></ul></td></tr><tr class=\"_1s_Smc row\"><td class=\"_1hKmbr col col-3-12\">Container Type</td><td class=\"URwL2w col col-9-12\"><ul><li class=\"_21lJbe\">Pouch</li></ul></td></tr><tr class=\"_1s_Smc row\"><td class=\"_1hKmbr col col-3-12\">Gourmet</td><td class=\"URwL2w col col-9-12\"><ul><li class=\"_21lJbe\">No</li></ul></td></tr><tr class=\"_1s_Smc row\"><td class=\"_1hKmbr col col-3-12\">Nutrient Content</td><td class=\"URwL2w col col-9-12\"><ul><li class=\"_21lJbe\">NA</li></ul></td></tr><tr class=\"_1s_Smc row\"><td class=\"_1hKmbr col col-3-12\">Ingredient</td><td class=\"URwL2w col col-9-12\"><ul><li class=\"_21lJbe\">NA</li></ul></td></tr><tr class=\"_1s_Smc row\"><td class=\"_1hKmbr col col-3-12\">Country of Origin</td><td class=\"URwL2w col col-9-12\"><ul><li class=\"_21lJbe\">India</li></ul></td></tr></tbody></table></div><div class=\"_3k-BhJ\"><div class=\"flxcaE\">Legal Disclaimer</div><table class=\"_14cfVK\"><tbody><tr class=\"_1s_Smc row\"><td class=\"URwL2w col col-12-12\"><ul><li class=\"_21lJbe\">Flipkart endeavors to ensure the accuracy of the information about the products. It is pertinent to note that, actual product packaging and materials may contain more and/or different information which may include nutritional information/allergen declaration/special instruction for intended use/warning/directions etc. We recommend the consumers to always read the label carefully before using or consuming any products. Please do not solely rely on the information provided on this website. For additional information, please contact the manufacturer.</li></ul></td></tr></tbody></table></div></div><button class=\"_2KpZ6l _1FH0tX\">Read More</button></div></div></div><div class=\"_1AtVbE col-12-12\"><div class=\"col JOpGWq\"><div class=\"_3HKIdy\"><div class=\"_2QKOHZ\">Ratings &amp; Reviews</div><div class=\"_3cH4s3\"><button class=\"_2KpZ6l _1q9yVr\" type=\"submit\"><span>Rate Product</span></button></div></div><div class=\"row _3AjFsn _2c2kV-\"><div class=\"_2e3Uck _2_0QCf\"><div class=\"row\"><div class=\"col-3-12\"><div class=\"col\"><div class=\"row\"><div class=\"col-12-12 _1azcI6\"><div class=\"_2d4LTz\">4.4</div><div class=\"_2yxeXv\">★</div></div></div><div class=\"row _2afbiS\"><div class=\"col-12-12\"><span>3,345 Ratings &amp;</span></div></div><div class=\"row _2afbiS\"><div class=\"col-12-12\"><span>229 Reviews</span></div></div></div></div><div class=\"col-9-12 _3qpj74\"><div class=\"_13sFCC miQW6D _2m9Pwo\"><ul class=\"_1IMApt\"><li class=\"_28Xb_u\"><div class=\"omG9iE\"><span class=\"_26f_zl\">5</span><span class=\"_2xBWPJ\">★</span></div></li><li class=\"_28Xb_u\"><div class=\"omG9iE\"><span class=\"_26f_zl\">4</span><span class=\"_2xBWPJ\">★</span></div></li><li class=\"_28Xb_u\"><div class=\"omG9iE\"><span class=\"_26f_zl\">3</span><span class=\"_2xBWPJ\">★</span></div></li><li class=\"_28Xb_u\"><div class=\"omG9iE\"><span class=\"_26f_zl\">2</span><span class=\"_2xBWPJ\">★</span></div></li><li class=\"_28Xb_u\"><div class=\"omG9iE\"><span class=\"_26f_zl\">1</span><span class=\"_2xBWPJ\">★</span></div></li></ul><ul class=\"_2VPyN4\"><li class=\"_28Xb_u\"><div><div class=\"_3UaKsS\"><span class=\"EkB-Xt _1z2lGe\" style=\"width:100%\"></span></div></div></li><li class=\"_28Xb_u\"><div><div class=\"_3UaKsS\"><span class=\"EkB-Xt _2fGXyl\" style=\"width:27.12532865907099%\"></span></div></div></li><li class=\"_28Xb_u\"><div><div class=\"_3UaKsS\"><span class=\"EkB-Xt _1ia31G\" style=\"width:9.509202453987731%\"></span></div></div></li><li class=\"_28Xb_u\"><div><div class=\"_3UaKsS\"><span class=\"EkB-Xt HnnP7O\" style=\"width:3.3304119193689745%\"></span></div></div></li><li class=\"_28Xb_u\"><div><div class=\"_3UaKsS\"><span class=\"EkB-Xt _2W5rgh\" style=\"width:6.6170026292725685%\"></span></div></div></li></ul><ul class=\"_2jr1F_\"><li class=\"_28Xb_u\"><div class=\"_1uJVNT\">2,282</div></li><li class=\"_28Xb_u\"><div class=\"_1uJVNT\">619</div></li><li class=\"_28Xb_u\"><div class=\"_1uJVNT\">217</div></li><li class=\"_28Xb_u\"><div class=\"_1uJVNT\">76</div></li><li class=\"_28Xb_u\"><div class=\"_1uJVNT\">151</div></li></ul></div></div></div></div></div><div class=\"row\"><div class=\"col col-12-12\"><div class=\"_2nMSwX _1yGd2h\"><div class=\"_21YjFX _1ylYJu\" style=\"background-image:url(https://rukminim1.flixcart.com/blobio/178/178/imr-202202/blobio-imr-202202_633108fde44e4867b0b8c1f68a0463af.jpg?q=90), url(data:image/svg+xml;base64,PHN2ZyB3aWR0aD0iMjIiIGhlaWdodD0iMTgiIHhtbG5zPSJodHRwOi8vd3d3LnczLm9yZy8yMDAwL3N2ZyI+PGcgZmlsbD0iIzlEOUQ5RCIgZmlsbC1ydWxlPSJub256ZXJvIj48cGF0aCBkPSJNMjAgMEgyQzEgMCAwIDEgMCAydjE0YzAgMS4xLjkgMiAyIDJoMThjMSAwIDItMSAyLTJWMmMwLTEtMS0yLTItMnptMCAxNS45MmMtLjAyLjAzLS4wNi4wNi0uMDguMDhIMlYyLjA4TDIuMDggMmgxNy44M2MuMDMuMDIuMDYuMDYuMDguMDh2MTMuODRIMjB6Ii8+PHBhdGggZD0iTTEwIDEyLjUxTDcuNSA5LjUgNCAxNGgxNGwtNC41LTZ6Ii8+PC9nPjwvc3ZnPg==);width:89px;height:89px\"></div><div class=\"_21YjFX _1ylYJu\" style=\"background-image:url(https://rukminim1.flixcart.com/blobio/178/178/imr-202010/blobio-imr-202010_ba9ab090370843c9b0870330e1d37142.jpg?q=90), url(data:image/svg+xml;base64,PHN2ZyB3aWR0aD0iMjIiIGhlaWdodD0iMTgiIHhtbG5zPSJodHRwOi8vd3d3LnczLm9yZy8yMDAwL3N2ZyI+PGcgZmlsbD0iIzlEOUQ5RCIgZmlsbC1ydWxlPSJub256ZXJvIj48cGF0aCBkPSJNMjAgMEgyQzEgMCAwIDEgMCAydjE0YzAgMS4xLjkgMiAyIDJoMThjMSAwIDItMSAyLTJWMmMwLTEtMS0yLTItMnptMCAxNS45MmMtLjAyLjAzLS4wNi4wNi0uMDguMDhIMlYyLjA4TDIuMDggMmgxNy44M2MuMDMuMDIuMDYuMDYuMDguMDh2MTMuODRIMjB6Ii8+PHBhdGggZD0iTTEwIDEyLjUxTDcuNSA5LjUgNCAxNGgxNGwtNC41LTZ6Ii8+PC9nPjwvc3ZnPg==);width:89px;height:89px\"></div><div class=\"_21YjFX _1ylYJu\" style=\"background-image:url(https://rukminim1.flixcart.com/blobio/178/178/imr-202009/blobio-imr-202009_c4e7f83526cb49279f5a0cfe972af450.jpg?q=90), url(data:image/svg+xml;base64,PHN2ZyB3aWR0aD0iMjIiIGhlaWdodD0iMTgiIHhtbG5zPSJodHRwOi8vd3d3LnczLm9yZy8yMDAwL3N2ZyI+PGcgZmlsbD0iIzlEOUQ5RCIgZmlsbC1ydWxlPSJub256ZXJvIj48cGF0aCBkPSJNMjAgMEgyQzEgMCAwIDEgMCAydjE0YzAgMS4xLjkgMiAyIDJoMThjMSAwIDItMSAyLTJWMmMwLTEtMS0yLTItMnptMCAxNS45MmMtLjAyLjAzLS4wNi4wNi0uMDguMDhIMlYyLjA4TDIuMDggMmgxNy44M2MuMDMuMDIuMDYuMDYuMDguMDh2MTMuODRIMjB6Ii8+PHBhdGggZD0iTTEwIDEyLjUxTDcuNSA5LjUgNCAxNGgxNGwtNC41LTZ6Ii8+PC9nPjwvc3ZnPg==);width:89px;height:89px\"></div><div class=\"_21YjFX _1ylYJu\" style=\"background-image:url(https://rukminim1.flixcart.com/blobio/178/178/imr-202012/blobio-imr-202012_611f5bd8e965446eba00d943b1da5460.jpg?q=90), url(data:image/svg+xml;base64,PHN2ZyB3aWR0aD0iMjIiIGhlaWdodD0iMTgiIHhtbG5zPSJodHRwOi8vd3d3LnczLm9yZy8yMDAwL3N2ZyI+PGcgZmlsbD0iIzlEOUQ5RCIgZmlsbC1ydWxlPSJub256ZXJvIj48cGF0aCBkPSJNMjAgMEgyQzEgMCAwIDEgMCAydjE0YzAgMS4xLjkgMiAyIDJoMThjMSAwIDItMSAyLTJWMmMwLTEtMS0yLTItMnptMCAxNS45MmMtLjAyLjAzLS4wNi4wNi0uMDguMDhIMlYyLjA4TDIuMDggMmgxNy44M2MuMDMuMDIuMDYuMDYuMDguMDh2MTMuODRIMjB6Ii8+PHBhdGggZD0iTTEwIDEyLjUxTDcuNSA5LjUgNCAxNGgxNGwtNC41LTZ6Ii8+PC9nPjwvc3ZnPg==);width:89px;height:89px\"></div><div class=\"_21YjFX _1ylYJu\" style=\"background-image:url(https://rukminim1.flixcart.com/blobio/178/178/imr-202012/blobio-imr-202012_b74fb20d20df4b29952c045e1b0852be.jpg?q=90), url(data:image/svg+xml;base64,PHN2ZyB3aWR0aD0iMjIiIGhlaWdodD0iMTgiIHhtbG5zPSJodHRwOi8vd3d3LnczLm9yZy8yMDAwL3N2ZyI+PGcgZmlsbD0iIzlEOUQ5RCIgZmlsbC1ydWxlPSJub256ZXJvIj48cGF0aCBkPSJNMjAgMEgyQzEgMCAwIDEgMCAydjE0YzAgMS4xLjkgMiAyIDJoMThjMSAwIDItMSAyLTJWMmMwLTEtMS0yLTItMnptMCAxNS45MmMtLjAyLjAzLS4wNi4wNi0uMDguMDhIMlYyLjA4TDIuMDggMmgxNy44M2MuMDMuMDIuMDYuMDYuMDguMDh2MTMuODRIMjB6Ii8+PHBhdGggZD0iTTEwIDEyLjUxTDcuNSA5LjUgNCAxNGgxNGwtNC41LTZ6Ii8+PC9nPjwvc3ZnPg==);width:89px;height:89px\"></div><div class=\"_21YjFX _1ylYJu\" style=\"background-image:url(https://rukminim1.flixcart.com/blobio/178/178/imr-202107/blobio-imr-202107_ba9f19507d364deaa6508ecbdce06392.jpg?q=90), url(data:image/svg+xml;base64,PHN2ZyB3aWR0aD0iMjIiIGhlaWdodD0iMTgiIHhtbG5zPSJodHRwOi8vd3d3LnczLm9yZy8yMDAwL3N2ZyI+PGcgZmlsbD0iIzlEOUQ5RCIgZmlsbC1ydWxlPSJub256ZXJvIj48cGF0aCBkPSJNMjAgMEgyQzEgMCAwIDEgMCAydjE0YzAgMS4xLjkgMiAyIDJoMThjMSAwIDItMSAyLTJWMmMwLTEtMS0yLTItMnptMCAxNS45MmMtLjAyLjAzLS4wNi4wNi0uMDguMDhIMlYyLjA4TDIuMDggMmgxNy44M2MuMDMuMDIuMDYuMDYuMDguMDh2MTMuODRIMjB6Ii8+PHBhdGggZD0iTTEwIDEyLjUxTDcuNSA5LjUgNCAxNGgxNGwtNC41LTZ6Ii8+PC9nPjwvc3ZnPg==);width:89px;height:89px\"></div><div class=\"_21YjFX _1ylYJu\" style=\"background-image:url(https://rukminim1.flixcart.com/blobio/178/178/imr-202008/blobio-imr-202008_538e3e69d1f640239cf813d4443fdedd.jpg?q=90), url(data:image/svg+xml;base64,PHN2ZyB3aWR0aD0iMjIiIGhlaWdodD0iMTgiIHhtbG5zPSJodHRwOi8vd3d3LnczLm9yZy8yMDAwL3N2ZyI+PGcgZmlsbD0iIzlEOUQ5RCIgZmlsbC1ydWxlPSJub256ZXJvIj48cGF0aCBkPSJNMjAgMEgyQzEgMCAwIDEgMCAydjE0YzAgMS4xLjkgMiAyIDJoMThjMSAwIDItMSAyLTJWMmMwLTEtMS0yLTItMnptMCAxNS45MmMtLjAyLjAzLS4wNi4wNi0uMDguMDhIMlYyLjA4TDIuMDggMmgxNy44M2MuMDMuMDIuMDYuMDYuMDguMDh2MTMuODRIMjB6Ii8+PHBhdGggZD0iTTEwIDEyLjUxTDcuNSA5LjUgNCAxNGgxNGwtNC41LTZ6Ii8+PC9nPjwvc3ZnPg==);width:89px;height:89px\"></div><div class=\"_21YjFX _1ylYJu RU6t0j\" style=\"background-image:url(https://rukminim1.flixcart.com/blobio/178/178/imr-201907/blobio-imr-201907_e1845f79b0c846fa8258e4cd6634c2bf.jpg?q=90), url(data:image/svg+xml;base64,PHN2ZyB3aWR0aD0iMjIiIGhlaWdodD0iMTgiIHhtbG5zPSJodHRwOi8vd3d3LnczLm9yZy8yMDAwL3N2ZyI+PGcgZmlsbD0iIzlEOUQ5RCIgZmlsbC1ydWxlPSJub256ZXJvIj48cGF0aCBkPSJNMjAgMEgyQzEgMCAwIDEgMCAydjE0YzAgMS4xLjkgMiAyIDJoMThjMSAwIDItMSAyLTJWMmMwLTEtMS0yLTItMnptMCAxNS45MmMtLjAyLjAzLS4wNi4wNi0uMDguMDhIMlYyLjA4TDIuMDggMmgxNy44M2MuMDMuMDIuMDYuMDYuMDguMDh2MTMuODRIMjB6Ii8+PHBhdGggZD0iTTEwIDEyLjUxTDcuNSA5LjUgNCAxNGgxNGwtNC41LTZ6Ii8+PC9nPjwvc3ZnPg==);width:89px;height:89px\"><span class=\"_380ehC\">+ <!-- -->4</span></div></div></div></div><div class=\"_2c2kV-\"><div class=\"_16PBlm\"><div class=\"col\"><div class=\"col _2wzgFH\"><div class=\"row\"><div class=\"_3LWZlK _1BLPMq\">5<img class=\"_1wB99o\" src=\"data:image/svg+xml;base64,PHN2ZyB4bWxucz0iaHR0cDovL3d3dy53My5vcmcvMjAwMC9zdmciIHdpZHRoPSIxMyIgaGVpZ2h0PSIxMiI+PHBhdGggZmlsbD0iI0ZGRiIgZD0iTTYuNSA5LjQzOWwtMy42NzQgMi4yMy45NC00LjI2LTMuMjEtMi44ODMgNC4yNTQtLjQwNEw2LjUuMTEybDEuNjkgNC4wMSA0LjI1NC40MDQtMy4yMSAyLjg4Mi45NCA0LjI2eiIvPjwvc3ZnPg==\"/></div><p class=\"_2-N8zT\">Terrific</p></div><div class=\"row\"><div class=\"t-ZTKy\"><div><div class=\"\">I found a good deal and the haldiram namkeen are always best in taste. Super crunchy and very fresh product received. I am happy.</div><span class=\"_1H-bmy\"><span>READ MORE</span></span></div></div></div><div class=\"_2nMSwX _3oLIki\"><div class=\"_21YjFX _2A07HP\" style=\"background-image:url(https://rukminim1.flixcart.com/blobio/124/124/imr-202202/blobio-imr-202202_633108fde44e4867b0b8c1f68a0463af.jpg?q=90), url(data:image/svg+xml;base64,PHN2ZyB3aWR0aD0iMjIiIGhlaWdodD0iMTgiIHhtbG5zPSJodHRwOi8vd3d3LnczLm9yZy8yMDAwL3N2ZyI+PGcgZmlsbD0iIzlEOUQ5RCIgZmlsbC1ydWxlPSJub256ZXJvIj48cGF0aCBkPSJNMjAgMEgyQzEgMCAwIDEgMCAydjE0YzAgMS4xLjkgMiAyIDJoMThjMSAwIDItMSAyLTJWMmMwLTEtMS0yLTItMnptMCAxNS45MmMtLjAyLjAzLS4wNi4wNi0uMDguMDhIMlYyLjA4TDIuMDggMmgxNy44M2MuMDMuMDIuMDYuMDYuMDguMDh2MTMuODRIMjB6Ii8+PHBhdGggZD0iTTEwIDEyLjUxTDcuNSA5LjUgNCAxNGgxNGwtNC41LTZ6Ii8+PC9nPjwvc3ZnPg==);width:62px;height:62px\"></div></div><div class=\"row _3n8db9\"><div class=\"row\"><p class=\"_2sc7ZR _2V5EHH\">Ajay Tiwari</p><svg class=\"_2a1p_T\" height=\"14\" viewbox=\"0 0 12 12\" width=\"14\" xmlns=\"http://www.w3.org/2000/svg\"><g><circle cx=\"6\" cy=\"6\" fill=\"#878787\" r=\"6\"></circle><path d=\"M3 6l2 2 4-4\" fill=\"#878787\" stroke=\"#FFF\" stroke-width=\"1.5\"></path></g></svg><p class=\"_2mcZGG\" id=\"review-1a6ca73c-8819-4838-ba31-f81611529bf6\"><span>Certified Buyer</span><span>, Bhopal</span></p><div></div><p class=\"_2sc7ZR\">Feb, 2022</p></div><div class=\"_1e9_Zu\"><div class=\"row\"><div class=\"_27aTsS\"><div class=\"_1LmwT9\"><svg class=\"skCrcq\" height=\"15\" width=\"20\" xmlns=\"http://www.w3.org/2000/svg\"><path class=\"_1LIt4y\" d=\"M9.58.006c-.41.043-.794.32-1.01.728-.277.557-2.334 4.693-2.74 5.1-.41.407-.944.6-1.544.6v8.572h7.5c.45 0 .835-.28 1.007-.665 0 0 2.207-6.234 2.207-6.834 0-.6-.47-1.072-1.07-1.072h-3.216c-.6 0-1.07-.535-1.07-1.07 0-.537.835-3.387 1.006-3.944.17-.557-.107-1.157-.664-1.35-.15-.043-.257-.086-.407-.064zM0 6.434v8.572h2.143V6.434H0z\" fill=\"#fff\" fill-rule=\"evenodd\"></path></svg><span class=\"_3c3Px5\">31</span></div><div class=\"_1LmwT9 pkR4jH\"><svg class=\"skCrcq pkR4jH\" height=\"15\" width=\"20\" xmlns=\"http://www.w3.org/2000/svg\"><path class=\"_1LIt4y\" d=\"M9.58.006c-.41.043-.794.32-1.01.728-.277.557-2.334 4.693-2.74 5.1-.41.407-.944.6-1.544.6v8.572h7.5c.45 0 .835-.28 1.007-.665 0 0 2.207-6.234 2.207-6.834 0-.6-.47-1.072-1.07-1.072h-3.216c-.6 0-1.07-.535-1.07-1.07 0-.537.835-3.387 1.006-3.944.17-.557-.107-1.157-.664-1.35-.15-.043-.257-.086-.407-.064zM0 6.434v8.572h2.143V6.434H0z\" fill=\"#fff\" fill-rule=\"evenodd\"></path></svg><span class=\"_3c3Px5\">11</span></div></div><div class=\"_2bmov8\"><svg class=\"_2UvOBb\" height=\"11\" viewbox=\"0 0 16 27\" width=\"6\" xmlns=\"http://www.w3.org/2000/svg\"><path class=\"_2aPE6f\" d=\"M16 23.207L6.11 13.161 16 3.093 12.955 0 0 13.161l12.955 13.161z\" fill=\"#fff\"></path></svg><div class=\"_3E8aIl _38dCuf\"><div class=\"_3XCI6U\"><a href=\"/reviews/SNSETFPYMGJKSHYC:125?reviewId=1a6ca73c-8819-4838-ba31-f81611529bf6\"><span>Permalink</span></a></div><div class=\"_3XCI6U _2b2z-j\"><span>Report Abuse</span></div></div></div></div></div></div></div></div></div><div class=\"_16PBlm\"><div class=\"col\"><div class=\"col _2wzgFH\"><div class=\"row\"><div class=\"_3LWZlK _1BLPMq\">5<img class=\"_1wB99o\" src=\"data:image/svg+xml;base64,PHN2ZyB4bWxucz0iaHR0cDovL3d3dy53My5vcmcvMjAwMC9zdmciIHdpZHRoPSIxMyIgaGVpZ2h0PSIxMiI+PHBhdGggZmlsbD0iI0ZGRiIgZD0iTTYuNSA5LjQzOWwtMy42NzQgMi4yMy45NC00LjI2LTMuMjEtMi44ODMgNC4yNTQtLjQwNEw2LjUuMTEybDEuNjkgNC4wMSA0LjI1NC40MDQtMy4yMSAyLjg4Mi45NCA0LjI2eiIvPjwvc3ZnPg==\"/></div><p class=\"_2-N8zT\">Awesome</p></div><div class=\"row\"><div class=\"t-ZTKy\"><div><div class=\"\">Awesome taste....crispy and crunchy.... Love it...</div><span class=\"_1H-bmy\"><span>READ MORE</span></span></div></div></div><div class=\"_2nMSwX _3oLIki\"><div class=\"_21YjFX _2A07HP\" style=\"background-image:url(https://rukminim1.flixcart.com/blobio/124/124/imr-202010/blobio-imr-202010_ba9ab090370843c9b0870330e1d37142.jpg?q=90), url(data:image/svg+xml;base64,PHN2ZyB3aWR0aD0iMjIiIGhlaWdodD0iMTgiIHhtbG5zPSJodHRwOi8vd3d3LnczLm9yZy8yMDAwL3N2ZyI+PGcgZmlsbD0iIzlEOUQ5RCIgZmlsbC1ydWxlPSJub256ZXJvIj48cGF0aCBkPSJNMjAgMEgyQzEgMCAwIDEgMCAydjE0YzAgMS4xLjkgMiAyIDJoMThjMSAwIDItMSAyLTJWMmMwLTEtMS0yLTItMnptMCAxNS45MmMtLjAyLjAzLS4wNi4wNi0uMDguMDhIMlYyLjA4TDIuMDggMmgxNy44M2MuMDMuMDIuMDYuMDYuMDguMDh2MTMuODRIMjB6Ii8+PHBhdGggZD0iTTEwIDEyLjUxTDcuNSA5LjUgNCAxNGgxNGwtNC41LTZ6Ii8+PC9nPjwvc3ZnPg==);width:62px;height:62px\"></div></div><div class=\"row _3n8db9\"><div class=\"row\"><p class=\"_2sc7ZR _2V5EHH\">Aatika Shaikh</p><svg class=\"_2a1p_T\" height=\"14\" viewbox=\"0 0 12 12\" width=\"14\" xmlns=\"http://www.w3.org/2000/svg\"><g><circle cx=\"6\" cy=\"6\" fill=\"#878787\" r=\"6\"></circle><path d=\"M3 6l2 2 4-4\" fill=\"#878787\" stroke=\"#FFF\" stroke-width=\"1.5\"></path></g></svg><p class=\"_2mcZGG\" id=\"review-8aeda062-f9e2-47aa-af2c-131129b8d4e0\"><span>Certified Buyer</span><span>, Mukhed</span></p><div></div><p class=\"_2sc7ZR\">Oct, 2020</p></div><div class=\"_1e9_Zu\"><div class=\"row\"><div class=\"_27aTsS\"><div class=\"_1LmwT9\"><svg class=\"skCrcq\" height=\"15\" width=\"20\" xmlns=\"http://www.w3.org/2000/svg\"><path class=\"_1LIt4y\" d=\"M9.58.006c-.41.043-.794.32-1.01.728-.277.557-2.334 4.693-2.74 5.1-.41.407-.944.6-1.544.6v8.572h7.5c.45 0 .835-.28 1.007-.665 0 0 2.207-6.234 2.207-6.834 0-.6-.47-1.072-1.07-1.072h-3.216c-.6 0-1.07-.535-1.07-1.07 0-.537.835-3.387 1.006-3.944.17-.557-.107-1.157-.664-1.35-.15-.043-.257-.086-.407-.064zM0 6.434v8.572h2.143V6.434H0z\" fill=\"#fff\" fill-rule=\"evenodd\"></path></svg><span class=\"_3c3Px5\">10</span></div><div class=\"_1LmwT9 pkR4jH\"><svg class=\"skCrcq pkR4jH\" height=\"15\" width=\"20\" xmlns=\"http://www.w3.org/2000/svg\"><path class=\"_1LIt4y\" d=\"M9.58.006c-.41.043-.794.32-1.01.728-.277.557-2.334 4.693-2.74 5.1-.41.407-.944.6-1.544.6v8.572h7.5c.45 0 .835-.28 1.007-.665 0 0 2.207-6.234 2.207-6.834 0-.6-.47-1.072-1.07-1.072h-3.216c-.6 0-1.07-.535-1.07-1.07 0-.537.835-3.387 1.006-3.944.17-.557-.107-1.157-.664-1.35-.15-.043-.257-.086-.407-.064zM0 6.434v8.572h2.143V6.434H0z\" fill=\"#fff\" fill-rule=\"evenodd\"></path></svg><span class=\"_3c3Px5\">1</span></div></div><div class=\"_2bmov8\"><svg class=\"_2UvOBb\" height=\"11\" viewbox=\"0 0 16 27\" width=\"6\" xmlns=\"http://www.w3.org/2000/svg\"><path class=\"_2aPE6f\" d=\"M16 23.207L6.11 13.161 16 3.093 12.955 0 0 13.161l12.955 13.161z\" fill=\"#fff\"></path></svg><div class=\"_3E8aIl _38dCuf\"><div class=\"_3XCI6U\"><a href=\"/reviews/SNSF2XVG9NWGHNBZ:96?reviewId=8aeda062-f9e2-47aa-af2c-131129b8d4e0\"><span>Permalink</span></a></div><div class=\"_3XCI6U _2b2z-j\"><span>Report Abuse</span></div></div></div></div></div></div></div></div></div><div class=\"_16PBlm\"><div class=\"col\"><div class=\"col _2wzgFH\"><div class=\"row\"><div class=\"_3LWZlK _1BLPMq\">4<img class=\"_1wB99o\" src=\"data:image/svg+xml;base64,PHN2ZyB4bWxucz0iaHR0cDovL3d3dy53My5vcmcvMjAwMC9zdmciIHdpZHRoPSIxMyIgaGVpZ2h0PSIxMiI+PHBhdGggZmlsbD0iI0ZGRiIgZD0iTTYuNSA5LjQzOWwtMy42NzQgMi4yMy45NC00LjI2LTMuMjEtMi44ODMgNC4yNTQtLjQwNEw2LjUuMTEybDEuNjkgNC4wMSA0LjI1NC40MDQtMy4yMSAyLjg4Mi45NCA0LjI2eiIvPjwvc3ZnPg==\"/></div><p class=\"_2-N8zT\">Nice product</p></div><div class=\"row\"><div class=\"t-ZTKy\"><div><div class=\"\">mast time pass. after eating it,  you get addicted of eating more. should have flavor added.</div><span class=\"_1H-bmy\"><span>READ MORE</span></span></div></div></div><div class=\"row _3n8db9\"><div class=\"row\"><p class=\"_2sc7ZR _2V5EHH\">Prabhat Ranjan</p><svg class=\"_2a1p_T\" height=\"14\" viewbox=\"0 0 12 12\" width=\"14\" xmlns=\"http://www.w3.org/2000/svg\"><g><circle cx=\"6\" cy=\"6\" fill=\"#878787\" r=\"6\"></circle><path d=\"M3 6l2 2 4-4\" fill=\"#878787\" stroke=\"#FFF\" stroke-width=\"1.5\"></path></g></svg><p class=\"_2mcZGG\" id=\"review-3692d1b3-99ce-481b-ac43-65a34ae9ee90\"><span>Certified Buyer</span><span>, Darbhanga</span></p><div></div><p class=\"_2sc7ZR\">Nov, 2018</p></div><div class=\"_1e9_Zu\"><div class=\"row\"><div class=\"_27aTsS\"><div class=\"_1LmwT9\"><svg class=\"skCrcq\" height=\"15\" width=\"20\" xmlns=\"http://www.w3.org/2000/svg\"><path class=\"_1LIt4y\" d=\"M9.58.006c-.41.043-.794.32-1.01.728-.277.557-2.334 4.693-2.74 5.1-.41.407-.944.6-1.544.6v8.572h7.5c.45 0 .835-.28 1.007-.665 0 0 2.207-6.234 2.207-6.834 0-.6-.47-1.072-1.07-1.072h-3.216c-.6 0-1.07-.535-1.07-1.07 0-.537.835-3.387 1.006-3.944.17-.557-.107-1.157-.664-1.35-.15-.043-.257-.086-.407-.064zM0 6.434v8.572h2.143V6.434H0z\" fill=\"#fff\" fill-rule=\"evenodd\"></path></svg><span class=\"_3c3Px5\">32</span></div><div class=\"_1LmwT9 pkR4jH\"><svg class=\"skCrcq pkR4jH\" height=\"15\" width=\"20\" xmlns=\"http://www.w3.org/2000/svg\"><path class=\"_1LIt4y\" d=\"M9.58.006c-.41.043-.794.32-1.01.728-.277.557-2.334 4.693-2.74 5.1-.41.407-.944.6-1.544.6v8.572h7.5c.45 0 .835-.28 1.007-.665 0 0 2.207-6.234 2.207-6.834 0-.6-.47-1.072-1.07-1.072h-3.216c-.6 0-1.07-.535-1.07-1.07 0-.537.835-3.387 1.006-3.944.17-.557-.107-1.157-.664-1.35-.15-.043-.257-.086-.407-.064zM0 6.434v8.572h2.143V6.434H0z\" fill=\"#fff\" fill-rule=\"evenodd\"></path></svg><span class=\"_3c3Px5\">10</span></div></div><div class=\"_2bmov8\"><svg class=\"_2UvOBb\" height=\"11\" viewbox=\"0 0 16 27\" width=\"6\" xmlns=\"http://www.w3.org/2000/svg\"><path class=\"_2aPE6f\" d=\"M16 23.207L6.11 13.161 16 3.093 12.955 0 0 13.161l12.955 13.161z\" fill=\"#fff\"></path></svg><div class=\"_3E8aIl _38dCuf\"><div class=\"_3XCI6U\"><a href=\"/reviews/SNSF2XVG9NWGHNBZ:10?reviewId=3692d1b3-99ce-481b-ac43-65a34ae9ee90\"><span>Permalink</span></a></div><div class=\"_3XCI6U _2b2z-j\"><span>Report Abuse</span></div></div></div></div></div></div></div></div></div><div class=\"_16PBlm _3_IKGE\"><div class=\"col\"><div class=\"col _2wzgFH\"><div class=\"row\"><div class=\"_3LWZlK _1BLPMq\">5<img class=\"_1wB99o\" src=\"data:image/svg+xml;base64,PHN2ZyB4bWxucz0iaHR0cDovL3d3dy53My5vcmcvMjAwMC9zdmciIHdpZHRoPSIxMyIgaGVpZ2h0PSIxMiI+PHBhdGggZmlsbD0iI0ZGRiIgZD0iTTYuNSA5LjQzOWwtMy42NzQgMi4yMy45NC00LjI2LTMuMjEtMi44ODMgNC4yNTQtLjQwNEw2LjUuMTEybDEuNjkgNC4wMSA0LjI1NC40MDQtMy4yMSAyLjg4Mi45NCA0LjI2eiIvPjwvc3ZnPg==\"/></div><p class=\"_2-N8zT\">Brilliant</p></div><div class=\"row\"><div class=\"t-ZTKy\"><div><div class=\"\">It's product is awesome testy u can try and order now sev and gathia test is 😙</div><span class=\"_1H-bmy\"><span>READ MORE</span></span></div></div></div><div class=\"_2nMSwX _3oLIki\"><div class=\"_21YjFX _2A07HP\" style=\"background-image:url(https://rukminim1.flixcart.com/blobio/124/124/imr-202009/blobio-imr-202009_c4e7f83526cb49279f5a0cfe972af450.jpg?q=90), url(data:image/svg+xml;base64,PHN2ZyB3aWR0aD0iMjIiIGhlaWdodD0iMTgiIHhtbG5zPSJodHRwOi8vd3d3LnczLm9yZy8yMDAwL3N2ZyI+PGcgZmlsbD0iIzlEOUQ5RCIgZmlsbC1ydWxlPSJub256ZXJvIj48cGF0aCBkPSJNMjAgMEgyQzEgMCAwIDEgMCAydjE0YzAgMS4xLjkgMiAyIDJoMThjMSAwIDItMSAyLTJWMmMwLTEtMS0yLTItMnptMCAxNS45MmMtLjAyLjAzLS4wNi4wNi0uMDguMDhIMlYyLjA4TDIuMDggMmgxNy44M2MuMDMuMDIuMDYuMDYuMDguMDh2MTMuODRIMjB6Ii8+PHBhdGggZD0iTTEwIDEyLjUxTDcuNSA5LjUgNCAxNGgxNGwtNC41LTZ6Ii8+PC9nPjwvc3ZnPg==);width:62px;height:62px\"></div></div><div class=\"row _3n8db9\"><div class=\"row\"><p class=\"_2sc7ZR _2V5EHH\">Robin Raut</p><svg class=\"_2a1p_T\" height=\"14\" viewbox=\"0 0 12 12\" width=\"14\" xmlns=\"http://www.w3.org/2000/svg\"><g><circle cx=\"6\" cy=\"6\" fill=\"#878787\" r=\"6\"></circle><path d=\"M3 6l2 2 4-4\" fill=\"#878787\" stroke=\"#FFF\" stroke-width=\"1.5\"></path></g></svg><p class=\"_2mcZGG\" id=\"review-daddd3c6-5d2a-4b2a-90d3-434040aa1947\"><span>Certified Buyer</span><span>, Ganjam</span></p><div></div><p class=\"_2sc7ZR\">Sep, 2020</p></div><div class=\"_1e9_Zu\"><div class=\"row\"><div class=\"_27aTsS\"><div class=\"_1LmwT9\"><svg class=\"skCrcq\" height=\"15\" width=\"20\" xmlns=\"http://www.w3.org/2000/svg\"><path class=\"_1LIt4y\" d=\"M9.58.006c-.41.043-.794.32-1.01.728-.277.557-2.334 4.693-2.74 5.1-.41.407-.944.6-1.544.6v8.572h7.5c.45 0 .835-.28 1.007-.665 0 0 2.207-6.234 2.207-6.834 0-.6-.47-1.072-1.07-1.072h-3.216c-.6 0-1.07-.535-1.07-1.07 0-.537.835-3.387 1.006-3.944.17-.557-.107-1.157-.664-1.35-.15-.043-.257-.086-.407-.064zM0 6.434v8.572h2.143V6.434H0z\" fill=\"#fff\" fill-rule=\"evenodd\"></path></svg><span class=\"_3c3Px5\">12</span></div><div class=\"_1LmwT9 pkR4jH\"><svg class=\"skCrcq pkR4jH\" height=\"15\" width=\"20\" xmlns=\"http://www.w3.org/2000/svg\"><path class=\"_1LIt4y\" d=\"M9.58.006c-.41.043-.794.32-1.01.728-.277.557-2.334 4.693-2.74 5.1-.41.407-.944.6-1.544.6v8.572h7.5c.45 0 .835-.28 1.007-.665 0 0 2.207-6.234 2.207-6.834 0-.6-.47-1.072-1.07-1.072h-3.216c-.6 0-1.07-.535-1.07-1.07 0-.537.835-3.387 1.006-3.944.17-.557-.107-1.157-.664-1.35-.15-.043-.257-.086-.407-.064zM0 6.434v8.572h2.143V6.434H0z\" fill=\"#fff\" fill-rule=\"evenodd\"></path></svg><span class=\"_3c3Px5\">3</span></div></div><div class=\"_2bmov8\"><svg class=\"_2UvOBb\" height=\"11\" viewbox=\"0 0 16 27\" width=\"6\" xmlns=\"http://www.w3.org/2000/svg\"><path class=\"_2aPE6f\" d=\"M16 23.207L6.11 13.161 16 3.093 12.955 0 0 13.161l12.955 13.161z\" fill=\"#fff\"></path></svg><div class=\"_3E8aIl _38dCuf\"><div class=\"_3XCI6U\"><a href=\"/reviews/SNSF2XVG9NWGHNBZ:87?reviewId=daddd3c6-5d2a-4b2a-90d3-434040aa1947\"><span>Permalink</span></a></div><div class=\"_3XCI6U _2b2z-j\"><span>Report Abuse</span></div></div></div></div></div></div></div></div></div><div class=\"_16PBlm _3_IKGE\"><div class=\"col\"><div class=\"col _2wzgFH\"><div class=\"row\"><div class=\"_3LWZlK _1BLPMq\">5<img class=\"_1wB99o\" src=\"data:image/svg+xml;base64,PHN2ZyB4bWxucz0iaHR0cDovL3d3dy53My5vcmcvMjAwMC9zdmciIHdpZHRoPSIxMyIgaGVpZ2h0PSIxMiI+PHBhdGggZmlsbD0iI0ZGRiIgZD0iTTYuNSA5LjQzOWwtMy42NzQgMi4yMy45NC00LjI2LTMuMjEtMi44ODMgNC4yNTQtLjQwNEw2LjUuMTEybDEuNjkgNC4wMSA0LjI1NC40MDQtMy4yMSAyLjg4Mi45NCA0LjI2eiIvPjwvc3ZnPg==\"/></div><p class=\"_2-N8zT\">Worth every penny</p></div><div class=\"row\"><div class=\"t-ZTKy\"><div><div class=\"\">supar testy</div><span class=\"_1H-bmy\"><span>READ MORE</span></span></div></div></div><div class=\"row _3n8db9\"><div class=\"row\"><p class=\"_2sc7ZR _2V5EHH\">Abhik Nath</p><svg class=\"_2a1p_T\" height=\"14\" viewbox=\"0 0 12 12\" width=\"14\" xmlns=\"http://www.w3.org/2000/svg\"><g><circle cx=\"6\" cy=\"6\" fill=\"#878787\" r=\"6\"></circle><path d=\"M3 6l2 2 4-4\" fill=\"#878787\" stroke=\"#FFF\" stroke-width=\"1.5\"></path></g></svg><p class=\"_2mcZGG\" id=\"review-75029006-b4f3-4439-8c6d-c3ebaecf0e5a\"><span>Certified Buyer</span><span>, Krishnanagar</span></p><div></div><p class=\"_2sc7ZR\">Apr, 2018</p></div><div class=\"_1e9_Zu\"><div class=\"row\"><div class=\"_27aTsS\"><div class=\"_1LmwT9\"><svg class=\"skCrcq\" height=\"15\" width=\"20\" xmlns=\"http://www.w3.org/2000/svg\"><path class=\"_1LIt4y\" d=\"M9.58.006c-.41.043-.794.32-1.01.728-.277.557-2.334 4.693-2.74 5.1-.41.407-.944.6-1.544.6v8.572h7.5c.45 0 .835-.28 1.007-.665 0 0 2.207-6.234 2.207-6.834 0-.6-.47-1.072-1.07-1.072h-3.216c-.6 0-1.07-.535-1.07-1.07 0-.537.835-3.387 1.006-3.944.17-.557-.107-1.157-.664-1.35-.15-.043-.257-.086-.407-.064zM0 6.434v8.572h2.143V6.434H0z\" fill=\"#fff\" fill-rule=\"evenodd\"></path></svg><span class=\"_3c3Px5\">15</span></div><div class=\"_1LmwT9 pkR4jH\"><svg class=\"skCrcq pkR4jH\" height=\"15\" width=\"20\" xmlns=\"http://www.w3.org/2000/svg\"><path class=\"_1LIt4y\" d=\"M9.58.006c-.41.043-.794.32-1.01.728-.277.557-2.334 4.693-2.74 5.1-.41.407-.944.6-1.544.6v8.572h7.5c.45 0 .835-.28 1.007-.665 0 0 2.207-6.234 2.207-6.834 0-.6-.47-1.072-1.07-1.072h-3.216c-.6 0-1.07-.535-1.07-1.07 0-.537.835-3.387 1.006-3.944.17-.557-.107-1.157-.664-1.35-.15-.043-.257-.086-.407-.064zM0 6.434v8.572h2.143V6.434H0z\" fill=\"#fff\" fill-rule=\"evenodd\"></path></svg><span class=\"_3c3Px5\">5</span></div></div><div class=\"_2bmov8\"><svg class=\"_2UvOBb\" height=\"11\" viewbox=\"0 0 16 27\" width=\"6\" xmlns=\"http://www.w3.org/2000/svg\"><path class=\"_2aPE6f\" d=\"M16 23.207L6.11 13.161 16 3.093 12.955 0 0 13.161l12.955 13.161z\" fill=\"#fff\"></path></svg><div class=\"_3E8aIl _38dCuf\"><div class=\"_3XCI6U\"><a href=\"/reviews/SNSF2XVG9NWGHNBZ:1?reviewId=75029006-b4f3-4439-8c6d-c3ebaecf0e5a\"><span>Permalink</span></a></div><div class=\"_3XCI6U _2b2z-j\"><span>Report Abuse</span></div></div></div></div></div></div></div></div></div><div class=\"_16PBlm _3_IKGE\"><div class=\"col\"><div class=\"col _2wzgFH\"><div class=\"row\"><div class=\"_3LWZlK _1BLPMq\">5<img class=\"_1wB99o\" src=\"data:image/svg+xml;base64,PHN2ZyB4bWxucz0iaHR0cDovL3d3dy53My5vcmcvMjAwMC9zdmciIHdpZHRoPSIxMyIgaGVpZ2h0PSIxMiI+PHBhdGggZmlsbD0iI0ZGRiIgZD0iTTYuNSA5LjQzOWwtMy42NzQgMi4yMy45NC00LjI2LTMuMjEtMi44ODMgNC4yNTQtLjQwNEw2LjUuMTEybDEuNjkgNC4wMSA0LjI1NC40MDQtMy4yMSAyLjg4Mi45NCA0LjI2eiIvPjwvc3ZnPg==\"/></div><p class=\"_2-N8zT\">Mind-blowing purchase</p></div><div class=\"row\"><div class=\"t-ZTKy\"><div><div class=\"\">Very nice</div><span class=\"_1H-bmy\"><span>READ MORE</span></span></div></div></div><div class=\"_2nMSwX _3oLIki\"><div class=\"_21YjFX _2A07HP\" style=\"background-image:url(https://rukminim1.flixcart.com/blobio/124/124/imr-202012/blobio-imr-202012_611f5bd8e965446eba00d943b1da5460.jpg?q=90), url(data:image/svg+xml;base64,PHN2ZyB3aWR0aD0iMjIiIGhlaWdodD0iMTgiIHhtbG5zPSJodHRwOi8vd3d3LnczLm9yZy8yMDAwL3N2ZyI+PGcgZmlsbD0iIzlEOUQ5RCIgZmlsbC1ydWxlPSJub256ZXJvIj48cGF0aCBkPSJNMjAgMEgyQzEgMCAwIDEgMCAydjE0YzAgMS4xLjkgMiAyIDJoMThjMSAwIDItMSAyLTJWMmMwLTEtMS0yLTItMnptMCAxNS45MmMtLjAyLjAzLS4wNi4wNi0uMDguMDhIMlYyLjA4TDIuMDggMmgxNy44M2MuMDMuMDIuMDYuMDYuMDguMDh2MTMuODRIMjB6Ii8+PHBhdGggZD0iTTEwIDEyLjUxTDcuNSA5LjUgNCAxNGgxNGwtNC41LTZ6Ii8+PC9nPjwvc3ZnPg==);width:62px;height:62px\"></div><div class=\"_21YjFX _2A07HP\" style=\"background-image:url(https://rukminim1.flixcart.com/blobio/124/124/imr-202012/blobio-imr-202012_b74fb20d20df4b29952c045e1b0852be.jpg?q=90), url(data:image/svg+xml;base64,PHN2ZyB3aWR0aD0iMjIiIGhlaWdodD0iMTgiIHhtbG5zPSJodHRwOi8vd3d3LnczLm9yZy8yMDAwL3N2ZyI+PGcgZmlsbD0iIzlEOUQ5RCIgZmlsbC1ydWxlPSJub256ZXJvIj48cGF0aCBkPSJNMjAgMEgyQzEgMCAwIDEgMCAydjE0YzAgMS4xLjkgMiAyIDJoMThjMSAwIDItMSAyLTJWMmMwLTEtMS0yLTItMnptMCAxNS45MmMtLjAyLjAzLS4wNi4wNi0uMDguMDhIMlYyLjA4TDIuMDggMmgxNy44M2MuMDMuMDIuMDYuMDYuMDguMDh2MTMuODRIMjB6Ii8+PHBhdGggZD0iTTEwIDEyLjUxTDcuNSA5LjUgNCAxNGgxNGwtNC41LTZ6Ii8+PC9nPjwvc3ZnPg==);width:62px;height:62px\"></div></div><div class=\"row _3n8db9\"><div class=\"row\"><p class=\"_2sc7ZR _2V5EHH\">DINESH KUMAR</p><svg class=\"_2a1p_T\" height=\"14\" viewbox=\"0 0 12 12\" width=\"14\" xmlns=\"http://www.w3.org/2000/svg\"><g><circle cx=\"6\" cy=\"6\" fill=\"#878787\" r=\"6\"></circle><path d=\"M3 6l2 2 4-4\" fill=\"#878787\" stroke=\"#FFF\" stroke-width=\"1.5\"></path></g></svg><p class=\"_2mcZGG\" id=\"review-57c44284-d481-4d33-8486-6936e9c00d5c\"><span>Certified Buyer</span><span>, Mau District</span></p><div></div><p class=\"_2sc7ZR\">Dec, 2020</p></div><div class=\"_1e9_Zu\"><div class=\"row\"><div class=\"_27aTsS\"><div class=\"_1LmwT9\"><svg class=\"skCrcq\" height=\"15\" width=\"20\" xmlns=\"http://www.w3.org/2000/svg\"><path class=\"_1LIt4y\" d=\"M9.58.006c-.41.043-.794.32-1.01.728-.277.557-2.334 4.693-2.74 5.1-.41.407-.944.6-1.544.6v8.572h7.5c.45 0 .835-.28 1.007-.665 0 0 2.207-6.234 2.207-6.834 0-.6-.47-1.072-1.07-1.072h-3.216c-.6 0-1.07-.535-1.07-1.07 0-.537.835-3.387 1.006-3.944.17-.557-.107-1.157-.664-1.35-.15-.043-.257-.086-.407-.064zM0 6.434v8.572h2.143V6.434H0z\" fill=\"#fff\" fill-rule=\"evenodd\"></path></svg><span class=\"_3c3Px5\">13</span></div><div class=\"_1LmwT9 pkR4jH\"><svg class=\"skCrcq pkR4jH\" height=\"15\" width=\"20\" xmlns=\"http://www.w3.org/2000/svg\"><path class=\"_1LIt4y\" d=\"M9.58.006c-.41.043-.794.32-1.01.728-.277.557-2.334 4.693-2.74 5.1-.41.407-.944.6-1.544.6v8.572h7.5c.45 0 .835-.28 1.007-.665 0 0 2.207-6.234 2.207-6.834 0-.6-.47-1.072-1.07-1.072h-3.216c-.6 0-1.07-.535-1.07-1.07 0-.537.835-3.387 1.006-3.944.17-.557-.107-1.157-.664-1.35-.15-.043-.257-.086-.407-.064zM0 6.434v8.572h2.143V6.434H0z\" fill=\"#fff\" fill-rule=\"evenodd\"></path></svg><span class=\"_3c3Px5\">5</span></div></div><div class=\"_2bmov8\"><svg class=\"_2UvOBb\" height=\"11\" viewbox=\"0 0 16 27\" width=\"6\" xmlns=\"http://www.w3.org/2000/svg\"><path class=\"_2aPE6f\" d=\"M16 23.207L6.11 13.161 16 3.093 12.955 0 0 13.161l12.955 13.161z\" fill=\"#fff\"></path></svg><div class=\"_3E8aIl _38dCuf\"><div class=\"_3XCI6U\"><a href=\"/reviews/SNSETFPYMGJKSHYC:34?reviewId=57c44284-d481-4d33-8486-6936e9c00d5c\"><span>Permalink</span></a></div><div class=\"_3XCI6U _2b2z-j\"><span>Report Abuse</span></div></div></div></div></div></div></div></div></div><div class=\"_16PBlm _3_IKGE\"><div class=\"col\"><div class=\"col _2wzgFH\"><div class=\"row\"><div class=\"_3LWZlK _1BLPMq\">5<img class=\"_1wB99o\" src=\"data:image/svg+xml;base64,PHN2ZyB4bWxucz0iaHR0cDovL3d3dy53My5vcmcvMjAwMC9zdmciIHdpZHRoPSIxMyIgaGVpZ2h0PSIxMiI+PHBhdGggZmlsbD0iI0ZGRiIgZD0iTTYuNSA5LjQzOWwtMy42NzQgMi4yMy45NC00LjI2LTMuMjEtMi44ODMgNC4yNTQtLjQwNEw2LjUuMTEybDEuNjkgNC4wMSA0LjI1NC40MDQtMy4yMSAyLjg4Mi45NCA0LjI2eiIvPjwvc3ZnPg==\"/></div><p class=\"_2-N8zT\">Highly recommended</p></div><div class=\"row\"><div class=\"t-ZTKy\"><div><div class=\"\">Excellent taste...Haldiram undoubtedly always best in all products.Good effort by Flipkart to have good seller under them.</div><span class=\"_1H-bmy\"><span>READ MORE</span></span></div></div></div><div class=\"_2nMSwX _3oLIki\"><div class=\"_21YjFX _2A07HP\" style=\"background-image:url(https://rukminim1.flixcart.com/blobio/124/124/imr-202107/blobio-imr-202107_ba9f19507d364deaa6508ecbdce06392.jpg?q=90), url(data:image/svg+xml;base64,PHN2ZyB3aWR0aD0iMjIiIGhlaWdodD0iMTgiIHhtbG5zPSJodHRwOi8vd3d3LnczLm9yZy8yMDAwL3N2ZyI+PGcgZmlsbD0iIzlEOUQ5RCIgZmlsbC1ydWxlPSJub256ZXJvIj48cGF0aCBkPSJNMjAgMEgyQzEgMCAwIDEgMCAydjE0YzAgMS4xLjkgMiAyIDJoMThjMSAwIDItMSAyLTJWMmMwLTEtMS0yLTItMnptMCAxNS45MmMtLjAyLjAzLS4wNi4wNi0uMDguMDhIMlYyLjA4TDIuMDggMmgxNy44M2MuMDMuMDIuMDYuMDYuMDguMDh2MTMuODRIMjB6Ii8+PHBhdGggZD0iTTEwIDEyLjUxTDcuNSA5LjUgNCAxNGgxNGwtNC41LTZ6Ii8+PC9nPjwvc3ZnPg==);width:62px;height:62px\"></div></div><div class=\"row _3n8db9\"><div class=\"row\"><p class=\"_2sc7ZR _2V5EHH\">KISHORE KUNAL</p><svg class=\"_2a1p_T\" height=\"14\" viewbox=\"0 0 12 12\" width=\"14\" xmlns=\"http://www.w3.org/2000/svg\"><g><circle cx=\"6\" cy=\"6\" fill=\"#878787\" r=\"6\"></circle><path d=\"M3 6l2 2 4-4\" fill=\"#878787\" stroke=\"#FFF\" stroke-width=\"1.5\"></path></g></svg><p class=\"_2mcZGG\" id=\"review-060bae19-5415-4877-9dac-095385c973fa\"><span>Certified Buyer</span><span>, Marthandam</span></p><div></div><p class=\"_2sc7ZR\">Jul, 2021</p></div><div class=\"_1e9_Zu\"><div class=\"row\"><div class=\"_27aTsS\"><div class=\"_1LmwT9\"><svg class=\"skCrcq\" height=\"15\" width=\"20\" xmlns=\"http://www.w3.org/2000/svg\"><path class=\"_1LIt4y\" d=\"M9.58.006c-.41.043-.794.32-1.01.728-.277.557-2.334 4.693-2.74 5.1-.41.407-.944.6-1.544.6v8.572h7.5c.45 0 .835-.28 1.007-.665 0 0 2.207-6.234 2.207-6.834 0-.6-.47-1.072-1.07-1.072h-3.216c-.6 0-1.07-.535-1.07-1.07 0-.537.835-3.387 1.006-3.944.17-.557-.107-1.157-.664-1.35-.15-.043-.257-.086-.407-.064zM0 6.434v8.572h2.143V6.434H0z\" fill=\"#fff\" fill-rule=\"evenodd\"></path></svg><span class=\"_3c3Px5\">6</span></div><div class=\"_1LmwT9 pkR4jH\"><svg class=\"skCrcq pkR4jH\" height=\"15\" width=\"20\" xmlns=\"http://www.w3.org/2000/svg\"><path class=\"_1LIt4y\" d=\"M9.58.006c-.41.043-.794.32-1.01.728-.277.557-2.334 4.693-2.74 5.1-.41.407-.944.6-1.544.6v8.572h7.5c.45 0 .835-.28 1.007-.665 0 0 2.207-6.234 2.207-6.834 0-.6-.47-1.072-1.07-1.072h-3.216c-.6 0-1.07-.535-1.07-1.07 0-.537.835-3.387 1.006-3.944.17-.557-.107-1.157-.664-1.35-.15-.043-.257-.086-.407-.064zM0 6.434v8.572h2.143V6.434H0z\" fill=\"#fff\" fill-rule=\"evenodd\"></path></svg><span class=\"_3c3Px5\">1</span></div></div><div class=\"_2bmov8\"><svg class=\"_2UvOBb\" height=\"11\" viewbox=\"0 0 16 27\" width=\"6\" xmlns=\"http://www.w3.org/2000/svg\"><path class=\"_2aPE6f\" d=\"M16 23.207L6.11 13.161 16 3.093 12.955 0 0 13.161l12.955 13.161z\" fill=\"#fff\"></path></svg><div class=\"_3E8aIl _38dCuf\"><div class=\"_3XCI6U\"><a href=\"/reviews/SNSETFPYMGJKSHYC:91?reviewId=060bae19-5415-4877-9dac-095385c973fa\"><span>Permalink</span></a></div><div class=\"_3XCI6U _2b2z-j\"><span>Report Abuse</span></div></div></div></div></div></div></div></div></div><div class=\"_16PBlm _3_IKGE\"><div class=\"col\"><div class=\"col _2wzgFH\"><div class=\"row\"><div class=\"_3LWZlK _1BLPMq\">5<img class=\"_1wB99o\" src=\"data:image/svg+xml;base64,PHN2ZyB4bWxucz0iaHR0cDovL3d3dy53My5vcmcvMjAwMC9zdmciIHdpZHRoPSIxMyIgaGVpZ2h0PSIxMiI+PHBhdGggZmlsbD0iI0ZGRiIgZD0iTTYuNSA5LjQzOWwtMy42NzQgMi4yMy45NC00LjI2LTMuMjEtMi44ODMgNC4yNTQtLjQwNEw2LjUuMTEybDEuNjkgNC4wMSA0LjI1NC40MDQtMy4yMSAyLjg4Mi45NCA0LjI2eiIvPjwvc3ZnPg==\"/></div><p class=\"_2-N8zT\">Awesome</p></div><div class=\"row\"><div class=\"t-ZTKy\"><div><div class=\"\">Very good but cost is high</div><span class=\"_1H-bmy\"><span>READ MORE</span></span></div></div></div><div class=\"_2nMSwX _3oLIki\"><div class=\"_21YjFX _2A07HP\" style=\"background-image:url(https://rukminim1.flixcart.com/blobio/124/124/imr-202008/blobio-imr-202008_538e3e69d1f640239cf813d4443fdedd.jpg?q=90), url(data:image/svg+xml;base64,PHN2ZyB3aWR0aD0iMjIiIGhlaWdodD0iMTgiIHhtbG5zPSJodHRwOi8vd3d3LnczLm9yZy8yMDAwL3N2ZyI+PGcgZmlsbD0iIzlEOUQ5RCIgZmlsbC1ydWxlPSJub256ZXJvIj48cGF0aCBkPSJNMjAgMEgyQzEgMCAwIDEgMCAydjE0YzAgMS4xLjkgMiAyIDJoMThjMSAwIDItMSAyLTJWMmMwLTEtMS0yLTItMnptMCAxNS45MmMtLjAyLjAzLS4wNi4wNi0uMDguMDhIMlYyLjA4TDIuMDggMmgxNy44M2MuMDMuMDIuMDYuMDYuMDguMDh2MTMuODRIMjB6Ii8+PHBhdGggZD0iTTEwIDEyLjUxTDcuNSA5LjUgNCAxNGgxNGwtNC41LTZ6Ii8+PC9nPjwvc3ZnPg==);width:62px;height:62px\"></div></div><div class=\"row _3n8db9\"><div class=\"row\"><p class=\"_2sc7ZR _2V5EHH\">Md Enamul  Haque</p><svg class=\"_2a1p_T\" height=\"14\" viewbox=\"0 0 12 12\" width=\"14\" xmlns=\"http://www.w3.org/2000/svg\"><g><circle cx=\"6\" cy=\"6\" fill=\"#878787\" r=\"6\"></circle><path d=\"M3 6l2 2 4-4\" fill=\"#878787\" stroke=\"#FFF\" stroke-width=\"1.5\"></path></g></svg><p class=\"_2mcZGG\" id=\"review-def10ce1-6ac7-4fb0-b061-12b02fb70f52\"><span>Certified Buyer</span><span>, Begusarai</span></p><div></div><p class=\"_2sc7ZR\">Aug, 2020</p></div><div class=\"_1e9_Zu\"><div class=\"row\"><div class=\"_27aTsS\"><div class=\"_1LmwT9\"><svg class=\"skCrcq\" height=\"15\" width=\"20\" xmlns=\"http://www.w3.org/2000/svg\"><path class=\"_1LIt4y\" d=\"M9.58.006c-.41.043-.794.32-1.01.728-.277.557-2.334 4.693-2.74 5.1-.41.407-.944.6-1.544.6v8.572h7.5c.45 0 .835-.28 1.007-.665 0 0 2.207-6.234 2.207-6.834 0-.6-.47-1.072-1.07-1.072h-3.216c-.6 0-1.07-.535-1.07-1.07 0-.537.835-3.387 1.006-3.944.17-.557-.107-1.157-.664-1.35-.15-.043-.257-.086-.407-.064zM0 6.434v8.572h2.143V6.434H0z\" fill=\"#fff\" fill-rule=\"evenodd\"></path></svg><span class=\"_3c3Px5\">6</span></div><div class=\"_1LmwT9 pkR4jH\"><svg class=\"skCrcq pkR4jH\" height=\"15\" width=\"20\" xmlns=\"http://www.w3.org/2000/svg\"><path class=\"_1LIt4y\" d=\"M9.58.006c-.41.043-.794.32-1.01.728-.277.557-2.334 4.693-2.74 5.1-.41.407-.944.6-1.544.6v8.572h7.5c.45 0 .835-.28 1.007-.665 0 0 2.207-6.234 2.207-6.834 0-.6-.47-1.072-1.07-1.072h-3.216c-.6 0-1.07-.535-1.07-1.07 0-.537.835-3.387 1.006-3.944.17-.557-.107-1.157-.664-1.35-.15-.043-.257-.086-.407-.064zM0 6.434v8.572h2.143V6.434H0z\" fill=\"#fff\" fill-rule=\"evenodd\"></path></svg><span class=\"_3c3Px5\">1</span></div></div><div class=\"_2bmov8\"><svg class=\"_2UvOBb\" height=\"11\" viewbox=\"0 0 16 27\" width=\"6\" xmlns=\"http://www.w3.org/2000/svg\"><path class=\"_2aPE6f\" d=\"M16 23.207L6.11 13.161 16 3.093 12.955 0 0 13.161l12.955 13.161z\" fill=\"#fff\"></path></svg><div class=\"_3E8aIl _38dCuf\"><div class=\"_3XCI6U\"><a href=\"/reviews/SNSF2XVG9NWGHNBZ:86?reviewId=def10ce1-6ac7-4fb0-b061-12b02fb70f52\"><span>Permalink</span></a></div><div class=\"_3XCI6U _2b2z-j\"><span>Report Abuse</span></div></div></div></div></div></div></div></div></div><div class=\"_16PBlm _3_IKGE\"><div class=\"col\"><div class=\"col _2wzgFH\"><div class=\"row\"><div class=\"_3LWZlK _1BLPMq\">5<img class=\"_1wB99o\" src=\"data:image/svg+xml;base64,PHN2ZyB4bWxucz0iaHR0cDovL3d3dy53My5vcmcvMjAwMC9zdmciIHdpZHRoPSIxMyIgaGVpZ2h0PSIxMiI+PHBhdGggZmlsbD0iI0ZGRiIgZD0iTTYuNSA5LjQzOWwtMy42NzQgMi4yMy45NC00LjI2LTMuMjEtMi44ODMgNC4yNTQtLjQwNEw2LjUuMTEybDEuNjkgNC4wMSA0LjI1NC40MDQtMy4yMSAyLjg4Mi45NCA0LjI2eiIvPjwvc3ZnPg==\"/></div><p class=\"_2-N8zT\">Simply awesome</p></div><div class=\"row\"><div class=\"t-ZTKy\"><div><div class=\"\">nice</div><span class=\"_1H-bmy\"><span>READ MORE</span></span></div></div></div><div class=\"_2nMSwX _3oLIki\"><div class=\"_21YjFX _2A07HP\" style=\"background-image:url(https://rukminim1.flixcart.com/blobio/124/124/imr-201907/blobio-imr-201907_e1845f79b0c846fa8258e4cd6634c2bf.jpg?q=90), url(data:image/svg+xml;base64,PHN2ZyB3aWR0aD0iMjIiIGhlaWdodD0iMTgiIHhtbG5zPSJodHRwOi8vd3d3LnczLm9yZy8yMDAwL3N2ZyI+PGcgZmlsbD0iIzlEOUQ5RCIgZmlsbC1ydWxlPSJub256ZXJvIj48cGF0aCBkPSJNMjAgMEgyQzEgMCAwIDEgMCAydjE0YzAgMS4xLjkgMiAyIDJoMThjMSAwIDItMSAyLTJWMmMwLTEtMS0yLTItMnptMCAxNS45MmMtLjAyLjAzLS4wNi4wNi0uMDguMDhIMlYyLjA4TDIuMDggMmgxNy44M2MuMDMuMDIuMDYuMDYuMDguMDh2MTMuODRIMjB6Ii8+PHBhdGggZD0iTTEwIDEyLjUxTDcuNSA5LjUgNCAxNGgxNGwtNC41LTZ6Ii8+PC9nPjwvc3ZnPg==);width:62px;height:62px\"></div><div class=\"_21YjFX _2A07HP\" style=\"background-image:url(https://rukminim1.flixcart.com/blobio/124/124/imr-201907/blobio-imr-201907_d41e400f8c374f7d9f5a797d19b21fe3.jpg?q=90), url(data:image/svg+xml;base64,PHN2ZyB3aWR0aD0iMjIiIGhlaWdodD0iMTgiIHhtbG5zPSJodHRwOi8vd3d3LnczLm9yZy8yMDAwL3N2ZyI+PGcgZmlsbD0iIzlEOUQ5RCIgZmlsbC1ydWxlPSJub256ZXJvIj48cGF0aCBkPSJNMjAgMEgyQzEgMCAwIDEgMCAydjE0YzAgMS4xLjkgMiAyIDJoMThjMSAwIDItMSAyLTJWMmMwLTEtMS0yLTItMnptMCAxNS45MmMtLjAyLjAzLS4wNi4wNi0uMDguMDhIMlYyLjA4TDIuMDggMmgxNy44M2MuMDMuMDIuMDYuMDYuMDguMDh2MTMuODRIMjB6Ii8+PHBhdGggZD0iTTEwIDEyLjUxTDcuNSA5LjUgNCAxNGgxNGwtNC41LTZ6Ii8+PC9nPjwvc3ZnPg==);width:62px;height:62px\"></div><div class=\"_21YjFX _2A07HP\" style=\"background-image:url(https://rukminim1.flixcart.com/blobio/124/124/imr-201907/blobio-imr-201907_0cee6ed0e89d47649ac6c5c99fd6b779.jpg?q=90), url(data:image/svg+xml;base64,PHN2ZyB3aWR0aD0iMjIiIGhlaWdodD0iMTgiIHhtbG5zPSJodHRwOi8vd3d3LnczLm9yZy8yMDAwL3N2ZyI+PGcgZmlsbD0iIzlEOUQ5RCIgZmlsbC1ydWxlPSJub256ZXJvIj48cGF0aCBkPSJNMjAgMEgyQzEgMCAwIDEgMCAydjE0YzAgMS4xLjkgMiAyIDJoMThjMSAwIDItMSAyLTJWMmMwLTEtMS0yLTItMnptMCAxNS45MmMtLjAyLjAzLS4wNi4wNi0uMDguMDhIMlYyLjA4TDIuMDggMmgxNy44M2MuMDMuMDIuMDYuMDYuMDguMDh2MTMuODRIMjB6Ii8+PHBhdGggZD0iTTEwIDEyLjUxTDcuNSA5LjUgNCAxNGgxNGwtNC41LTZ6Ii8+PC9nPjwvc3ZnPg==);width:62px;height:62px\"></div></div><div class=\"row _3n8db9\"><div class=\"row\"><p class=\"_2sc7ZR _2V5EHH\">Anil Kumar</p><svg class=\"_2a1p_T\" height=\"14\" viewbox=\"0 0 12 12\" width=\"14\" xmlns=\"http://www.w3.org/2000/svg\"><g><circle cx=\"6\" cy=\"6\" fill=\"#878787\" r=\"6\"></circle><path d=\"M3 6l2 2 4-4\" fill=\"#878787\" stroke=\"#FFF\" stroke-width=\"1.5\"></path></g></svg><p class=\"_2mcZGG\" id=\"review-78e7ce3f-155e-4ad6-9a3f-e0da9c1b545a\"><span>Certified Buyer</span><span>, Jajapur</span></p><div></div><p class=\"_2sc7ZR\">Jul, 2019</p></div><div class=\"_1e9_Zu\"><div class=\"row\"><div class=\"_27aTsS\"><div class=\"_1LmwT9\"><svg class=\"skCrcq\" height=\"15\" width=\"20\" xmlns=\"http://www.w3.org/2000/svg\"><path class=\"_1LIt4y\" d=\"M9.58.006c-.41.043-.794.32-1.01.728-.277.557-2.334 4.693-2.74 5.1-.41.407-.944.6-1.544.6v8.572h7.5c.45 0 .835-.28 1.007-.665 0 0 2.207-6.234 2.207-6.834 0-.6-.47-1.072-1.07-1.072h-3.216c-.6 0-1.07-.535-1.07-1.07 0-.537.835-3.387 1.006-3.944.17-.557-.107-1.157-.664-1.35-.15-.043-.257-.086-.407-.064zM0 6.434v8.572h2.143V6.434H0z\" fill=\"#fff\" fill-rule=\"evenodd\"></path></svg><span class=\"_3c3Px5\">30</span></div><div class=\"_1LmwT9 pkR4jH\"><svg class=\"skCrcq pkR4jH\" height=\"15\" width=\"20\" xmlns=\"http://www.w3.org/2000/svg\"><path class=\"_1LIt4y\" d=\"M9.58.006c-.41.043-.794.32-1.01.728-.277.557-2.334 4.693-2.74 5.1-.41.407-.944.6-1.544.6v8.572h7.5c.45 0 .835-.28 1.007-.665 0 0 2.207-6.234 2.207-6.834 0-.6-.47-1.072-1.07-1.072h-3.216c-.6 0-1.07-.535-1.07-1.07 0-.537.835-3.387 1.006-3.944.17-.557-.107-1.157-.664-1.35-.15-.043-.257-.086-.407-.064zM0 6.434v8.572h2.143V6.434H0z\" fill=\"#fff\" fill-rule=\"evenodd\"></path></svg><span class=\"_3c3Px5\">19</span></div></div><div class=\"_2bmov8\"><svg class=\"_2UvOBb\" height=\"11\" viewbox=\"0 0 16 27\" width=\"6\" xmlns=\"http://www.w3.org/2000/svg\"><path class=\"_2aPE6f\" d=\"M16 23.207L6.11 13.161 16 3.093 12.955 0 0 13.161l12.955 13.161z\" fill=\"#fff\"></path></svg><div class=\"_3E8aIl _38dCuf\"><div class=\"_3XCI6U\"><a href=\"/reviews/SNSF2XVG9NWGHNBZ:29?reviewId=78e7ce3f-155e-4ad6-9a3f-e0da9c1b545a\"><span>Permalink</span></a></div><div class=\"_3XCI6U _2b2z-j\"><span>Report Abuse</span></div></div></div></div></div></div></div></div></div><div class=\"_16PBlm _3_IKGE\"><div class=\"col\"><div class=\"col _2wzgFH\"><div class=\"row\"><div class=\"_3LWZlK _1BLPMq\">4<img class=\"_1wB99o\" src=\"data:image/svg+xml;base64,PHN2ZyB4bWxucz0iaHR0cDovL3d3dy53My5vcmcvMjAwMC9zdmciIHdpZHRoPSIxMyIgaGVpZ2h0PSIxMiI+PHBhdGggZmlsbD0iI0ZGRiIgZD0iTTYuNSA5LjQzOWwtMy42NzQgMi4yMy45NC00LjI2LTMuMjEtMi44ODMgNC4yNTQtLjQwNEw2LjUuMTEybDEuNjkgNC4wMSA0LjI1NC40MDQtMy4yMSAyLjg4Mi45NCA0LjI2eiIvPjwvc3ZnPg==\"/></div><p class=\"_2-N8zT\">Worth the money</p></div><div class=\"row\"><div class=\"t-ZTKy\"><div><div class=\"\">Haldiram is the best</div><span class=\"_1H-bmy\"><span>READ MORE</span></span></div></div></div><div class=\"_2nMSwX _3oLIki\"><div class=\"_21YjFX _2A07HP\" style=\"background-image:url(https://rukminim1.flixcart.com/blobio/124/124/imr-202001/blobio-imr-202001_cbd8f74257064b82817076f7b48c0ff6.jpg?q=90), url(data:image/svg+xml;base64,PHN2ZyB3aWR0aD0iMjIiIGhlaWdodD0iMTgiIHhtbG5zPSJodHRwOi8vd3d3LnczLm9yZy8yMDAwL3N2ZyI+PGcgZmlsbD0iIzlEOUQ5RCIgZmlsbC1ydWxlPSJub256ZXJvIj48cGF0aCBkPSJNMjAgMEgyQzEgMCAwIDEgMCAydjE0YzAgMS4xLjkgMiAyIDJoMThjMSAwIDItMSAyLTJWMmMwLTEtMS0yLTItMnptMCAxNS45MmMtLjAyLjAzLS4wNi4wNi0uMDguMDhIMlYyLjA4TDIuMDggMmgxNy44M2MuMDMuMDIuMDYuMDYuMDguMDh2MTMuODRIMjB6Ii8+PHBhdGggZD0iTTEwIDEyLjUxTDcuNSA5LjUgNCAxNGgxNGwtNC41LTZ6Ii8+PC9nPjwvc3ZnPg==);width:62px;height:62px\"></div></div><div class=\"row _3n8db9\"><div class=\"row\"><p class=\"_2sc7ZR _2V5EHH\">Subhajit Kumar  Chakraborty</p><svg class=\"_2a1p_T\" height=\"14\" viewbox=\"0 0 12 12\" width=\"14\" xmlns=\"http://www.w3.org/2000/svg\"><g><circle cx=\"6\" cy=\"6\" fill=\"#878787\" r=\"6\"></circle><path d=\"M3 6l2 2 4-4\" fill=\"#878787\" stroke=\"#FFF\" stroke-width=\"1.5\"></path></g></svg><p class=\"_2mcZGG\" id=\"review-416a84b1-1672-4335-aa66-c1fe6238b1ce\"><span>Certified Buyer</span><span>, Birnagar</span></p><div></div><p class=\"_2sc7ZR\">Jan, 2020</p></div><div class=\"_1e9_Zu\"><div class=\"row\"><div class=\"_27aTsS\"><div class=\"_1LmwT9\"><svg class=\"skCrcq\" height=\"15\" width=\"20\" xmlns=\"http://www.w3.org/2000/svg\"><path class=\"_1LIt4y\" d=\"M9.58.006c-.41.043-.794.32-1.01.728-.277.557-2.334 4.693-2.74 5.1-.41.407-.944.6-1.544.6v8.572h7.5c.45 0 .835-.28 1.007-.665 0 0 2.207-6.234 2.207-6.834 0-.6-.47-1.072-1.07-1.072h-3.216c-.6 0-1.07-.535-1.07-1.07 0-.537.835-3.387 1.006-3.944.17-.557-.107-1.157-.664-1.35-.15-.043-.257-.086-.407-.064zM0 6.434v8.572h2.143V6.434H0z\" fill=\"#fff\" fill-rule=\"evenodd\"></path></svg><span class=\"_3c3Px5\">9</span></div><div class=\"_1LmwT9 pkR4jH\"><svg class=\"skCrcq pkR4jH\" height=\"15\" width=\"20\" xmlns=\"http://www.w3.org/2000/svg\"><path class=\"_1LIt4y\" d=\"M9.58.006c-.41.043-.794.32-1.01.728-.277.557-2.334 4.693-2.74 5.1-.41.407-.944.6-1.544.6v8.572h7.5c.45 0 .835-.28 1.007-.665 0 0 2.207-6.234 2.207-6.834 0-.6-.47-1.072-1.07-1.072h-3.216c-.6 0-1.07-.535-1.07-1.07 0-.537.835-3.387 1.006-3.944.17-.557-.107-1.157-.664-1.35-.15-.043-.257-.086-.407-.064zM0 6.434v8.572h2.143V6.434H0z\" fill=\"#fff\" fill-rule=\"evenodd\"></path></svg><span class=\"_3c3Px5\">5</span></div></div><div class=\"_2bmov8\"><svg class=\"_2UvOBb\" height=\"11\" viewbox=\"0 0 16 27\" width=\"6\" xmlns=\"http://www.w3.org/2000/svg\"><path class=\"_2aPE6f\" d=\"M16 23.207L6.11 13.161 16 3.093 12.955 0 0 13.161l12.955 13.161z\" fill=\"#fff\"></path></svg><div class=\"_3E8aIl _38dCuf\"><div class=\"_3XCI6U\"><a href=\"/reviews/SNSF2XVG9NWGHNBZ:55?reviewId=416a84b1-1672-4335-aa66-c1fe6238b1ce\"><span>Permalink</span></a></div><div class=\"_3XCI6U _2b2z-j\"><span>Report Abuse</span></div></div></div></div></div></div></div></div></div></div><div class=\"_2c2kV-\"><span class=\"MCE--B\">+</span></div><a href=\"/haldiram-s-bhujia-sev/product-reviews/itmcf7427b395677?pid=SNSETFPYMGJKSHYC&amp;lid=LSTSNSETFPYMGJKSHYCS0WTBS&amp;marketplace=GROCERY\"><div class=\"_3UAT2v _16PBlm\"><span class=\"\">All 229 reviews</span></div></a></div></div><div class=\"_1AtVbE col-12-12\"><div class=\"Qc7Nxn\"><div class=\"_2a46si\"><span>Frequently Bought Together</span></div><div><div class=\"_29oOb_\"><div class=\"_3E8aIl mtoPr4 _3EpnAp\"><div class=\"litDoE\"><div class=\"_4ddWXP _3BCh3_\"><a class=\"_2rpwqI\" href=\"/haldiram-s-bhujia-sev/p/itmcf7427b395677?pid=SNSETFPYMGJKSHYC\" rel=\"noopener noreferrer\" target=\"_blank\" title=\"Haldiram's Bhujia Sev\"><div class=\"_28_T72\"><div><div class=\"CXW8mj\" style=\"height:112px;width:112px\"><img alt=\"Haldiram's Bhujia Sev\" class=\"_396cs4\" loading=\"eager\" src=\"https://rukminim1.flixcart.com/image/312/312/kgv5x8w0/snack-savourie/h/y/c/1-bhujia-sev-pouch-haldiram-s-original-imafwzuzsqa2dqfr.jpeg?q=70\"/></div></div></div></a><div><div><a class=\"s1Q9rs\" href=\"/haldiram-s-bhujia-sev/p/itmcf7427b395677?pid=SNSETFPYMGJKSHYC\" rel=\"noopener noreferrer\" target=\"_blank\" title=\"Haldiram's Bhujia Sev\">Haldiram's Bhujia Sev</a></div><div class=\"gUuXy- _2D5lwg\"><span class=\"_1lRcqv\" id=\"productRating_LSTSNSETFPYMGJKSHYCS0WTBS_SNSETFPYMGJKSHYC_\"><div class=\"_3LWZlK\">4.4<img class=\"_1wB99o\" src=\"data:image/svg+xml;base64,PHN2ZyB4bWxucz0iaHR0cDovL3d3dy53My5vcmcvMjAwMC9zdmciIHdpZHRoPSIxMyIgaGVpZ2h0PSIxMiI+PHBhdGggZmlsbD0iI0ZGRiIgZD0iTTYuNSA5LjQzOWwtMy42NzQgMi4yMy45NC00LjI2LTMuMjEtMi44ODMgNC4yNTQtLjQwNEw2LjUuMTEybDEuNjkgNC4wMSA0LjI1NC40MDQtMy4yMSAyLjg4Mi45NCA0LjI2eiIvPjwvc3ZnPg==\"/></div></span><span class=\"_2_R_DZ\">(3,345)</span></div><div class=\"_8VNy32\"><div class=\"_25b18c\"><div class=\"_30jeq3\">₹221</div><div class=\"_3I9_wc\">₹<!-- -->260</div><div class=\"_3Ay6Sb\"><span>15% off</span></div></div></div></div></div></div></div><div class=\"_3E8aIl mtoPr4 _3EpnAp\"><div class=\"litDoE\"><div class=\"_2AQydx\"><label class=\"_2iDkf8 _1dKMBS\"><input checked=\"\" class=\"_30VH1S\" readonly=\"\" type=\"checkbox\"/><div class=\"_24_Dny\"></div></label></div><div class=\"_4ddWXP _3BCh3_\"><a class=\"_2rpwqI\" href=\"/flipkart-supermart-select-californian-almonds/p/itmex88d8ecnzzhf?pid=NDFEX88DN49MHHHH&amp;lid=LSTNDFEX88DN49MHHHHHP6VR1&amp;marketplace=GROCERY&amp;fm=productRecommendation%2Fattach&amp;iid=R%3Aa%3Bp%3ASNSETFPYMGJKSHYC%3Bl%3ALSTSNSETFPYMGJKSHYCS0WTBS%3Bpt%3App%3Buid%3A70d88288-a8a9-11ed-8e46-8ffe140449fe%3B.NDFEX88DN49MHHHH&amp;ppt=None&amp;ppn=None&amp;ssid=x0r3o4pmq80000001675968121806&amp;otracker=pp_reco_Frequently%2BBought%2BTogether_1_Frequently%2BBought%2BTogether_NDFEX88DN49MHHHH_productRecommendation%2Fattach_1&amp;otracker1=pp_reco_PINNED_productRecommendation%2Fattach_Frequently%2BBought%2BTogether_NA_productCard_cc_1_NA_view-all&amp;cid=NDFEX88DN49MHHHH\" rel=\"noopener noreferrer\" target=\"_blank\" title=\"Flipkart Supermart Select Californian Almonds\"><div class=\"_28_T72\"><div><div class=\"CXW8mj\" style=\"height:112px;width:112px\"><img alt=\"Flipkart Supermart Select Californian Almonds\" class=\"_396cs4\" loading=\"eager\" src=\"https://rukminim1.flixcart.com/image/312/312/xif0q/nut-dry-fruit/u/h/m/-original-imaghmketswf6az5.jpeg?q=70\"/></div></div></div></a><div><div><a class=\"s1Q9rs\" href=\"/flipkart-supermart-select-californian-almonds/p/itmex88d8ecnzzhf?pid=NDFEX88DN49MHHHH&amp;lid=LSTNDFEX88DN49MHHHHHP6VR1&amp;marketplace=GROCERY&amp;fm=productRecommendation%2Fattach&amp;iid=R%3Aa%3Bp%3ASNSETFPYMGJKSHYC%3Bl%3ALSTSNSETFPYMGJKSHYCS0WTBS%3Bpt%3App%3Buid%3A70d88288-a8a9-11ed-8e46-8ffe140449fe%3B.NDFEX88DN49MHHHH&amp;ppt=None&amp;ppn=None&amp;ssid=x0r3o4pmq80000001675968121806&amp;otracker=pp_reco_Frequently%2BBought%2BTogether_1_Frequently%2BBought%2BTogether_NDFEX88DN49MHHHH_productRecommendation%2Fattach_1&amp;otracker1=pp_reco_PINNED_productRecommendation%2Fattach_Frequently%2BBought%2BTogether_NA_productCard_cc_1_NA_view-all&amp;cid=NDFEX88DN49MHHHH\" rel=\"noopener noreferrer\" target=\"_blank\" title=\"Flipkart Supermart Select Californian Almonds\">Flipkart Supermart Select Californian Almonds</a></div><div class=\"gUuXy- _2D5lwg\"><span class=\"_1lRcqv\" id=\"productRating_LSTNDFEX88DN49MHHHHHP6VR1_NDFEX88DN49MHHHH_\"><div class=\"_3LWZlK\">4.3<img class=\"_1wB99o\" src=\"data:image/svg+xml;base64,PHN2ZyB4bWxucz0iaHR0cDovL3d3dy53My5vcmcvMjAwMC9zdmciIHdpZHRoPSIxMyIgaGVpZ2h0PSIxMiI+PHBhdGggZmlsbD0iI0ZGRiIgZD0iTTYuNSA5LjQzOWwtMy42NzQgMi4yMy45NC00LjI2LTMuMjEtMi44ODMgNC4yNTQtLjQwNEw2LjUuMTEybDEuNjkgNC4wMSA0LjI1NC40MDQtMy4yMSAyLjg4Mi45NCA0LjI2eiIvPjwvc3ZnPg==\"/></div></span><span class=\"_2_R_DZ\">(4,368)</span></div><div class=\"_8VNy32\"><div class=\"_25b18c\"><div class=\"_30jeq3\">₹74</div></div></div></div></div></div></div><div class=\"_3E8aIl mtoPr4\"><div class=\"litDoE\"><div class=\"_2AQydx\"><label class=\"_2iDkf8 _1dKMBS\"><input checked=\"\" class=\"_30VH1S\" readonly=\"\" type=\"checkbox\"/><div class=\"_24_Dny\"></div></label></div><div class=\"_4ddWXP _3BCh3_\"><a class=\"_2rpwqI\" href=\"/sunfeast-dark-fantasy-choco-fills-cream-filled/p/itmf3djus4zh67ar?pid=CKBET6WU9ZXCGUGF&amp;lid=LSTCKBET6WU9ZXCGUGFEPAPI7&amp;marketplace=GROCERY&amp;fm=productRecommendation%2Fattach&amp;iid=R%3Aa%3Bp%3ASNSETFPYMGJKSHYC%3Bl%3ALSTSNSETFPYMGJKSHYCS0WTBS%3Bpt%3App%3Buid%3A70d88288-a8a9-11ed-8e46-8ffe140449fe%3B.CKBET6WU9ZXCGUGF&amp;ppt=None&amp;ppn=None&amp;ssid=x0r3o4pmq80000001675968121806&amp;otracker=pp_reco_Frequently%2BBought%2BTogether_2_Frequently%2BBought%2BTogether_CKBET6WU9ZXCGUGF_productRecommendation%2Fattach_2&amp;otracker1=pp_reco_PINNED_productRecommendation%2Fattach_Frequently%2BBought%2BTogether_NA_productCard_cc_2_NA_view-all&amp;cid=CKBET6WU9ZXCGUGF\" rel=\"noopener noreferrer\" target=\"_blank\" title=\"Sunfeast Dark Fantasy Choco Fills Cream Filled\"><div class=\"_28_T72\"><div><div class=\"CXW8mj\" style=\"height:112px;width:112px\"><img alt=\"Sunfeast Dark Fantasy Choco Fills Cream Filled\" class=\"_396cs4\" loading=\"eager\" src=\"https://rukminim1.flixcart.com/image/312/312/l0tweq80/cookie-biscuit/6/d/v/-original-imagcj64ufcuhukb.jpeg?q=70\"/></div></div></div></a><div><div><a class=\"s1Q9rs\" href=\"/sunfeast-dark-fantasy-choco-fills-cream-filled/p/itmf3djus4zh67ar?pid=CKBET6WU9ZXCGUGF&amp;lid=LSTCKBET6WU9ZXCGUGFEPAPI7&amp;marketplace=GROCERY&amp;fm=productRecommendation%2Fattach&amp;iid=R%3Aa%3Bp%3ASNSETFPYMGJKSHYC%3Bl%3ALSTSNSETFPYMGJKSHYCS0WTBS%3Bpt%3App%3Buid%3A70d88288-a8a9-11ed-8e46-8ffe140449fe%3B.CKBET6WU9ZXCGUGF&amp;ppt=None&amp;ppn=None&amp;ssid=x0r3o4pmq80000001675968121806&amp;otracker=pp_reco_Frequently%2BBought%2BTogether_2_Frequently%2BBought%2BTogether_CKBET6WU9ZXCGUGF_productRecommendation%2Fattach_2&amp;otracker1=pp_reco_PINNED_productRecommendation%2Fattach_Frequently%2BBought%2BTogether_NA_productCard_cc_2_NA_view-all&amp;cid=CKBET6WU9ZXCGUGF\" rel=\"noopener noreferrer\" target=\"_blank\" title=\"Sunfeast Dark Fantasy Choco Fills Cream Filled\">Sunfeast Dark Fantasy Choco Fills Cream Filled</a></div><div class=\"gUuXy- _2D5lwg\"><span class=\"_1lRcqv\" id=\"productRating_LSTCKBET6WU9ZXCGUGFEPAPI7_CKBET6WU9ZXCGUGF_\"><div class=\"_3LWZlK\">4.5<img class=\"_1wB99o\" src=\"data:image/svg+xml;base64,PHN2ZyB4bWxucz0iaHR0cDovL3d3dy53My5vcmcvMjAwMC9zdmciIHdpZHRoPSIxMyIgaGVpZ2h0PSIxMiI+PHBhdGggZmlsbD0iI0ZGRiIgZD0iTTYuNSA5LjQzOWwtMy42NzQgMi4yMy45NC00LjI2LTMuMjEtMi44ODMgNC4yNTQtLjQwNEw2LjUuMTEybDEuNjkgNC4wMSA0LjI1NC40MDQtMy4yMSAyLjg4Mi45NCA0LjI2eiIvPjwvc3ZnPg==\"/></div></span><span class=\"_2_R_DZ\">(9,987)</span></div><div class=\"_8VNy32\"><div class=\"_25b18c\"><div class=\"_30jeq3\">₹103</div></div></div></div></div></div></div></div><div class=\"_2wKoSe\"><div class=\"_31684S\"><div><div class=\"_1BErVs _3HBQud\"><div class=\"_3_Be9W\"><span>1 Item</span></div><div class=\"_3ocu1Y\"><span>₹<!-- -->221</span></div></div><div class=\"_1BErVs\"><div class=\"_3_Be9W\">2<!-- --> <span>Add-on</span>s</div><div class=\"_3ocu1Y\"><span>₹<span>177</span></span></div></div><div class=\"_1BErVs _3hyeE5\"><div class=\"_3_Be9W\">Total</div><div class=\"_3ocu1Y\">₹<span>398</span></div></div></div></div><div class=\"_1UcWw6\"><button class=\"_2KpZ6l _1t_O3S _2ti6Tf _3AWRsL\"><span><svg class=\"ZOtu09\" height=\"16\" viewbox=\"0 0 16 15\" width=\"16\" xmlns=\"http://www.w3.org/2000/svg\"><path class=\"\" d=\"M15.32 2.405H4.887C3 2.405 2.46.805 2.46.805L2.257.21C2.208.085 2.083 0 1.946 0H.336C.1 0-.064.24.024.46l.644 1.945L3.11 9.767c.047.137.175.23.32.23h8.418l-.493 1.958H3.768l.002.003c-.017 0-.033-.003-.05-.003-1.06 0-1.92.86-1.92 1.92s.86 1.92 1.92 1.92c.99 0 1.805-.75 1.91-1.712l5.55.076c.12.922.91 1.636 1.867 1.636 1.04 0 1.885-.844 1.885-1.885 0-.866-.584-1.593-1.38-1.814l2.423-8.832c.12-.433-.206-.86-.655-.86\" fill=\"#fff\"></path></svg><span>Add 3 Items to Cart</span></span></button></div></div></div></div></div><div class=\"_1AtVbE col-12-12\"><div class=\"_124baV\"><div class=\"_1RVm3P\">Safe and Secure Payments.<!-- -->Easy returns.<!-- -->100% Authentic products.</div></div></div></div></div></div><div class=\"_39SDPR\"></div></div><footer class=\"_3voSl0\"><div class=\"_3rc_xQ\"><div class=\"row\"><div class=\"col gu12 _8Qljeg\"></div></div><div><div class=\"_2WErco row\"><div class=\"_2Brcj4\"><div class=\"_3-dnWo\">ABOUT</div><a class=\"_1arVWX\" href=\"/helpcentre?otracker=undefined_footer_navlinks\">Contact Us</a><a class=\"_1arVWX\" href=\"/about-us?otracker=undefined_footer_navlinks\">About Us</a><a class=\"_1arVWX\" href=\"https://www.flipkartcareers.com/?otracker=undefined_footer_navlinks\">Careers</a><a class=\"_1arVWX\" href=\"http://stories.flipkart.com/?otracker=undefined_footer_navlinks\">Flipkart Stories</a><a class=\"_1arVWX\" href=\"/s/press?otracker=undefined_footer_navlinks\">Press</a><a class=\"_1arVWX\" href=\"https://www.flipkartwholesale.com/?otracker=undefined_footer_navlinks\" rel=\"noopener noreferrer\" target=\"_blank\">Flipkart Wholesale</a><a class=\"_1arVWX\" href=\"/corporate-information\">Corporate Information</a></div><div class=\"_2Brcj4\"><div class=\"_3-dnWo\">HELP</div><a class=\"_1arVWX\" href=\"/pages/payments\">Payments</a><a class=\"_1arVWX\" href=\"/pages/shipping\">Shipping</a><a class=\"_1arVWX\" href=\"/helpcentre?catalog=55c9c6edb000002e002c1701&amp;view=CATALOG\">Cancellation &amp; Returns</a><a class=\"_1arVWX\" href=\"/helpcentre?catalog=55c9c8e2b0000023002c1702&amp;view=CATALOG\">FAQ</a><a class=\"_1arVWX\" href=\"https://seller.flipkart.com/fiv?otracker=undefined_footer_navlinks\">Report Infringement</a></div><div class=\"_2Brcj4\"><div class=\"_3-dnWo\">POLICY</div><a class=\"_1arVWX\" href=\"/pages/returnpolicy?otracker=undefined_footer_navlinks\">Return Policy</a><a class=\"_1arVWX\" href=\"/pages/terms?otracker=undefined_footer_navlinks\">Terms Of Use</a><a class=\"_1arVWX\" href=\"/pages/paymentsecurity?otracker=undefined_footer_navlinks\">Security</a><a class=\"_1arVWX\" href=\"/pages/privacypolicy?otracker=undefined_footer_navlinks\">Privacy</a><a class=\"_1arVWX\" href=\"/sitemap?otracker=undefined_footer_navlinks\">Sitemap</a><a class=\"_1arVWX\" href=\"/pages/ewaste-compliance-tnc?otracker=undefined_footer_navlinks\">EPR Compliance</a></div><div class=\"_2Brcj4\"><div class=\"_3-dnWo\">SOCIAL</div><a class=\"_1arVWX\" href=\"https://www.facebook.com/flipkart\">Facebook</a><a class=\"_1arVWX\" href=\"https://www.twitter.com/flipkart\">Twitter</a><a class=\"_1arVWX\" href=\"https://www.youtube.com/flipkart\">YouTube</a></div><div class=\"_2Brcj4 address\"><div class=\"_3JHi0r\"><div class=\"_3-dnWo\"><span>Mail Us:</span></div><div class=\"_1U1qnR\"><div class=\"_1LJS6T\"><div class=\"_2NKhZn _1U1qnR\"><p>Flipkart Internet Private Limited, </p>\n",
       "<p> Buildings Alyssa, Begonia &amp; </p>\n",
       "<p> Clove Embassy Tech Village, </p>\n",
       "<p> Outer Ring Road, Devarabeesanahalli Village, </p>\n",
       "<p> Bengaluru, 560103, </p>\n",
       "<p> Karnataka, India</p>\n",
       "</div></div></div></div></div><div class=\"_2Brcj4 address\"><div class=\"_3IT4e6\"><div class=\"_3-dnWo\"><span>Registered Office Address:</span></div><div class=\"_1U1qnR\"><div class=\"_1LJS6T\"><div class=\"_2NKhZn _1U1qnR\"><p>Flipkart Internet Private Limited, </p>\n",
       "<p> Buildings Alyssa, Begonia &amp; </p>\n",
       "<p> Clove Embassy Tech Village, </p>\n",
       "<p> Outer Ring Road, Devarabeesanahalli Village, </p>\n",
       "<p> Bengaluru, 560103, </p>\n",
       "<p> Karnataka, India </p>\n",
       "<p> CIN : U51109KA2012PTC066107 </p>\n",
       "<p> Telephone: <a href=\"tel:044-45614700\">044-45614700</a></p>\n",
       "</div></div></div></div></div></div><div><div class=\"_2uz0vJ\"><div><img src=\"data:image/svg+xml;base64,PHN2ZyB4bWxucz0iaHR0cDovL3d3dy53My5vcmcvMjAwMC9zdmciIHdpZHRoPSIxNiIgaGVpZ2h0PSIxNSIgdmlld0JveD0iMCAwIDE2IDE1Ij4KICAgIDxkZWZzPgogICAgICAgIDxsaW5lYXJHcmFkaWVudCBpZD0iYSIgeDE9IjAlIiB4Mj0iODYuODc2JSIgeTE9IjAlIiB5Mj0iODAuMjAyJSI+CiAgICAgICAgICAgIDxzdG9wIG9mZnNldD0iMCUiIHN0b3AtY29sb3I9IiNGRkQ4MDAiLz4KICAgICAgICAgICAgPHN0b3Agb2Zmc2V0PSIxMDAlIiBzdG9wLWNvbG9yPSIjRkZBRjAwIi8+CiAgICAgICAgPC9saW5lYXJHcmFkaWVudD4KICAgIDwvZGVmcz4KICAgIDxnIGZpbGw9Im5vbmUiIGZpbGwtcnVsZT0iZXZlbm9kZCI+CiAgICAgICAgPHBhdGggZD0iTS0yLTJoMjB2MjBILTJ6Ii8+CiAgICAgICAgPHBhdGggZmlsbD0idXJsKCNhKSIgZmlsbC1ydWxlPSJub256ZXJvIiBkPSJNMTUuOTMgNS42MTRoLTIuOTQ4VjQuMTRjMC0uODE4LS42NTUtMS40NzMtMS40NzMtMS40NzNIOC41NmMtLjgxNyAwLTEuNDczLjY1NS0xLjQ3MyAxLjQ3M3YxLjQ3NEg0LjE0Yy0uODE4IDAtMS40NjYuNjU2LTEuNDY2IDEuNDc0bC0uMDA3IDguMTA1YzAgLjgxOC42NTUgMS40NzQgMS40NzMgMS40NzRoMTEuNzljLjgxOCAwIDEuNDc0LS42NTYgMS40NzQtMS40NzRWNy4wODhjMC0uODE4LS42NTYtMS40NzQtMS40NzQtMS40NzR6bS00LjQyMSAwSDguNTZWNC4xNGgyLjk0OHYxLjQ3NHoiIHRyYW5zZm9ybT0idHJhbnNsYXRlKC0yIC0yKSIvPgogICAgPC9nPgo8L3N2Zz4K\"/><a href=\"https://seller.flipkart.com/?utm_source=fkwebsite&amp;utm_medium=websitedirect\"><span class=\"hDTmm5\">Become a Seller</span></a></div><div><img src=\"data:image/svg+xml;base64,PHN2ZyB4bWxucz0iaHR0cDovL3d3dy53My5vcmcvMjAwMC9zdmciIHdpZHRoPSIxNSIgaGVpZ2h0PSIxNSIgdmlld0JveD0iMCAwIDE1IDE1Ij4KICAgIDxkZWZzPgogICAgICAgIDxsaW5lYXJHcmFkaWVudCBpZD0iYSIgeDE9IjAlIiB4Mj0iODYuODc2JSIgeTE9IjAlIiB5Mj0iODAuMjAyJSI+CiAgICAgICAgICAgIDxzdG9wIG9mZnNldD0iMCUiIHN0b3AtY29sb3I9IiNGRkQ4MDAiLz4KICAgICAgICAgICAgPHN0b3Agb2Zmc2V0PSIxMDAlIiBzdG9wLWNvbG9yPSIjRkZBRjAwIi8+CiAgICAgICAgPC9saW5lYXJHcmFkaWVudD4KICAgIDwvZGVmcz4KICAgIDxnIGZpbGw9Im5vbmUiIGZpbGwtcnVsZT0iZXZlbm9kZCI+CiAgICAgICAgPHBhdGggZD0iTS0zLTNoMjB2MjBILTN6Ii8+CiAgICAgICAgPHBhdGggZmlsbD0idXJsKCNhKSIgZmlsbC1ydWxlPSJub256ZXJvIiBkPSJNMTAuNDkyIDNDNi4zNTMgMyAzIDYuMzYgMyAxMC41YzAgNC4xNCAzLjM1MyA3LjUgNy40OTIgNy41QzE0LjY0IDE4IDE4IDE0LjY0IDE4IDEwLjUgMTggNi4zNiAxNC42NCAzIDEwLjQ5MiAzem0zLjE4IDEyTDEwLjUgMTMuMDg4IDcuMzI3IDE1bC44NC0zLjYwN0w1LjM3IDguOTdsMy42OS0uMzE1TDEwLjUgNS4yNWwxLjQ0IDMuMzk4IDMuNjkuMzE1LTIuNzk4IDIuNDIyLjg0IDMuNjE1eiIgdHJhbnNmb3JtPSJ0cmFuc2xhdGUoLTMgLTMpIi8+CiAgICA8L2c+Cjwvc3ZnPgo=\"/><a href=\"https://brands.flipkart.com\"><span class=\"hDTmm5\">Advertise</span></a></div><div><img src=\"data:image/svg+xml;base64,PHN2ZyB4bWxucz0iaHR0cDovL3d3dy53My5vcmcvMjAwMC9zdmciIHdpZHRoPSIxOCIgaGVpZ2h0PSIxNyIgdmlld0JveD0iMCAwIDE4IDE3Ij4KICAgIDxkZWZzPgogICAgICAgIDxsaW5lYXJHcmFkaWVudCBpZD0iYSIgeDE9IjAlIiB4Mj0iODYuODc2JSIgeTE9IjAlIiB5Mj0iODAuMjAyJSI+CiAgICAgICAgICAgIDxzdG9wIG9mZnNldD0iMCUiIHN0b3AtY29sb3I9IiNGRkQ4MDAiLz4KICAgICAgICAgICAgPHN0b3Agb2Zmc2V0PSIxMDAlIiBzdG9wLWNvbG9yPSIjRkZBRjAwIi8+CiAgICAgICAgPC9saW5lYXJHcmFkaWVudD4KICAgIDwvZGVmcz4KICAgIDxnIGZpbGw9Im5vbmUiIGZpbGwtcnVsZT0iZXZlbm9kZCI+CiAgICAgICAgPHBhdGggZD0iTS0xLTFoMjB2MjBILTF6Ii8+CiAgICAgICAgPHBhdGggZmlsbD0idXJsKCNhKSIgZmlsbC1ydWxlPSJub256ZXJvIiBkPSJNMTYuNjY3IDVIMTQuODVjLjA5Mi0uMjU4LjE1LS41NDIuMTUtLjgzM2EyLjQ5NyAyLjQ5NyAwIDAgMC00LjU4My0xLjM3NUwxMCAzLjM1bC0uNDE3LS41NjdBMi41MSAyLjUxIDAgMCAwIDcuNSAxLjY2N2EyLjQ5NyAyLjQ5NyAwIDAgMC0yLjUgMi41YzAgLjI5MS4wNTguNTc1LjE1LjgzM0gzLjMzM2MtLjkyNSAwLTEuNjU4Ljc0Mi0xLjY1OCAxLjY2N2wtLjAwOCA5LjE2NkExLjY2IDEuNjYgMCAwIDAgMy4zMzMgMTcuNWgxMy4zMzRhMS42NiAxLjY2IDAgMCAwIDEuNjY2LTEuNjY3VjYuNjY3QTEuNjYgMS42NiAwIDAgMCAxNi42NjcgNXptMCA2LjY2N0gzLjMzM3YtNWg0LjIzNEw1LjgzMyA5LjAyNWwxLjM1Ljk3NSAxLjk4NC0yLjdMMTAgNi4xNjdsLjgzMyAxLjEzMyAxLjk4NCAyLjcgMS4zNS0uOTc1LTEuNzM0LTIuMzU4aDQuMjM0djV6IiB0cmFuc2Zvcm09InRyYW5zbGF0ZSgtMSAtMSkiLz4KICAgIDwvZz4KPC9zdmc+Cg==\"/><a href=\"/the-gift-card-store?otracker=undefined_footer_footer_navlinks\"><span class=\"hDTmm5\">Gift Cards</span></a></div><div><img src=\"data:image/svg+xml;base64,PHN2ZyB4bWxucz0iaHR0cDovL3d3dy53My5vcmcvMjAwMC9zdmciIHdpZHRoPSIxNSIgaGVpZ2h0PSIxNSIgdmlld0JveD0iMCAwIDE1IDE1Ij4KICAgIDxkZWZzPgogICAgICAgIDxsaW5lYXJHcmFkaWVudCBpZD0iYSIgeDE9IjAlIiB4Mj0iODYuODc2JSIgeTE9IjAlIiB5Mj0iODAuMjAyJSI+CiAgICAgICAgICAgIDxzdG9wIG9mZnNldD0iMCUiIHN0b3AtY29sb3I9IiNGRkQ4MDAiLz4KICAgICAgICAgICAgPHN0b3Agb2Zmc2V0PSIxMDAlIiBzdG9wLWNvbG9yPSIjRkZBRjAwIi8+CiAgICAgICAgPC9saW5lYXJHcmFkaWVudD4KICAgIDwvZGVmcz4KICAgIDxnIGZpbGw9Im5vbmUiIGZpbGwtcnVsZT0iZXZlbm9kZCI+CiAgICAgICAgPHBhdGggZD0iTS0yLTNoMjB2MjBILTJ6Ii8+CiAgICAgICAgPHBhdGggZmlsbD0idXJsKCNhKSIgZmlsbC1ydWxlPSJub256ZXJvIiBkPSJNOS41IDNDNS4zNiAzIDIgNi4zNiAyIDEwLjUgMiAxNC42NCA1LjM2IDE4IDkuNSAxOGM0LjE0IDAgNy41LTMuMzYgNy41LTcuNUMxNyA2LjM2IDEzLjY0IDMgOS41IDN6bS43NSAxMi43NWgtMS41di0xLjVoMS41djEuNXptMS41NTMtNS44MTNsLS42NzYuNjljLS41NC41NDgtLjg3Ny45OTgtLjg3NyAyLjEyM2gtMS41di0uMzc1YzAtLjgyNS4zMzgtMS41NzUuODc3LTIuMTIzbC45My0uOTQ1Yy4yNzgtLjI3LjQ0My0uNjQ1LjQ0My0xLjA1NyAwLS44MjUtLjY3NS0xLjUtMS41LTEuNVM4IDcuNDI1IDggOC4yNUg2LjVhMyAzIDAgMSAxIDYgMGMwIC42Ni0uMjcgMS4yNi0uNjk3IDEuNjg4eiIgdHJhbnNmb3JtPSJ0cmFuc2xhdGUoLTIgLTMpIi8+CiAgICA8L2c+Cjwvc3ZnPgo=\"/><a href=\"/helpcentre?otracker=undefined_footer_footer_navlinks\"><span class=\"hDTmm5\">Help Center</span></a></div><span class=\"z3ht-w\">© 2007-<!-- -->2023<!-- --> <span>Flipkart.com</span></span><img src=\"//static-assets-web.flixcart.com/fk-p-linchpin-web/fk-cp-zion/img/payment-method_69e7ec.svg\"/></div></div></div></div></footer><div class=\"_1EcK2J _38JCdA\"><div class=\"bra6U8\"><svg class=\"_2TdLiZ\" height=\"27\" viewbox=\"0 0 16 27\" width=\"16\" xmlns=\"http://www.w3.org/2000/svg\"><path class=\"_3ZKfA2\" d=\"M16 23.207L6.11 13.161 16 3.093 12.955 0 0 13.161l12.955 13.161z\" fill=\"#fff\"></path></svg><span>Back to top</span></div></div></div></div> <script id=\"jsonLD\" nonce=\"912515025510806376\" type=\"application/ld+json\">[{\"@context\":\"http://schema.org\",\"@type\":\"Product\",\"aggregateRating\":{\"@type\":\"AggregateRating\",\"ratingValue\":4.4,\"reviewCount\":229},\"brand\":{\"@type\":\"Brand\",\"name\":\"Haldiram's\"},\"image\":\"http://rukmini1.flixcart.com/image/128/128/kgv5x8w0/snack-savourie/h/y/c/1-bhujia-sev-pouch-haldiram-s-original-imafwzuzsqa2dqfr.jpeg?q=70\",\"name\":\"Haldiram's Bhujia Sev\",\"offers\":{\"@type\":\"Offer\",\"price\":221,\"priceCurrency\":\"INR\"}},{\"@context\":\"http://schema.org\",\"@type\":\"BreadcrumbList\",\"itemListElement\":[{\"@type\":\"ListItem\",\"item\":{\"@id\":\"https://www.flipkart.com/?otracker=product_breadCrumbs_Home\",\"name\":\"Home\"},\"position\":1},{\"@type\":\"ListItem\",\"item\":{\"@id\":\"https://www.flipkart.com/grocery/pr?sid=73z&marketplace=GROCERY&otracker=product_breadCrumbs_Grocery\",\"name\":\"Grocery\"},\"position\":2},{\"@type\":\"ListItem\",\"item\":{\"@id\":\"https://www.flipkart.com/grocery/snacks-beverages/pr?sid=73z,ujs&marketplace=GROCERY&otracker=product_breadCrumbs_Snacks+%26+Beverages\",\"name\":\"Snacks & Beverages\"},\"position\":3},{\"@type\":\"ListItem\",\"item\":{\"@id\":\"https://www.flipkart.com/grocery/snacks-beverages/chips-namkeen-snacks/pr?sid=73z,ujs,dd9&marketplace=GROCERY&otracker=product_breadCrumbs_Chips%2C+Namkeen+%26+Snacks\",\"name\":\"Chips, Namkeen & Snacks\"},\"position\":4},{\"@type\":\"ListItem\",\"item\":{\"@id\":\"https://www.flipkart.com/grocery/snacks-beverages/chips-namkeen-snacks/namkeen/pr?sid=73z,ujs,dd9,w66&marketplace=GROCERY&otracker=product_breadCrumbs_Namkeen\",\"name\":\"Namkeen\"},\"position\":5},{\"@type\":\"ListItem\",\"item\":{\"@id\":\"https://www.flipkart.com/grocery/snacks-beverages/chips-namkeen-snacks/namkeen/haldiram-s~brand/pr?sid=73z,ujs,dd9,w66&marketplace=GROCERY&otracker=product_breadCrumbs_Haldiram%27s+Namkeen\",\"name\":\"Haldiram's Namkeen\"},\"position\":6},{\"@type\":\"ListItem\",\"item\":{\"@id\":\"https://www.flipkart.com/haldiram-s-bhujia-sev/p/itmcf7427b395677?otracker=product_breadCrumbs_Haldiram%27s+Bhujia+Sev+%281+kg%29\",\"name\":\"Haldiram's Bhujia Sev (1 kg)\"},\"position\":7}]}]</script> <script id=\"jsonLD\" nonce=\"912515025510806376\" type=\"application/ld+json\">[{\"@context\":\"http://schema.org\",\"@type\":\"Product\",\"aggregateRating\":{\"@type\":\"AggregateRating\",\"ratingValue\":4.4,\"reviewCount\":229},\"brand\":{\"@type\":\"Brand\",\"name\":\"Haldiram's\"},\"image\":\"http://rukmini1.flixcart.com/image/128/128/kgv5x8w0/snack-savourie/h/y/c/1-bhujia-sev-pouch-haldiram-s-original-imafwzuzsqa2dqfr.jpeg?q=70\",\"name\":\"Haldiram's Bhujia Sev\",\"offers\":{\"@type\":\"Offer\",\"price\":221,\"priceCurrency\":\"INR\"}},{\"@context\":\"http://schema.org\",\"@type\":\"BreadcrumbList\",\"itemListElement\":[{\"@type\":\"ListItem\",\"item\":{\"@id\":\"https://www.flipkart.com/?otracker=product_breadCrumbs_Home\",\"name\":\"Home\"},\"position\":1},{\"@type\":\"ListItem\",\"item\":{\"@id\":\"https://www.flipkart.com/grocery/pr?sid=73z&marketplace=GROCERY&otracker=product_breadCrumbs_Grocery\",\"name\":\"Grocery\"},\"position\":2},{\"@type\":\"ListItem\",\"item\":{\"@id\":\"https://www.flipkart.com/grocery/snacks-beverages/pr?sid=73z,ujs&marketplace=GROCERY&otracker=product_breadCrumbs_Snacks+%26+Beverages\",\"name\":\"Snacks & Beverages\"},\"position\":3},{\"@type\":\"ListItem\",\"item\":{\"@id\":\"https://www.flipkart.com/grocery/snacks-beverages/chips-namkeen-snacks/pr?sid=73z,ujs,dd9&marketplace=GROCERY&otracker=product_breadCrumbs_Chips%2C+Namkeen+%26+Snacks\",\"name\":\"Chips, Namkeen & Snacks\"},\"position\":4},{\"@type\":\"ListItem\",\"item\":{\"@id\":\"https://www.flipkart.com/grocery/snacks-beverages/chips-namkeen-snacks/namkeen/pr?sid=73z,ujs,dd9,w66&marketplace=GROCERY&otracker=product_breadCrumbs_Namkeen\",\"name\":\"Namkeen\"},\"position\":5},{\"@type\":\"ListItem\",\"item\":{\"@id\":\"https://www.flipkart.com/grocery/snacks-beverages/chips-namkeen-snacks/namkeen/haldiram-s~brand/pr?sid=73z,ujs,dd9,w66&marketplace=GROCERY&otracker=product_breadCrumbs_Haldiram%27s+Namkeen\",\"name\":\"Haldiram's Namkeen\"},\"position\":6},{\"@type\":\"ListItem\",\"item\":{\"@id\":\"https://www.flipkart.com/haldiram-s-bhujia-sev/p/itmcf7427b395677?otracker=product_breadCrumbs_Haldiram%27s+Bhujia+Sev+%281+kg%29\",\"name\":\"Haldiram's Bhujia Sev (1 kg)\"},\"position\":7}]}]</script><script nonce=\"912515025510806376\" type=\"application/ld+json\">{\n",
       "    \"@context\": \"http://schema.org\",\n",
       "    \"@type\": \"WebSite\",\n",
       "    \"url\": \"http://www.flipkart.com/\",\n",
       "    \"potentialAction\": [{\n",
       "        \"@type\": \"SearchAction\",\n",
       "        \"target\": \"http://www.flipkart.com/search?q={search_term_string}\",\n",
       "        \"query-input\": \"required name=search_term_string\"\n",
       "        },{\n",
       "        \"@type\": \"SearchAction\",\n",
       "        \"target\": \"android-app://com.flipkart.android/flipkart/de_sq_seg_-search.flipkart.com-_{search_term_string}\",\n",
       "        \"query-input\": \"required name=search_term_string\"\n",
       "    }]\n",
       "}</script><script id=\"is_script\" nonce=\"912515025510806376\">window.__INITIAL_STATE__ = {};</script> <link data-chunk=\"StickyBasket\" href=\"//static-assets-web.flixcart.com/fk-p-linchpin-web/fk-cp-zion/css/StickyBasket.chunk.a75923.css\" rel=\"stylesheet\"/> <script id=\"__LOADABLE_REQUIRED_CHUNKS__\" type=\"application/json\">[202]</script><script id=\"__LOADABLE_REQUIRED_CHUNKS___ext\" type=\"application/json\">{\"namedChunks\":[\"StickyBasket\"]}</script>\n",
       "<script async=\"\" data-chunk=\"StickyBasket\" src=\"//static-assets-web.flixcart.com/fk-p-linchpin-web/fk-cp-zion/js/StickyBasket.chunk.470166af.js\"></script><script nonce=\"912515025510806376\">window.omniture={tpv:[],tl:[]};window.omniture.trackPageView=function(){window.omniture.tpv.push(arguments)};window.omniture.trackLink=function(){window.omniture.tl.push(arguments)}\n",
       "\n",
       "    if(window.location.host === 'www.flipkart.com' || /\\.store\\.flipkart\\.com/i.test(window.location.host)){\n",
       "        window.s_account = \"flipkart-prd\"; //omniture account id\n",
       "    }else{\n",
       "        window.s_account = \"flipkart-prd-test\";\n",
       "    }\n",
       "    window.s_isDesktop = true;</script><script nonce=\"912515025510806376\">function isMobile(){\n",
       "\t\tif (!!(navigator.userAgentData && navigator.userAgentData.mobile) || navigator.userAgent.indexOf(\"Mobile\") !== -1){\n",
       "\t\t\treturn true;\n",
       "\t\t}\n",
       "\t\telse {\n",
       "\t\t\treturn false;\n",
       "\t\t}\n",
       "\t}\n",
       "\n",
       "\tif ('serviceWorker' in navigator && !isMobile()) {\n",
       "\t\tnavigator.serviceWorker.register('/sw.js').then(function(registration) {\n",
       "\t\t\tconsole.log('ServiceWorker registration successful with scope: ', registration.scope);\n",
       "\t\t\tnavigator.onLine && navigator.serviceWorker.controller && navigator.serviceWorker.controller.postMessage('BANDWIDTH_COMPUTE');\n",
       "\t\t\tnavigator.serviceWorker.addEventListener('message', function (event) {\n",
       "\t\t\t\ttry {\n",
       "\t\t\t\t\tconst bandwidthData = JSON.parse(event.data);\n",
       "\t\t\t\t\tif (bandwidthData && bandwidthData.data) {\n",
       "\t\t\t\t\t\twindow.bandwidth = bandwidthData.data.downlink + '_' + bandwidthData.data.computeMethod + '_' + bandwidthData.data.effectiveType + '_' + bandwidthData.data.type;\n",
       "\t\t\t\t\t}\n",
       "\t\t\t\t}catch(err) {\n",
       "\t\t\t\t\tconsole.error('JSON.parse failed:', err);\n",
       "\t\t\t\t}\n",
       "\t\t\t});\n",
       "\t\t})\n",
       "\t\t.catch(function(err) {\n",
       "\t\t\tconsole.error('ServiceWorker registration failed: ', err);\n",
       "\t\t});\n",
       "\t} else if('serviceWorker' in navigator && isMobile()){\n",
       "        navigator.serviceWorker.getRegistration().then(function(registration) {\n",
       "            var serviceWorkerUnregistered=false;\n",
       "            if(registration) {\n",
       "                registration.unregister();\n",
       "                serviceWorkerUnregistered=true;\n",
       "            }\n",
       "            serviceWorkerUnregistered && window.location.reload();\n",
       "        });\n",
       "    }</script> <script async=\"\" defer=\"defer\" id=\"omni_script\" nonce=\"912515025510806376\" src=\"///www/linchpin/batman-returns/omni/omni16.js\"></script> <script nonce=\"912515025510806376\">window._pxAppId = 'PXgNtTli3A';</script><script async=\"\" nonce=\"912515025510806376\" src=\"///px/gNtTli3A/init.js\"></script></body></html>"
      ]
     },
     "execution_count": 5,
     "metadata": {},
     "output_type": "execute_result"
    }
   ],
   "source": [
    "bs"
   ]
  },
  {
   "cell_type": "code",
   "execution_count": 6,
   "id": "f266e338",
   "metadata": {},
   "outputs": [
    {
     "data": {
      "text/plain": [
       "[<span class=\"B_NuCI\">Haldiram's Bhujia Sev<!-- -->  (1 kg)</span>]"
      ]
     },
     "execution_count": 6,
     "metadata": {},
     "output_type": "execute_result"
    }
   ],
   "source": [
    "bs.find_all(\"span\",class_=\"B_NuCI\")"
   ]
  },
  {
   "cell_type": "code",
   "execution_count": 7,
   "id": "754667c8",
   "metadata": {},
   "outputs": [
    {
     "data": {
      "text/plain": [
       "<span class=\"B_NuCI\">Haldiram's Bhujia Sev<!-- -->  (1 kg)</span>"
      ]
     },
     "execution_count": 7,
     "metadata": {},
     "output_type": "execute_result"
    }
   ],
   "source": [
    "bs.find_all(\"span\",class_=\"B_NuCI\")[0]"
   ]
  },
  {
   "cell_type": "code",
   "execution_count": 8,
   "id": "feddf74e",
   "metadata": {},
   "outputs": [
    {
     "data": {
      "text/plain": [
       "\"Haldiram's Bhujia Sev\\xa0\\xa0(1 kg)\""
      ]
     },
     "execution_count": 8,
     "metadata": {},
     "output_type": "execute_result"
    }
   ],
   "source": [
    "bs.find_all(\"span\",class_=\"B_NuCI\")[0].text"
   ]
  },
  {
   "cell_type": "code",
   "execution_count": 9,
   "id": "54b5b81a",
   "metadata": {},
   "outputs": [],
   "source": [
    "Q = bs.find_all(\"span\",class_=\"B_NuCI\")[0].text"
   ]
  },
  {
   "cell_type": "code",
   "execution_count": 10,
   "id": "9fcc4323",
   "metadata": {},
   "outputs": [
    {
     "data": {
      "text/plain": [
       "\"Haldiram's Bhujia Sev\\xa0\\xa0(1 kg)\""
      ]
     },
     "execution_count": 10,
     "metadata": {},
     "output_type": "execute_result"
    }
   ],
   "source": [
    "import re\n",
    "re.sub(\"\",\"\",Q)"
   ]
  },
  {
   "cell_type": "code",
   "execution_count": 11,
   "id": "afc776de",
   "metadata": {},
   "outputs": [
    {
     "data": {
      "text/plain": [
       "\"Haldiram's Bhujia Sev\\xa0\\xa0(1 kg)\""
      ]
     },
     "execution_count": 11,
     "metadata": {},
     "output_type": "execute_result"
    }
   ],
   "source": [
    "re.sub(\"\",\"\",Q)"
   ]
  },
  {
   "cell_type": "code",
   "execution_count": 12,
   "id": "73f9a7d4",
   "metadata": {},
   "outputs": [
    {
     "data": {
      "text/plain": [
       "[<div class=\"_30jeq3 _16Jk6d\">₹221</div>]"
      ]
     },
     "execution_count": 12,
     "metadata": {},
     "output_type": "execute_result"
    }
   ],
   "source": [
    "bs.find_all(\"div\",class_=\"_30jeq3 _16Jk6d\")"
   ]
  },
  {
   "cell_type": "code",
   "execution_count": 13,
   "id": "bd38b29a",
   "metadata": {},
   "outputs": [
    {
     "data": {
      "text/plain": [
       "'₹221'"
      ]
     },
     "execution_count": 13,
     "metadata": {},
     "output_type": "execute_result"
    }
   ],
   "source": [
    "Q = bs.find_all(\"div\",class_=\"_30jeq3 _16Jk6d\")[0]\n",
    "Q.text"
   ]
  },
  {
   "cell_type": "code",
   "execution_count": 14,
   "id": "32b37422",
   "metadata": {},
   "outputs": [],
   "source": [
    "def flipkart(url):\n",
    "    data = requests.get(url)\n",
    "    bs = BeautifulSoup(data.content)\n",
    "    name = bs.find_all(\"span\",class_=\"B_NuCI\")[0].text\n",
    "    price = bs.find_all(\"div\",class_=\"_30jeq3 _16Jk6d\")[0].text\n",
    "    return name,price"
   ]
  },
  {
   "cell_type": "code",
   "execution_count": 15,
   "id": "66babdff",
   "metadata": {},
   "outputs": [
    {
     "data": {
      "text/plain": [
       "(\"Haldiram's Ratlami Sev\\xa0\\xa0(200 g)\", '₹141')"
      ]
     },
     "execution_count": 15,
     "metadata": {},
     "output_type": "execute_result"
    }
   ],
   "source": [
    "flipkart(\"https://www.flipkart.com/haldiram-s-ratlami-sev/p/itm70e57a386b4af?pid=SNSETFPNZAGYWGVV&lid=LSTSNSETFPNZAGYWGVVY42GGV&marketplace=GROCERY&iid=4d381446-425f-4daf-80b5-3f30d9786db5.SNSETFPNZAGYWGVV.SEARCH\")"
   ]
  },
  {
   "cell_type": "code",
   "execution_count": 16,
   "id": "39b80136",
   "metadata": {},
   "outputs": [
    {
     "data": {
      "text/plain": [
       "('Dukes Kaju Kukkies with real taste of Kaju Cookies\\xa0\\xa0(400 g)', '₹55')"
      ]
     },
     "execution_count": 16,
     "metadata": {},
     "output_type": "execute_result"
    }
   ],
   "source": [
    "flipkart(\"https://www.flipkart.com/dukes-kaju-kukkies-real-taste-cookies/p/itm33a255e755de8?pid=CKBGFUUREZ7GAWBY&lid=LSTCKBGFUUREZ7GAWBYPRQQFP&marketplace=GROCERY&iid=415d03d8-eba2-42f1-b3d6-31543940e951.CKBGFUUREZ7GAWBY.SEARCH\")"
   ]
  },
  {
   "cell_type": "markdown",
   "id": "bd4b866b",
   "metadata": {},
   "source": [
    "# Opindia"
   ]
  },
  {
   "cell_type": "code",
   "execution_count": 17,
   "id": "0b92db64",
   "metadata": {},
   "outputs": [],
   "source": [
    "url = \"https://www.opindia.com/2022/11/\"\n",
    "data = requests.get(url)\n",
    "bs = BeautifulSoup(data.content)"
   ]
  },
  {
   "cell_type": "code",
   "execution_count": 18,
   "id": "f6658327",
   "metadata": {},
   "outputs": [],
   "source": [
    "urls = []\n",
    "for i in bs.find_all(\"h3\",class_=\"entry-title td-module-title\"):\n",
    "    q = i.find(\"a\")\n",
    "    urls.append(q['href'])"
   ]
  },
  {
   "cell_type": "code",
   "execution_count": 19,
   "id": "7a400e38",
   "metadata": {},
   "outputs": [
    {
     "data": {
      "text/plain": [
       "['https://www.opindia.com/2023/02/be-crucial-vote-bank-to-save-sanatan-dharma-kalicharan-maharaj-at-hindu-janjagruti-rally-in-baramati/',\n",
       " 'https://www.opindia.com/2023/02/are-they-ashamed-of-using-the-nehru-surname-asks-pm-modi-rajya-sabha/',\n",
       " 'https://www.opindia.com/2023/02/delhi-bjp-protests-against-aap-govt-over-snooping-by-feedback-unit/',\n",
       " 'https://www.opindia.com/2023/02/tmc-mp-mohua-moitra-refuses-to-apologize-harami-parliament-prahlad-joshi/',\n",
       " 'https://www.opindia.com/2023/02/today-everybody-is-scared-in-india-is-the-new-ghost-in-india/',\n",
       " 'https://www.opindia.com/2023/02/today-everybody-is-scared-in-india-is-the-new-ghost-in-india/',\n",
       " 'https://www.opindia.com/2023/02/the-hindu-coverage-bharat-jodo-yatra-rahul-gandhi-more-loyal/',\n",
       " 'https://www.opindia.com/2023/02/pervez-musharraf-dead-villain-india-pakistan/',\n",
       " 'https://www.opindia.com/2023/02/modi-govt-shows-courage-by-focusing-on-capex-instead-of-going-populist-in-the-budget/',\n",
       " 'https://www.opindia.com/2023/02/muslims-violent-protests-indian-subcontinent-gulf/',\n",
       " 'https://www.opindia.com/2023/02/did-pakistan-deny-airspace-to-indian-military-aircraft-for-sending-aid-for-turkey/',\n",
       " 'https://www.opindia.com/2023/02/rss-chief-did-not-mention-brahmin-caste-know-how-media-misquoted-mohan-bhagwat/',\n",
       " 'https://www.opindia.com/2023/02/tmc-mp-mahua-moitra-sbi-adani-group-fake-news/',\n",
       " 'https://www.opindia.com/2023/02/fake-news-about-caste-discrimination-dalit-woman-being-beaten-for-contaminating-river/',\n",
       " 'https://www.opindia.com/2023/02/the-hindu-coverage-bharat-jodo-yatra-rahul-gandhi-more-loyal/',\n",
       " 'https://www.opindia.com/2023/02/alt-news-the-wire-devesh-kumar-profile/',\n",
       " 'https://www.opindia.com/2023/02/big-tech-india-surveillance-mechanism/',\n",
       " 'https://www.opindia.com/2023/02/ravish-kumar-mental-health-ndtv-resignation-youtube-videos/',\n",
       " 'https://www.opindia.com/2023/02/forbes-adani-speculation-evidence-bought-own-fpo/',\n",
       " 'https://www.opindia.com/2023/02/maharashtra-bull-rans-through-people-in-a-urs-fair-in-dharashiv-14-injured/',\n",
       " 'https://www.opindia.com/2023/02/after-308-years-islamnagar-to-be-known-as-jagdishpur-once-again/',\n",
       " 'https://www.opindia.com/2023/02/only-boy-among-500-girls-at-hs-exam-centre-in-nalanda-faints/',\n",
       " 'https://www.opindia.com/2023/01/a-brief-history-of-rashtrapati-bhavans-floral-paradise-amrit-udyan/',\n",
       " 'https://www.opindia.com/2023/02/harami-meaning-origin-of-the-word-used-by-tmc-mahua-moitra/',\n",
       " 'https://www.opindia.com/2023/02/pervez-musharraf-pakistan-kargil-india-terrorists/',\n",
       " 'https://www.opindia.com/2023/02/nse-places-adani-firms-under-additional-surveillance-mechanism-framework/',\n",
       " 'https://www.opindia.com/2023/02/the-wire-article-poses-questions-on-godhra-carnage-read-answers/',\n",
       " 'https://www.opindia.com/2023/02/be-crucial-vote-bank-to-save-sanatan-dharma-kalicharan-maharaj-at-hindu-janjagruti-rally-in-baramati/',\n",
       " 'https://www.opindia.com/2023/02/are-they-ashamed-of-using-the-nehru-surname-asks-pm-modi-rajya-sabha/',\n",
       " 'https://www.opindia.com/2023/02/delhi-bjp-protests-against-aap-govt-over-snooping-by-feedback-unit/',\n",
       " 'https://www.opindia.com/2023/02/tmc-mp-mohua-moitra-refuses-to-apologize-harami-parliament-prahlad-joshi/',\n",
       " 'https://www.opindia.com/2023/02/today-everybody-is-scared-in-india-is-the-new-ghost-in-india/',\n",
       " 'https://www.opindia.com/2023/02/today-everybody-is-scared-in-india-is-the-new-ghost-in-india/',\n",
       " 'https://www.opindia.com/2023/02/the-hindu-coverage-bharat-jodo-yatra-rahul-gandhi-more-loyal/',\n",
       " 'https://www.opindia.com/2023/02/pervez-musharraf-dead-villain-india-pakistan/',\n",
       " 'https://www.opindia.com/2023/02/modi-govt-shows-courage-by-focusing-on-capex-instead-of-going-populist-in-the-budget/',\n",
       " 'https://www.opindia.com/2023/02/muslims-violent-protests-indian-subcontinent-gulf/',\n",
       " 'https://www.opindia.com/2023/02/did-pakistan-deny-airspace-to-indian-military-aircraft-for-sending-aid-for-turkey/',\n",
       " 'https://www.opindia.com/2023/02/rss-chief-did-not-mention-brahmin-caste-know-how-media-misquoted-mohan-bhagwat/',\n",
       " 'https://www.opindia.com/2023/02/tmc-mp-mahua-moitra-sbi-adani-group-fake-news/',\n",
       " 'https://www.opindia.com/2023/02/fake-news-about-caste-discrimination-dalit-woman-being-beaten-for-contaminating-river/',\n",
       " 'https://www.opindia.com/2023/02/the-hindu-coverage-bharat-jodo-yatra-rahul-gandhi-more-loyal/',\n",
       " 'https://www.opindia.com/2023/02/alt-news-the-wire-devesh-kumar-profile/',\n",
       " 'https://www.opindia.com/2023/02/big-tech-india-surveillance-mechanism/',\n",
       " 'https://www.opindia.com/2023/02/ravish-kumar-mental-health-ndtv-resignation-youtube-videos/',\n",
       " 'https://www.opindia.com/2023/02/forbes-adani-speculation-evidence-bought-own-fpo/',\n",
       " 'https://www.opindia.com/2023/02/maharashtra-bull-rans-through-people-in-a-urs-fair-in-dharashiv-14-injured/',\n",
       " 'https://www.opindia.com/2023/02/after-308-years-islamnagar-to-be-known-as-jagdishpur-once-again/',\n",
       " 'https://www.opindia.com/2023/02/only-boy-among-500-girls-at-hs-exam-centre-in-nalanda-faints/',\n",
       " 'https://www.opindia.com/2023/01/a-brief-history-of-rashtrapati-bhavans-floral-paradise-amrit-udyan/',\n",
       " 'https://www.opindia.com/2023/02/harami-meaning-origin-of-the-word-used-by-tmc-mahua-moitra/',\n",
       " 'https://www.opindia.com/2023/02/pervez-musharraf-pakistan-kargil-india-terrorists/',\n",
       " 'https://www.opindia.com/2023/02/nse-places-adani-firms-under-additional-surveillance-mechanism-framework/',\n",
       " 'https://www.opindia.com/2023/02/the-wire-article-poses-questions-on-godhra-carnage-read-answers/',\n",
       " 'https://www.opindia.com/2022/11/ravish-kumar-resigns-from-ndtv-after-adani-group-takes-over-it/',\n",
       " 'https://www.opindia.com/2022/11/maharashtra-aman-sheikh-poses-as-amrut-khairnar-to-entrap-and-abduct-a-minor-dalit-girl-from-shrirampur/',\n",
       " 'https://www.opindia.com/2022/11/nadav-lapid-accuses-naor-gilon-and-indians-of-politicising-his-comments-on-the-kashmir-files/',\n",
       " 'https://www.opindia.com/2022/11/five-cars-rented-by-us-presidents-secret-service-burst-flames-at-nantucket-airport-watch/',\n",
       " 'https://www.opindia.com/2022/11/as-sex-toy-seller-besharam-is-caught-in-controversy-is-this-business-legal/',\n",
       " 'https://www.opindia.com/2022/11/punjab-police-lathi-charge-farm-labourers-protesting-outside-cms-residence/',\n",
       " 'https://www.opindia.com/2022/11/shankersinh-vaghela-raises-aspersions-on-balakot-airstrikes-pulwama-akshardham-attack/',\n",
       " 'https://www.opindia.com/2022/11/raja-ravi-varma-foundation-denies-knowledge-of-besharam-misusing-menaka-shakuntala-painting/',\n",
       " 'https://www.opindia.com/2022/11/adult-toys-store-depicts-shakuntala-and-her-mother-menaka-as-lesbian-couple/',\n",
       " 'https://www.opindia.com/2022/11/amid-vizhinjam-port-protest-instances-where-catholic-churches-fuelled-protests-against-developmental-projects-in-india/',\n",
       " 'https://www.opindia.com/2023/02/be-crucial-vote-bank-to-save-sanatan-dharma-kalicharan-maharaj-at-hindu-janjagruti-rally-in-baramati/',\n",
       " 'https://www.opindia.com/2023/02/taliban-ttp-imran-khan-refutes-claims-assassination/',\n",
       " 'https://www.opindia.com/2023/02/samiuddin-sahil-and-8-others-held-for-birthday-bash-on-ghaziabad-elevated-road/',\n",
       " 'https://www.opindia.com/2023/02/telanga-kharia-tribal-legend-british-raj-fight-colonialism/',\n",
       " 'https://www.opindia.com/2023/02/bitcoin-scammers-opportunity-aftermath-turkey-earthquake/',\n",
       " 'https://www.opindia.com/2023/02/shraddha-walkar-murder-case-accused-aftab-poonawala/',\n",
       " 'https://www.opindia.com/2023/02/gurugram-sakhi-police-rescue-maid-brutal-assault-beaten-up/',\n",
       " 'https://www.opindia.com/2023/02/know-who-won-the-thunivu-vs-varisu-box-office-collection-battle/',\n",
       " 'https://www.opindia.com/2023/02/jill-biden-doug-emhoff-kiss-state-of-union-address-viral-pic/',\n",
       " 'https://www.opindia.com/2023/02/tmcs-mahua-moitra-uses-abusive-language-inside-parliament-unhinged-rant-as-netizens-question-her-behaviour/']"
      ]
     },
     "execution_count": 19,
     "metadata": {},
     "output_type": "execute_result"
    }
   ],
   "source": [
    "urls"
   ]
  },
  {
   "cell_type": "markdown",
   "id": "01f94a48",
   "metadata": {},
   "source": [
    "# Get Data from URL:"
   ]
  },
  {
   "cell_type": "code",
   "execution_count": 20,
   "id": "36e2b2bf",
   "metadata": {},
   "outputs": [],
   "source": [
    "url = \"https://www.opindia.com/2022/11/if-tanveer-seth-builds-tipu-statue-will-destroy-it-pramod-muthalik/\"\n"
   ]
  },
  {
   "cell_type": "code",
   "execution_count": 21,
   "id": "79384d04",
   "metadata": {},
   "outputs": [],
   "source": [
    "import requests\n",
    "data = requests.get(url)\n",
    "soup = BeautifulSoup(data.content)"
   ]
  },
  {
   "cell_type": "code",
   "execution_count": 22,
   "id": "10a52aaa",
   "metadata": {},
   "outputs": [],
   "source": [
    "title = soup.find_all(\"h1\")[0].text"
   ]
  },
  {
   "cell_type": "code",
   "execution_count": 23,
   "id": "b7e2530c",
   "metadata": {},
   "outputs": [],
   "source": [
    "date = soup.find(\"time\").text"
   ]
  },
  {
   "cell_type": "code",
   "execution_count": 24,
   "id": "e0ee5a74",
   "metadata": {},
   "outputs": [],
   "source": [
    "article = \"\"\n",
    "for i in soup.find_all(\"div\",class_=\"tdb-block-inner td-fix-index\"):\n",
    "    for j in i.find_all(\"p\"):\n",
    "        article = article + j.text"
   ]
  },
  {
   "cell_type": "code",
   "execution_count": 25,
   "id": "73fadf93",
   "metadata": {},
   "outputs": [],
   "source": [
    "def opindia_page(url):\n",
    "    import requests\n",
    "    data = requests.get(url)\n",
    "    soup = BeautifulSoup(data.content)\n",
    "    title = soup.find_all(\"h1\")[0].text\n",
    "    date = soup.find(\"time\").text\n",
    "    article = \"\"\n",
    "    for i in soup.find_all(\"div\",class_=\"tdb-block-inner td-fix-index\"):\n",
    "        for j in i.find_all(\"p\"):\n",
    "            article = article + j.text\n",
    "            \n",
    "    return date,title,article"
   ]
  },
  {
   "cell_type": "code",
   "execution_count": 26,
   "id": "a0baaf96",
   "metadata": {},
   "outputs": [],
   "source": [
    "articles = []\n",
    "titles = []\n",
    "dates = []\n",
    "for i in urls:\n",
    "    date,title,article = opindia_page(i)\n",
    "    articles.append(article)\n",
    "    titles.append(title)\n",
    "    dates.append(date)"
   ]
  },
  {
   "cell_type": "code",
   "execution_count": 27,
   "id": "7e43b80b",
   "metadata": {},
   "outputs": [
    {
     "data": {
      "text/html": [
       "<div>\n",
       "<style scoped>\n",
       "    .dataframe tbody tr th:only-of-type {\n",
       "        vertical-align: middle;\n",
       "    }\n",
       "\n",
       "    .dataframe tbody tr th {\n",
       "        vertical-align: top;\n",
       "    }\n",
       "\n",
       "    .dataframe thead th {\n",
       "        text-align: right;\n",
       "    }\n",
       "</style>\n",
       "<table border=\"1\" class=\"dataframe\">\n",
       "  <thead>\n",
       "    <tr style=\"text-align: right;\">\n",
       "      <th></th>\n",
       "      <th>Date</th>\n",
       "      <th>Title</th>\n",
       "      <th>articles</th>\n",
       "    </tr>\n",
       "  </thead>\n",
       "  <tbody>\n",
       "    <tr>\n",
       "      <th>0</th>\n",
       "      <td>9 February, 2023</td>\n",
       "      <td>‘Be crucial vote bank to save Sanatan Dharma’:...</td>\n",
       "      <td>Thousands of Hindus participated in the Hindu ...</td>\n",
       "    </tr>\n",
       "    <tr>\n",
       "      <th>1</th>\n",
       "      <td>9 February, 2023</td>\n",
       "      <td>‘Why are Nehru’s own descendants not using his...</td>\n",
       "      <td>PM Modi further said. \"If Nehru's own descenda...</td>\n",
       "    </tr>\n",
       "    <tr>\n",
       "      <th>2</th>\n",
       "      <td>9 February, 2023</td>\n",
       "      <td>Delhi BJP marches against AAP over snooping by...</td>\n",
       "      <td>It is alleged that the Feedback Unit (FBU) for...</td>\n",
       "    </tr>\n",
       "    <tr>\n",
       "      <th>3</th>\n",
       "      <td>9 February, 2023</td>\n",
       "      <td>‘Prahlad Joshi will have to wait a long time’:...</td>\n",
       "      <td>Moitra was speaking at the India Today exclusi...</td>\n",
       "    </tr>\n",
       "    <tr>\n",
       "      <th>4</th>\n",
       "      <td>8 February, 2023</td>\n",
       "      <td>‘Today everybody is scared in India’ is the ne...</td>\n",
       "      <td>If you want to make sure you want a property p...</td>\n",
       "    </tr>\n",
       "    <tr>\n",
       "      <th>...</th>\n",
       "      <td>...</td>\n",
       "      <td>...</td>\n",
       "      <td>...</td>\n",
       "    </tr>\n",
       "    <tr>\n",
       "      <th>69</th>\n",
       "      <td>8 February, 2023</td>\n",
       "      <td>‘Crushed Shraddha’s bones in a grinder and thr...</td>\n",
       "      <td>In his confession, Aftab described how he disp...</td>\n",
       "    </tr>\n",
       "    <tr>\n",
       "      <th>70</th>\n",
       "      <td>8 February, 2023</td>\n",
       "      <td>14-year-old kept as a maid, tortured with hot ...</td>\n",
       "      <td>Premiliary investigation revealed that the chi...</td>\n",
       "    </tr>\n",
       "    <tr>\n",
       "      <th>71</th>\n",
       "      <td>8 February, 2023</td>\n",
       "      <td>Thala vs Thalapathy: Know who won the Thunivu ...</td>\n",
       "      <td>Thala Ajith's 'Thunivu' has done a worldwide b...</td>\n",
       "    </tr>\n",
       "    <tr>\n",
       "      <th>72</th>\n",
       "      <td>8 February, 2023</td>\n",
       "      <td>Joe Biden’s wife kisses Kamala Harris’ husband...</td>\n",
       "      <td>On Tuesday night at the national Capitol, Pres...</td>\n",
       "    </tr>\n",
       "    <tr>\n",
       "      <th>73</th>\n",
       "      <td>8 February, 2023</td>\n",
       "      <td>‘Har*mi’: TMC’s Mahua Moitra uses abusive lang...</td>\n",
       "      <td>Replying to the statement, BJP leader Prahlad ...</td>\n",
       "    </tr>\n",
       "  </tbody>\n",
       "</table>\n",
       "<p>74 rows × 3 columns</p>\n",
       "</div>"
      ],
      "text/plain": [
       "                 Date                                              Title  \\\n",
       "0   9 February, 2023   ‘Be crucial vote bank to save Sanatan Dharma’:...   \n",
       "1   9 February, 2023   ‘Why are Nehru’s own descendants not using his...   \n",
       "2   9 February, 2023   Delhi BJP marches against AAP over snooping by...   \n",
       "3   9 February, 2023   ‘Prahlad Joshi will have to wait a long time’:...   \n",
       "4   8 February, 2023   ‘Today everybody is scared in India’ is the ne...   \n",
       "..                ...                                                ...   \n",
       "69  8 February, 2023   ‘Crushed Shraddha’s bones in a grinder and thr...   \n",
       "70  8 February, 2023   14-year-old kept as a maid, tortured with hot ...   \n",
       "71  8 February, 2023   Thala vs Thalapathy: Know who won the Thunivu ...   \n",
       "72  8 February, 2023   Joe Biden’s wife kisses Kamala Harris’ husband...   \n",
       "73  8 February, 2023   ‘Har*mi’: TMC’s Mahua Moitra uses abusive lang...   \n",
       "\n",
       "                                             articles  \n",
       "0   Thousands of Hindus participated in the Hindu ...  \n",
       "1   PM Modi further said. \"If Nehru's own descenda...  \n",
       "2   It is alleged that the Feedback Unit (FBU) for...  \n",
       "3   Moitra was speaking at the India Today exclusi...  \n",
       "4   If you want to make sure you want a property p...  \n",
       "..                                                ...  \n",
       "69  In his confession, Aftab described how he disp...  \n",
       "70  Premiliary investigation revealed that the chi...  \n",
       "71  Thala Ajith's 'Thunivu' has done a worldwide b...  \n",
       "72  On Tuesday night at the national Capitol, Pres...  \n",
       "73  Replying to the statement, BJP leader Prahlad ...  \n",
       "\n",
       "[74 rows x 3 columns]"
      ]
     },
     "execution_count": 27,
     "metadata": {},
     "output_type": "execute_result"
    }
   ],
   "source": [
    "import pandas as pd\n",
    "Q = pd.DataFrame(dates,columns=[\"Date\"])\n",
    "Q[\"Title\"]=titles\n",
    "Q[\"articles\"]=articles\n",
    "Q"
   ]
  },
  {
   "cell_type": "code",
   "execution_count": null,
   "id": "cbd6b544",
   "metadata": {},
   "outputs": [],
   "source": []
  }
 ],
 "metadata": {
  "kernelspec": {
   "display_name": "Python 3 (ipykernel)",
   "language": "python",
   "name": "python3"
  },
  "language_info": {
   "codemirror_mode": {
    "name": "ipython",
    "version": 3
   },
   "file_extension": ".py",
   "mimetype": "text/x-python",
   "name": "python",
   "nbconvert_exporter": "python",
   "pygments_lexer": "ipython3",
   "version": "3.9.12"
  }
 },
 "nbformat": 4,
 "nbformat_minor": 5
}
