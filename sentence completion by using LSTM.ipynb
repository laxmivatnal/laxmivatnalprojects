{
 "cells": [
  {
   "cell_type": "code",
   "execution_count": 1,
   "id": "e5d0c2e1",
   "metadata": {},
   "outputs": [],
   "source": [
    "from warnings import filterwarnings\n",
    "filterwarnings(\"ignore\")"
   ]
  },
  {
   "cell_type": "code",
   "execution_count": 6,
   "id": "aa556b07",
   "metadata": {},
   "outputs": [],
   "source": [
    "Q = open(\"Desktop/ds/sherlock.txt\",encoding=\"UTF-8\")\n"
   ]
  },
  {
   "cell_type": "code",
   "execution_count": 7,
   "id": "203b8429",
   "metadata": {},
   "outputs": [],
   "source": [
    "A = Q.read()"
   ]
  },
  {
   "cell_type": "code",
   "execution_count": 8,
   "id": "84a7f1b9",
   "metadata": {},
   "outputs": [],
   "source": [
    "A = A[0:5000]"
   ]
  },
  {
   "cell_type": "markdown",
   "id": "92ca4859",
   "metadata": {},
   "source": [
    "# Remove all special chars"
   ]
  },
  {
   "cell_type": "code",
   "execution_count": 9,
   "id": "76dd78fc",
   "metadata": {},
   "outputs": [
    {
     "data": {
      "text/plain": [
       "' Project Gutenbergs The Adventures of Sherlock Holmes by Arthur Conan Doyle This eBook is for the use of anyone anywhere at no cost and with almost no restrictions whatsoever You may copy it give it away or reuse it under the terms of the Project Gutenberg License included with this eBook or online '"
      ]
     },
     "execution_count": 9,
     "metadata": {},
     "output_type": "execute_result"
    }
   ],
   "source": [
    "import re\n",
    "A1 = re.sub(\"[\\n]\",\" \",A)\n",
    "A1 = re.sub(\"[.,]\",\" \",A1)\n",
    "A1 = re.sub(\"[^a-zA-Z ]\",\"\",A1)\n",
    "A1 = re.sub(\"   \",\" \",A1)\n",
    "A1 = re.sub(\"  \",\" \",A1)\n",
    "A1[0:300]"
   ]
  },
  {
   "cell_type": "markdown",
   "id": "b0b49536",
   "metadata": {},
   "source": [
    "# Tokenize and case unification"
   ]
  },
  {
   "cell_type": "code",
   "execution_count": 10,
   "id": "1263437f",
   "metadata": {},
   "outputs": [
    {
     "data": {
      "text/plain": [
       "'PROJECT GUTENBERGS THE ADVENTURES OF SHERLOCK HOLMES BY ARTHUR CONAN DOYLE THIS EBOOK IS FOR THE USE OF ANYONE ANYWHERE AT NO COST AND WITH ALMOST NO RESTRICTIONS WHATSOEVER YOU MAY COPY IT GIVE IT AWAY OR REUSE IT UNDER THE TERMS OF THEPROJECT GUTENBERG LICENSE INCLUDED WITH THIS EBOOK OR ONLINE AT'"
      ]
     },
     "execution_count": 10,
     "metadata": {},
     "output_type": "execute_result"
    }
   ],
   "source": [
    "A1 = A1.upper()\n",
    "A1 = re.sub(\" PR\",\"PR\",A1)\n",
    "A1[0:300]"
   ]
  },
  {
   "cell_type": "code",
   "execution_count": 11,
   "id": "89681d46",
   "metadata": {},
   "outputs": [],
   "source": [
    "all_words = A1.split(\" \")"
   ]
  },
  {
   "cell_type": "markdown",
   "id": "16c185c4",
   "metadata": {},
   "source": [
    "# Lets find all unique words"
   ]
  },
  {
   "cell_type": "code",
   "execution_count": 12,
   "id": "8102a762",
   "metadata": {},
   "outputs": [],
   "source": [
    "from numpy import unique\n",
    "unique_words = list(unique(all_words))"
   ]
  },
  {
   "cell_type": "markdown",
   "id": "2ce5dc25",
   "metadata": {},
   "source": [
    "# Create X and Y(initial)"
   ]
  },
  {
   "cell_type": "code",
   "execution_count": 13,
   "id": "e394c3c3",
   "metadata": {},
   "outputs": [
    {
     "data": {
      "text/plain": [
       "864"
      ]
     },
     "execution_count": 13,
     "metadata": {},
     "output_type": "execute_result"
    }
   ],
   "source": [
    "len(all_words)"
   ]
  },
  {
   "cell_type": "code",
   "execution_count": 14,
   "id": "59e410f6",
   "metadata": {},
   "outputs": [],
   "source": [
    "X1 = []\n",
    "Y1 = []\n",
    "for i in range(4,864,1):\n",
    "    w1 = all_words[i-4]\n",
    "    w2 = all_words[i-3]\n",
    "    w3 = all_words[i-2]\n",
    "    w4 = all_words[i-1]\n",
    "    pw = all_words[i]\n",
    "    X1.append(w1+\" \"+w2+\" \"+w3+\" \"+w4)\n",
    "    Y1.append(pw)"
   ]
  },
  {
   "cell_type": "code",
   "execution_count": 15,
   "id": "972f82f4",
   "metadata": {},
   "outputs": [],
   "source": [
    "import pandas as pd\n",
    "DF = pd.DataFrame([X1,Y1]).T\n",
    "DF.columns = [\"X\",\"Y\"]"
   ]
  },
  {
   "cell_type": "code",
   "execution_count": 16,
   "id": "0eddd56b",
   "metadata": {},
   "outputs": [
    {
     "data": {
      "text/html": [
       "<div>\n",
       "<style scoped>\n",
       "    .dataframe tbody tr th:only-of-type {\n",
       "        vertical-align: middle;\n",
       "    }\n",
       "\n",
       "    .dataframe tbody tr th {\n",
       "        vertical-align: top;\n",
       "    }\n",
       "\n",
       "    .dataframe thead th {\n",
       "        text-align: right;\n",
       "    }\n",
       "</style>\n",
       "<table border=\"1\" class=\"dataframe\">\n",
       "  <thead>\n",
       "    <tr style=\"text-align: right;\">\n",
       "      <th></th>\n",
       "      <th>X</th>\n",
       "      <th>Y</th>\n",
       "    </tr>\n",
       "  </thead>\n",
       "  <tbody>\n",
       "    <tr>\n",
       "      <th>0</th>\n",
       "      <td>PROJECT GUTENBERGS THE ADVENTURES</td>\n",
       "      <td>OF</td>\n",
       "    </tr>\n",
       "    <tr>\n",
       "      <th>1</th>\n",
       "      <td>GUTENBERGS THE ADVENTURES OF</td>\n",
       "      <td>SHERLOCK</td>\n",
       "    </tr>\n",
       "    <tr>\n",
       "      <th>2</th>\n",
       "      <td>THE ADVENTURES OF SHERLOCK</td>\n",
       "      <td>HOLMES</td>\n",
       "    </tr>\n",
       "    <tr>\n",
       "      <th>3</th>\n",
       "      <td>ADVENTURES OF SHERLOCK HOLMES</td>\n",
       "      <td>BY</td>\n",
       "    </tr>\n",
       "    <tr>\n",
       "      <th>4</th>\n",
       "      <td>OF SHERLOCK HOLMES BY</td>\n",
       "      <td>ARTHUR</td>\n",
       "    </tr>\n",
       "  </tbody>\n",
       "</table>\n",
       "</div>"
      ],
      "text/plain": [
       "                                   X         Y\n",
       "0  PROJECT GUTENBERGS THE ADVENTURES        OF\n",
       "1       GUTENBERGS THE ADVENTURES OF  SHERLOCK\n",
       "2         THE ADVENTURES OF SHERLOCK    HOLMES\n",
       "3      ADVENTURES OF SHERLOCK HOLMES        BY\n",
       "4              OF SHERLOCK HOLMES BY    ARTHUR"
      ]
     },
     "execution_count": 16,
     "metadata": {},
     "output_type": "execute_result"
    }
   ],
   "source": [
    "DF.head()"
   ]
  },
  {
   "cell_type": "markdown",
   "id": "a45dc970",
   "metadata": {},
   "source": [
    "# Creation of enumerates"
   ]
  },
  {
   "cell_type": "code",
   "execution_count": 17,
   "id": "81e0c65f",
   "metadata": {},
   "outputs": [],
   "source": [
    "lines = list(enumerate(X1))"
   ]
  },
  {
   "cell_type": "code",
   "execution_count": 18,
   "id": "c5621bd4",
   "metadata": {},
   "outputs": [
    {
     "data": {
      "text/plain": [
       "860"
      ]
     },
     "execution_count": 18,
     "metadata": {},
     "output_type": "execute_result"
    }
   ],
   "source": [
    "len(lines)\n"
   ]
  },
  {
   "cell_type": "code",
   "execution_count": 19,
   "id": "3c006228",
   "metadata": {},
   "outputs": [
    {
     "data": {
      "text/plain": [
       "[(0, 'PROJECT GUTENBERGS THE ADVENTURES'),\n",
       " (1, 'GUTENBERGS THE ADVENTURES OF'),\n",
       " (2, 'THE ADVENTURES OF SHERLOCK'),\n",
       " (3, 'ADVENTURES OF SHERLOCK HOLMES'),\n",
       " (4, 'OF SHERLOCK HOLMES BY'),\n",
       " (5, 'SHERLOCK HOLMES BY ARTHUR'),\n",
       " (6, 'HOLMES BY ARTHUR CONAN'),\n",
       " (7, 'BY ARTHUR CONAN DOYLE'),\n",
       " (8, 'ARTHUR CONAN DOYLE THIS'),\n",
       " (9, 'CONAN DOYLE THIS EBOOK')]"
      ]
     },
     "execution_count": 19,
     "metadata": {},
     "output_type": "execute_result"
    }
   ],
   "source": [
    "lines[0:10]"
   ]
  },
  {
   "cell_type": "code",
   "execution_count": 20,
   "id": "f8b92059",
   "metadata": {},
   "outputs": [],
   "source": [
    "uni_words_enum = list(enumerate(unique_words))"
   ]
  },
  {
   "cell_type": "code",
   "execution_count": 21,
   "id": "c0d07f61",
   "metadata": {},
   "outputs": [
    {
     "data": {
      "text/plain": [
       "[(0, ''),\n",
       " (1, 'A'),\n",
       " (2, 'ABANDONED'),\n",
       " (3, 'ABHORRENT'),\n",
       " (4, 'ABSORB'),\n",
       " (5, 'ACCOMPLISHED'),\n",
       " (6, 'ACCOUNT'),\n",
       " (7, 'ACROSS'),\n",
       " (8, 'ACTIONS'),\n",
       " (9, 'ACTIVITY')]"
      ]
     },
     "execution_count": 21,
     "metadata": {},
     "output_type": "execute_result"
    }
   ],
   "source": [
    "uni_words_enum[0:10]"
   ]
  },
  {
   "cell_type": "markdown",
   "id": "169a5a6f",
   "metadata": {},
   "source": [
    "# Creation of unique words_lookup_dictionary"
   ]
  },
  {
   "cell_type": "code",
   "execution_count": 22,
   "id": "af7d6737",
   "metadata": {},
   "outputs": [],
   "source": [
    "word_lookup = {}"
   ]
  },
  {
   "cell_type": "code",
   "execution_count": 23,
   "id": "65bc6fec",
   "metadata": {},
   "outputs": [],
   "source": [
    "for i,j in uni_words_enum:\n",
    "    word_lookup[j]=i"
   ]
  },
  {
   "cell_type": "code",
   "execution_count": 24,
   "id": "455941d2",
   "metadata": {},
   "outputs": [
    {
     "data": {
      "text/plain": [
       "8"
      ]
     },
     "execution_count": 24,
     "metadata": {},
     "output_type": "execute_result"
    }
   ],
   "source": [
    "word_lookup['ACTIONS']"
   ]
  },
  {
   "cell_type": "code",
   "execution_count": 25,
   "id": "fa977a9b",
   "metadata": {},
   "outputs": [
    {
     "data": {
      "text/plain": [
       "27"
      ]
     },
     "execution_count": 25,
     "metadata": {},
     "output_type": "execute_result"
    }
   ],
   "source": [
    "word_lookup['AND']"
   ]
  },
  {
   "cell_type": "markdown",
   "id": "3d842731",
   "metadata": {},
   "source": [
    "# Cube declaration"
   ]
  },
  {
   "cell_type": "code",
   "execution_count": 27,
   "id": "795fb2c3",
   "metadata": {},
   "outputs": [],
   "source": [
    "from numpy import zeros\n",
    "X2 = zeros(shape=(860,426,4)) # lines,uniques,sequence\n",
    "Y2 = zeros(shape=(860,426))"
   ]
  },
  {
   "cell_type": "markdown",
   "id": "da8e98df",
   "metadata": {},
   "source": [
    "# Cube formulation(X and Y)"
   ]
  },
  {
   "cell_type": "code",
   "execution_count": 28,
   "id": "22e83233",
   "metadata": {},
   "outputs": [],
   "source": [
    "for line_number,line in lines:\n",
    "    for word_no,word in list(enumerate(line.split(\" \"))):\n",
    "        X2[line_number,word_lookup[word],word_no]=1\n",
    "        #print([line_number,word_no,word_lookup[word]])"
   ]
  },
  {
   "cell_type": "code",
   "execution_count": 29,
   "id": "9e95334e",
   "metadata": {},
   "outputs": [
    {
     "data": {
      "text/plain": [
       "158"
      ]
     },
     "execution_count": 29,
     "metadata": {},
     "output_type": "execute_result"
    }
   ],
   "source": [
    "#X2  \n",
    "word_lookup[\"GUTENBERGS\"]"
   ]
  },
  {
   "cell_type": "code",
   "execution_count": 30,
   "id": "d3f32e78",
   "metadata": {},
   "outputs": [
    {
     "data": {
      "text/plain": [
       "1.0"
      ]
     },
     "execution_count": 30,
     "metadata": {},
     "output_type": "execute_result"
    }
   ],
   "source": [
    "X2[0,158,1]"
   ]
  },
  {
   "cell_type": "code",
   "execution_count": 31,
   "id": "d275c0db",
   "metadata": {},
   "outputs": [],
   "source": [
    "for i,j in enumerate(DF.Y):\n",
    "    Y2[i,word_lookup[j]]=1"
   ]
  },
  {
   "cell_type": "code",
   "execution_count": 32,
   "id": "efe0e2b4",
   "metadata": {},
   "outputs": [
    {
     "data": {
      "text/plain": [
       "(860, 426, 4)"
      ]
     },
     "execution_count": 32,
     "metadata": {},
     "output_type": "execute_result"
    }
   ],
   "source": [
    "X2.shape"
   ]
  },
  {
   "cell_type": "code",
   "execution_count": 33,
   "id": "6e5bb796",
   "metadata": {},
   "outputs": [],
   "source": [
    "from keras.models import Sequential\n",
    "from keras.layers import Dense,Dropout,LSTM\n",
    "from keras.activations import softmax\n",
    "from keras.layers.core import Activation\n",
    "nn = Sequential()\n",
    "nn.add(LSTM(426,input_shape=(426, 4)))\n",
    "nn.add(Dense(426))\n",
    "nn.add(Activation(\"softmax\"))"
   ]
  },
  {
   "cell_type": "code",
   "execution_count": 34,
   "id": "b5aed34a",
   "metadata": {},
   "outputs": [
    {
     "name": "stdout",
     "output_type": "stream",
     "text": [
      "Epoch 1/2\n",
      "22/22 [==============================] - 95s 4s/step - loss: 5.8198 - accuracy: 0.0581 - val_loss: 5.7604 - val_accuracy: 0.0407\n",
      "Epoch 2/2\n",
      "22/22 [==============================] - 89s 4s/step - loss: 5.4867 - accuracy: 0.0727 - val_loss: 5.9967 - val_accuracy: 0.0407\n"
     ]
    },
    {
     "data": {
      "text/plain": [
       "<keras.callbacks.History at 0x1b6c8347760>"
      ]
     },
     "execution_count": 34,
     "metadata": {},
     "output_type": "execute_result"
    }
   ],
   "source": [
    "nn.compile(loss=\"categorical_crossentropy\",optimizer=\"adam\",metrics=[\"accuracy\"])\n",
    "nn.fit(X2,Y2,validation_split=0.2,epochs=2)"
   ]
  },
  {
   "cell_type": "markdown",
   "id": "70a3883d",
   "metadata": {},
   "source": [
    "# CREATE ANN data for output"
   ]
  },
  {
   "cell_type": "code",
   "execution_count": 35,
   "id": "a7dec26e",
   "metadata": {},
   "outputs": [],
   "source": [
    "import numpy as np\n",
    "Xnew = np.zeros((1,426,4))"
   ]
  },
  {
   "cell_type": "code",
   "execution_count": 36,
   "id": "17911c26",
   "metadata": {},
   "outputs": [
    {
     "name": "stdout",
     "output_type": "stream",
     "text": [
      "Enter a 3 word sequence to complete: Sherlock holmes by\n"
     ]
    }
   ],
   "source": [
    "W = input(\"Enter a 3 word sequence to complete: \")\n",
    "W = W.upper()\n",
    "for word_no,word in enumerate(W.split(\" \")):\n",
    "    Xnew[0,word_lookup[word],word_no]=1"
   ]
  },
  {
   "cell_type": "code",
   "execution_count": 37,
   "id": "2c83b02c",
   "metadata": {},
   "outputs": [
    {
     "data": {
      "text/plain": [
       "426"
      ]
     },
     "execution_count": 37,
     "metadata": {},
     "output_type": "execute_result"
    }
   ],
   "source": [
    "len(unique_words)"
   ]
  },
  {
   "cell_type": "code",
   "execution_count": 39,
   "id": "579c1e39",
   "metadata": {},
   "outputs": [
    {
     "name": "stdout",
     "output_type": "stream",
     "text": [
      "1/1 [==============================] - 0s 178ms/step\n"
     ]
    }
   ],
   "source": [
    "pred = nn.predict(Xnew)"
   ]
  },
  {
   "cell_type": "code",
   "execution_count": 40,
   "id": "62f391a7",
   "metadata": {},
   "outputs": [
    {
     "data": {
      "text/html": [
       "<div>\n",
       "<style scoped>\n",
       "    .dataframe tbody tr th:only-of-type {\n",
       "        vertical-align: middle;\n",
       "    }\n",
       "\n",
       "    .dataframe tbody tr th {\n",
       "        vertical-align: top;\n",
       "    }\n",
       "\n",
       "    .dataframe thead th {\n",
       "        text-align: right;\n",
       "    }\n",
       "</style>\n",
       "<table border=\"1\" class=\"dataframe\">\n",
       "  <thead>\n",
       "    <tr style=\"text-align: right;\">\n",
       "      <th></th>\n",
       "      <th>word</th>\n",
       "      <th>prob</th>\n",
       "    </tr>\n",
       "  </thead>\n",
       "  <tbody>\n",
       "    <tr>\n",
       "      <th>0</th>\n",
       "      <td></td>\n",
       "      <td>0.007531</td>\n",
       "    </tr>\n",
       "    <tr>\n",
       "      <th>1</th>\n",
       "      <td>A</td>\n",
       "      <td>0.016895</td>\n",
       "    </tr>\n",
       "    <tr>\n",
       "      <th>2</th>\n",
       "      <td>ABANDONED</td>\n",
       "      <td>0.001516</td>\n",
       "    </tr>\n",
       "    <tr>\n",
       "      <th>3</th>\n",
       "      <td>ABHORRENT</td>\n",
       "      <td>0.001614</td>\n",
       "    </tr>\n",
       "    <tr>\n",
       "      <th>4</th>\n",
       "      <td>ABSORB</td>\n",
       "      <td>0.002449</td>\n",
       "    </tr>\n",
       "  </tbody>\n",
       "</table>\n",
       "</div>"
      ],
      "text/plain": [
       "        word      prob\n",
       "0             0.007531\n",
       "1          A  0.016895\n",
       "2  ABANDONED  0.001516\n",
       "3  ABHORRENT  0.001614\n",
       "4     ABSORB  0.002449"
      ]
     },
     "execution_count": 40,
     "metadata": {},
     "output_type": "execute_result"
    }
   ],
   "source": [
    "T = pd.DataFrame(zip(unique_words,pred[0]),columns=[\"word\",\"prob\"])\n",
    "T.head()"
   ]
  },
  {
   "cell_type": "code",
   "execution_count": 41,
   "id": "4872539e",
   "metadata": {},
   "outputs": [],
   "source": [
    "x = T.prob.max()\n",
    "final_pred = list(T[T.prob == x][\"word\"])[0]"
   ]
  },
  {
   "cell_type": "code",
   "execution_count": 42,
   "id": "c30dda2b",
   "metadata": {},
   "outputs": [
    {
     "data": {
      "text/plain": [
       "'THE'"
      ]
     },
     "execution_count": 42,
     "metadata": {},
     "output_type": "execute_result"
    }
   ],
   "source": [
    "final_pred"
   ]
  },
  {
   "cell_type": "code",
   "execution_count": null,
   "id": "95d47174",
   "metadata": {},
   "outputs": [],
   "source": []
  }
 ],
 "metadata": {
  "kernelspec": {
   "display_name": "Python 3 (ipykernel)",
   "language": "python",
   "name": "python3"
  },
  "language_info": {
   "codemirror_mode": {
    "name": "ipython",
    "version": 3
   },
   "file_extension": ".py",
   "mimetype": "text/x-python",
   "name": "python",
   "nbconvert_exporter": "python",
   "pygments_lexer": "ipython3",
   "version": "3.9.12"
  }
 },
 "nbformat": 4,
 "nbformat_minor": 5
}
